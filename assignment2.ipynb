{
 "cells": [
  {
   "cell_type": "code",
   "execution_count": 76,
   "metadata": {
    "ExecuteTime": {
     "end_time": "2023-12-01T07:26:24.417009600Z",
     "start_time": "2023-12-01T07:26:24.069009700Z"
    }
   },
   "outputs": [],
   "source": [
    "import json\n",
    "from collections import defaultdict\n",
    "from sklearn import linear_model\n",
    "from sklearn.linear_model import LinearRegression\n",
    "import numpy\n",
    "import random\n",
    "import gzip\n",
    "import dateutil.parser\n",
    "import math\n",
    "import matplotlib.pyplot as plt\n",
    "import pandas as pd\n",
    "import numpy as np\n",
    "import seaborn as sns"
   ]
  },
  {
   "cell_type": "code",
   "execution_count": 77,
   "metadata": {
    "ExecuteTime": {
     "end_time": "2023-12-01T07:26:26.625009700Z",
     "start_time": "2023-12-01T07:26:24.416010400Z"
    }
   },
   "outputs": [],
   "source": [
    "f = gzip.open(\"renttherunway_final_data.json.gz\")\n",
    "dataset = []\n",
    "for l in f:\n",
    "    dataset.append(json.loads(l))\n",
    "f.close()"
   ]
  },
  {
   "cell_type": "code",
   "execution_count": 78,
   "metadata": {
    "ExecuteTime": {
     "end_time": "2023-12-01T07:26:26.640009800Z",
     "start_time": "2023-12-01T07:26:26.630008800Z"
    }
   },
   "outputs": [
    {
     "data": {
      "text/plain": [
       "{'fit': 'fit',\n",
       " 'user_id': '420272',\n",
       " 'bust size': '34d',\n",
       " 'item_id': '2260466',\n",
       " 'weight': '137lbs',\n",
       " 'rating': '10',\n",
       " 'rented for': 'vacation',\n",
       " 'review_text': \"An adorable romper! Belt and zipper were a little hard to navigate in a full day of wear/bathroom use, but that's to be expected. Wish it had pockets, but other than that-- absolutely perfect! I got a million compliments.\",\n",
       " 'body type': 'hourglass',\n",
       " 'review_summary': 'So many compliments!',\n",
       " 'category': 'romper',\n",
       " 'height': '5\\' 8\"',\n",
       " 'size': 14,\n",
       " 'age': '28',\n",
       " 'review_date': 'April 20, 2016'}"
      ]
     },
     "execution_count": 78,
     "metadata": {},
     "output_type": "execute_result"
    }
   ],
   "source": [
    "dataset[0]"
   ]
  },
  {
   "cell_type": "markdown",
   "metadata": {
    "collapsed": false
   },
   "source": [
    "## How does the age of users influence their ratings of clothing items rented from Rent the Runway?"
   ]
  },
  {
   "cell_type": "code",
   "execution_count": 80,
   "metadata": {
    "ExecuteTime": {
     "end_time": "2023-12-01T07:26:26.783011400Z",
     "start_time": "2023-12-01T07:26:26.637010Z"
    }
   },
   "outputs": [],
   "source": [
    "clean_dataset = []\n",
    "for d in dataset:\n",
    "    if 'age' in d and 'rating' in d and str(d['age']).isdigit() and str(d['rating']).isdigit():\n",
    "        clean_dataset.append(d)"
   ]
  },
  {
   "cell_type": "code",
   "execution_count": 81,
   "metadata": {
    "ExecuteTime": {
     "end_time": "2023-12-01T07:26:26.947011200Z",
     "start_time": "2023-12-01T07:26:26.815012500Z"
    }
   },
   "outputs": [],
   "source": [
    "ages = [int(d['age']) for d in clean_dataset]\n",
    "ratings = [int(d['rating']) for d in clean_dataset]"
   ]
  },
  {
   "cell_type": "code",
   "execution_count": 82,
   "metadata": {
    "ExecuteTime": {
     "end_time": "2023-12-01T07:26:28.520009Z",
     "start_time": "2023-12-01T07:26:26.949010400Z"
    }
   },
   "outputs": [
    {
     "data": {
      "image/png": "[encoded data removed]",
      "text/plain": [
       "<Figure size 432x288 with 1 Axes>"
      ]
     },
     "metadata": {
      "needs_background": "light"
     },
     "output_type": "display_data"
    }
   ],
   "source": [
    "plt.scatter(ages, ratings, alpha=0.5)\n",
    "plt.title('Age vs Rating')\n",
    "plt.xlabel('Age')\n",
    "plt.ylabel('Rating')\n",
    "plt.show()"
   ]
  },
  {
   "cell_type": "code",
   "execution_count": 83,
   "metadata": {
    "ExecuteTime": {
     "end_time": "2023-12-01T07:26:28.776008100Z",
     "start_time": "2023-12-01T07:26:28.521008100Z"
    }
   },
   "outputs": [],
   "source": [
    "# Prepare the data for linear regression\n",
    "X = numpy.array([[1, age] for age in ages])  # Including the constant term\n",
    "y = numpy.array(ratings).reshape(-1, 1)"
   ]
  },
  {
   "cell_type": "code",
   "execution_count": 84,
   "metadata": {
    "ExecuteTime": {
     "end_time": "2023-12-01T07:26:28.824017500Z",
     "start_time": "2023-12-01T07:26:28.779011900Z"
    }
   },
   "outputs": [
    {
     "data": {
      "text/html": [
       "<style>#sk-container-id-2 {color: black;}#sk-container-id-2 pre{padding: 0;}#sk-container-id-2 div.sk-toggleable {background-color: white;}#sk-container-id-2 label.sk-toggleable__label {cursor: pointer;display: block;width: 100%;margin-bottom: 0;padding: 0.3em;box-sizing: border-box;text-align: center;}#sk-container-id-2 label.sk-toggleable__label-arrow:before {content: \"▸\";float: left;margin-right: 0.25em;color: #696969;}#sk-container-id-2 label.sk-toggleable__label-arrow:hover:before {color: black;}#sk-container-id-2 div.sk-estimator:hover label.sk-toggleable__label-arrow:before {color: black;}#sk-container-id-2 div.sk-toggleable__content {max-height: 0;max-width: 0;overflow: hidden;text-align: left;background-color: #f0f8ff;}#sk-container-id-2 div.sk-toggleable__content pre {margin: 0.2em;color: black;border-radius: 0.25em;background-color: #f0f8ff;}#sk-container-id-2 input.sk-toggleable__control:checked~div.sk-toggleable__content {max-height: 200px;max-width: 100%;overflow: auto;}#sk-container-id-2 input.sk-toggleable__control:checked~label.sk-toggleable__label-arrow:before {content: \"▾\";}#sk-container-id-2 div.sk-estimator input.sk-toggleable__control:checked~label.sk-toggleable__label {background-color: #d4ebff;}#sk-container-id-2 div.sk-label input.sk-toggleable__control:checked~label.sk-toggleable__label {background-color: #d4ebff;}#sk-container-id-2 input.sk-hidden--visually {border: 0;clip: rect(1px 1px 1px 1px);clip: rect(1px, 1px, 1px, 1px);height: 1px;margin: -1px;overflow: hidden;padding: 0;position: absolute;width: 1px;}#sk-container-id-2 div.sk-estimator {font-family: monospace;background-color: #f0f8ff;border: 1px dotted black;border-radius: 0.25em;box-sizing: border-box;margin-bottom: 0.5em;}#sk-container-id-2 div.sk-estimator:hover {background-color: #d4ebff;}#sk-container-id-2 div.sk-parallel-item::after {content: \"\";width: 100%;border-bottom: 1px solid gray;flex-grow: 1;}#sk-container-id-2 div.sk-label:hover label.sk-toggleable__label {background-color: #d4ebff;}#sk-container-id-2 div.sk-serial::before {content: \"\";position: absolute;border-left: 1px solid gray;box-sizing: border-box;top: 0;bottom: 0;left: 50%;z-index: 0;}#sk-container-id-2 div.sk-serial {display: flex;flex-direction: column;align-items: center;background-color: white;padding-right: 0.2em;padding-left: 0.2em;position: relative;}#sk-container-id-2 div.sk-item {position: relative;z-index: 1;}#sk-container-id-2 div.sk-parallel {display: flex;align-items: stretch;justify-content: center;background-color: white;position: relative;}#sk-container-id-2 div.sk-item::before, #sk-container-id-2 div.sk-parallel-item::before {content: \"\";position: absolute;border-left: 1px solid gray;box-sizing: border-box;top: 0;bottom: 0;left: 50%;z-index: -1;}#sk-container-id-2 div.sk-parallel-item {display: flex;flex-direction: column;z-index: 1;position: relative;background-color: white;}#sk-container-id-2 div.sk-parallel-item:first-child::after {align-self: flex-end;width: 50%;}#sk-container-id-2 div.sk-parallel-item:last-child::after {align-self: flex-start;width: 50%;}#sk-container-id-2 div.sk-parallel-item:only-child::after {width: 0;}#sk-container-id-2 div.sk-dashed-wrapped {border: 1px dashed gray;margin: 0 0.4em 0.5em 0.4em;box-sizing: border-box;padding-bottom: 0.4em;background-color: white;}#sk-container-id-2 div.sk-label label {font-family: monospace;font-weight: bold;display: inline-block;line-height: 1.2em;}#sk-container-id-2 div.sk-label-container {text-align: center;}#sk-container-id-2 div.sk-container {/* jupyter's `normalize.less` sets `[hidden] { display: none; }` but bootstrap.min.css set `[hidden] { display: none !important; }` so we also need the `!important` here to be able to override the default hidden behavior on the sphinx rendered scikit-learn.org. See: https://github.com/scikit-learn/scikit-learn/issues/21755 */display: inline-block !important;position: relative;}#sk-container-id-2 div.sk-text-repr-fallback {display: none;}</style><div id=\"sk-container-id-2\" class=\"sk-top-container\"><div class=\"sk-text-repr-fallback\"><pre>LinearRegression(fit_intercept=False)</pre><b>In a Jupyter environment, please rerun this cell to show the HTML representation or trust the notebook. <br />On GitHub, the HTML representation is unable to render, please try loading this page with nbviewer.org.</b></div><div class=\"sk-container\" hidden><div class=\"sk-item\"><div class=\"sk-estimator sk-toggleable\"><input class=\"sk-toggleable__control sk-hidden--visually\" id=\"sk-estimator-id-2\" type=\"checkbox\" checked><label for=\"sk-estimator-id-2\" class=\"sk-toggleable__label sk-toggleable__label-arrow\">LinearRegression</label><div class=\"sk-toggleable__content\"><pre>LinearRegression(fit_intercept=False)</pre></div></div></div></div></div>"
      ],
      "text/plain": [
       "LinearRegression(fit_intercept=False)"
      ]
     },
     "execution_count": 84,
     "metadata": {},
     "output_type": "execute_result"
    }
   ],
   "source": [
    "model = LinearRegression(fit_intercept=False)\n",
    "model.fit(X, y)"
   ]
  },
  {
   "cell_type": "code",
   "execution_count": 85,
   "metadata": {
    "ExecuteTime": {
     "end_time": "2023-12-01T07:26:28.826012600Z",
     "start_time": "2023-12-01T07:26:28.801009300Z"
    }
   },
   "outputs": [
    {
     "data": {
      "text/plain": [
       "array([[ 9.30426074e+00, -6.26219615e-03]])"
      ]
     },
     "execution_count": 85,
     "metadata": {},
     "output_type": "execute_result"
    }
   ],
   "source": [
    "theta = model.coef_\n",
    "theta"
   ]
  },
  {
   "cell_type": "code",
   "execution_count": 86,
   "metadata": {
    "ExecuteTime": {
     "end_time": "2023-12-01T07:26:30.327011500Z",
     "start_time": "2023-12-01T07:26:28.814008100Z"
    }
   },
   "outputs": [
    {
     "data": {
      "image/png": "[encoded data removed]",
      "text/plain": [
       "<Figure size 432x288 with 1 Axes>"
      ]
     },
     "metadata": {
      "needs_background": "light"
     },
     "output_type": "display_data"
    }
   ],
   "source": [
    "xplot = numpy.arange(min(ages), max(ages)+1)\n",
    "yplot = [theta[0,0] + theta[0,1]*x for x in xplot]\n",
    "plt.scatter(ages, ratings, color='grey', alpha=0.5)\n",
    "plt.plot(xplot, yplot, color='k', linestyle='--', label=f\"{theta[0,0]:.3f} + {theta[0,1]:.3f} × age\")\n",
    "plt.xlabel(\"Age\")\n",
    "plt.ylabel(\"Rating\")\n",
    "plt.title(\"Rating vs. Age\")\n",
    "plt.legend(loc='lower right')\n",
    "plt.show()"
   ]
  },
  {
   "cell_type": "code",
   "execution_count": 87,
   "metadata": {
    "ExecuteTime": {
     "end_time": "2023-12-01T07:26:31.073012900Z",
     "start_time": "2023-12-01T07:26:30.320009800Z"
    }
   },
   "outputs": [],
   "source": [
    "df = pd.DataFrame(dataset)"
   ]
  },
  {
   "cell_type": "markdown",
   "metadata": {
    "collapsed": false
   },
   "source": [
    "## How do customer preferences and satisfaction, as indicated by the fit of rented items for different purposes, correlate with the overall trend in service usage over time?"
   ]
  },
  {
   "cell_type": "code",
   "execution_count": 88,
   "metadata": {
    "ExecuteTime": {
     "end_time": "2023-12-01T07:26:31.603009300Z",
     "start_time": "2023-12-01T07:26:31.587009200Z"
    }
   },
   "outputs": [],
   "source": [
    "# Convert 'review_date' to datetime\n",
    "df['review_date'] = pd.to_datetime(df['review_date'])"
   ]
  },
  {
   "cell_type": "code",
   "execution_count": 89,
   "metadata": {
    "ExecuteTime": {
     "end_time": "2023-12-01T07:26:31.617010200Z",
     "start_time": "2023-12-01T07:26:31.603009300Z"
    }
   },
   "outputs": [],
   "source": [
    "# Set the review_date as the index\n",
    "df.set_index('review_date', inplace=True)"
   ]
  },
  {
   "cell_type": "code",
   "execution_count": 90,
   "metadata": {
    "ExecuteTime": {
     "end_time": "2023-12-01T07:26:31.862006400Z",
     "start_time": "2023-12-01T07:26:31.614018700Z"
    }
   },
   "outputs": [],
   "source": [
    "# Sort the data by date to prepare for the time series analysis\n",
    "df.sort_index(inplace=True)"
   ]
  },
  {
   "cell_type": "code",
   "execution_count": 91,
   "metadata": {
    "ExecuteTime": {
     "end_time": "2023-12-01T07:26:32.165006900Z",
     "start_time": "2023-12-01T07:26:31.864008300Z"
    }
   },
   "outputs": [],
   "source": [
    "# Aggregating data by month to see the trend more clearly\n",
    "monthly_data = df.resample('M').size()"
   ]
  },
  {
   "cell_type": "code",
   "execution_count": 92,
   "metadata": {
    "ExecuteTime": {
     "end_time": "2023-12-01T07:26:32.460129700Z",
     "start_time": "2023-12-01T07:26:32.166010700Z"
    }
   },
   "outputs": [
    {
     "data": {
      "image/png": "[encoded data removed]",
      "text/plain": [
       "<Figure size 720x360 with 1 Axes>"
      ]
     },
     "metadata": {
      "needs_background": "light"
     },
     "output_type": "display_data"
    }
   ],
   "source": [
    "# Plotting the trend of reviews over time\n",
    "plt.figure(figsize=(10, 5))\n",
    "monthly_data.plot(title='Trend of Reviews Over Time')\n",
    "plt.xlabel('Date')\n",
    "plt.ylabel('Number of Reviews')\n",
    "plt.show()"
   ]
  },
  {
   "cell_type": "code",
   "execution_count": 93,
   "metadata": {
    "ExecuteTime": {
     "end_time": "2023-12-01T07:26:32.784132600Z",
     "start_time": "2023-12-01T07:26:32.494130900Z"
    }
   },
   "outputs": [],
   "source": [
    "# Replace 'nan' string with actual NaN and drop those rows\n",
    "df['rented for'] = df['rented for'].replace('NaN', pd.NA)\n",
    "df.dropna(subset=['rented for'], inplace=True)"
   ]
  },
  {
   "cell_type": "code",
   "execution_count": 94,
   "metadata": {
    "ExecuteTime": {
     "end_time": "2023-12-01T07:26:32.962133900Z",
     "start_time": "2023-12-01T07:26:32.785134100Z"
    }
   },
   "outputs": [
    {
     "data": {
      "text/html": [
       "<div>\n",
       "<style scoped>\n",
       "    .dataframe tbody tr th:only-of-type {\n",
       "        vertical-align: middle;\n",
       "    }\n",
       "\n",
       "    .dataframe tbody tr th {\n",
       "        vertical-align: top;\n",
       "    }\n",
       "\n",
       "    .dataframe thead th {\n",
       "        text-align: right;\n",
       "    }\n",
       "</style>\n",
       "<table border=\"1\" class=\"dataframe\">\n",
       "  <thead>\n",
       "    <tr style=\"text-align: right;\">\n",
       "      <th>rented for</th>\n",
       "      <th>date</th>\n",
       "      <th>everyday</th>\n",
       "      <th>formal affair</th>\n",
       "      <th>other</th>\n",
       "      <th>party</th>\n",
       "      <th>party: cocktail</th>\n",
       "      <th>vacation</th>\n",
       "      <th>wedding</th>\n",
       "      <th>work</th>\n",
       "    </tr>\n",
       "    <tr>\n",
       "      <th>fit</th>\n",
       "      <th></th>\n",
       "      <th></th>\n",
       "      <th></th>\n",
       "      <th></th>\n",
       "      <th></th>\n",
       "      <th></th>\n",
       "      <th></th>\n",
       "      <th></th>\n",
       "      <th></th>\n",
       "    </tr>\n",
       "  </thead>\n",
       "  <tbody>\n",
       "    <tr>\n",
       "      <th>fit</th>\n",
       "      <td>5261</td>\n",
       "      <td>11608</td>\n",
       "      <td>31089</td>\n",
       "      <td>11334</td>\n",
       "      <td>25874</td>\n",
       "      <td>1</td>\n",
       "      <td>2914</td>\n",
       "      <td>43111</td>\n",
       "      <td>10857</td>\n",
       "    </tr>\n",
       "    <tr>\n",
       "      <th>large</th>\n",
       "      <td>935</td>\n",
       "      <td>3563</td>\n",
       "      <td>4451</td>\n",
       "      <td>2038</td>\n",
       "      <td>4546</td>\n",
       "      <td>0</td>\n",
       "      <td>669</td>\n",
       "      <td>6200</td>\n",
       "      <td>2304</td>\n",
       "    </tr>\n",
       "    <tr>\n",
       "      <th>small</th>\n",
       "      <td>1192</td>\n",
       "      <td>1651</td>\n",
       "      <td>4868</td>\n",
       "      <td>2016</td>\n",
       "      <td>5206</td>\n",
       "      <td>0</td>\n",
       "      <td>492</td>\n",
       "      <td>8473</td>\n",
       "      <td>1881</td>\n",
       "    </tr>\n",
       "  </tbody>\n",
       "</table>\n",
       "</div>"
      ],
      "text/plain": [
       "rented for  date  everyday  formal affair  other  party  party: cocktail  \\\n",
       "fit                                                                        \n",
       "fit         5261     11608          31089  11334  25874                1   \n",
       "large        935      3563           4451   2038   4546                0   \n",
       "small       1192      1651           4868   2016   5206                0   \n",
       "\n",
       "rented for  vacation  wedding   work  \n",
       "fit                                   \n",
       "fit             2914    43111  10857  \n",
       "large            669     6200   2304  \n",
       "small            492     8473   1881  "
      ]
     },
     "execution_count": 94,
     "metadata": {},
     "output_type": "execute_result"
    }
   ],
   "source": [
    "# We will create a cross-tabulation of the 'fit' variable with the 'rented for' category\n",
    "fit_rented_for_crosstab = pd.crosstab(df['fit'], df['rented for'])\n",
    "fit_rented_for_crosstab"
   ]
  },
  {
   "cell_type": "code",
   "execution_count": 95,
   "metadata": {
    "ExecuteTime": {
     "end_time": "2023-12-01T07:26:33.425131400Z",
     "start_time": "2023-12-01T07:26:32.949133100Z"
    }
   },
   "outputs": [
    {
     "name": "stderr",
     "output_type": "stream",
     "text": [
      "/var/folders/v7/g4ttv13d34d1qb2jx4_91hqh0000gn/T/ipykernel_29012/907045477.py:12: UserWarning: Matplotlib is currently using module://matplotlib_inline.backend_inline, which is a non-GUI backend, so cannot show the figure.\n",
      "  ax.figure.show()\n"
     ]
    },
    {
     "data": {
      "image/png": "[encoded data removed]",
      "text/plain": [
       "<Figure size 720x360 with 2 Axes>"
      ]
     },
     "metadata": {
      "needs_background": "light"
     },
     "output_type": "display_data"
    }
   ],
   "source": [
    "# Visualizing the cross-tabulation with a heatmap\n",
    "plt.figure(figsize=(10, 5))\n",
    "\n",
    "ax = sns.heatmap(fit_rented_for_crosstab, annot=True, fmt=\"d\", cmap=\"YlGnBu\")\n",
    "\n",
    "# Set title and labels\n",
    "ax.set_title('Heatmap of Fit vs. Rented For Categories')\n",
    "ax.set_xlabel('Rented For')\n",
    "ax.set_ylabel('Fit')\n",
    "\n",
    "# Display the plot\n",
    "ax.figure.show()"
   ]
  },
  {
   "cell_type": "code",
   "execution_count": null,
   "metadata": {
    "ExecuteTime": {
     "end_time": "2023-12-01T07:26:33.478130600Z",
     "start_time": "2023-12-01T07:26:33.409132500Z"
    },
    "collapsed": false
   },
   "outputs": [],
   "source": []
  },
  {
   "attachments": {},
   "cell_type": "markdown",
   "metadata": {},
   "source": [
    "## What are the distribution of rating scores?"
   ]
  },
  {
   "cell_type": "code",
   "execution_count": 96,
   "metadata": {},
   "outputs": [
    {
     "data": {
      "text/html": [
       "<div>\n",
       "<style scoped>\n",
       "    .dataframe tbody tr th:only-of-type {\n",
       "        vertical-align: middle;\n",
       "    }\n",
       "\n",
       "    .dataframe tbody tr th {\n",
       "        vertical-align: top;\n",
       "    }\n",
       "\n",
       "    .dataframe thead th {\n",
       "        text-align: right;\n",
       "    }\n",
       "</style>\n",
       "<table border=\"1\" class=\"dataframe\">\n",
       "  <thead>\n",
       "    <tr style=\"text-align: right;\">\n",
       "      <th></th>\n",
       "      <th>rating</th>\n",
       "      <th>fit</th>\n",
       "      <th>user_id</th>\n",
       "      <th>bust size</th>\n",
       "      <th>item_id</th>\n",
       "      <th>weight</th>\n",
       "      <th>rented for</th>\n",
       "      <th>review_text</th>\n",
       "      <th>body type</th>\n",
       "      <th>review_summary</th>\n",
       "      <th>category</th>\n",
       "      <th>height</th>\n",
       "      <th>size</th>\n",
       "      <th>age</th>\n",
       "    </tr>\n",
       "  </thead>\n",
       "  <tbody>\n",
       "    <tr>\n",
       "      <th>1</th>\n",
       "      <td>2</td>\n",
       "      <td>1045</td>\n",
       "      <td>1045</td>\n",
       "      <td>945</td>\n",
       "      <td>1045</td>\n",
       "      <td>856</td>\n",
       "      <td>1045</td>\n",
       "      <td>1045</td>\n",
       "      <td>988</td>\n",
       "      <td>1045</td>\n",
       "      <td>1045</td>\n",
       "      <td>1037</td>\n",
       "      <td>1045</td>\n",
       "      <td>1041</td>\n",
       "    </tr>\n",
       "    <tr>\n",
       "      <th>2</th>\n",
       "      <td>4</td>\n",
       "      <td>2791</td>\n",
       "      <td>2791</td>\n",
       "      <td>2546</td>\n",
       "      <td>2791</td>\n",
       "      <td>2401</td>\n",
       "      <td>2791</td>\n",
       "      <td>2791</td>\n",
       "      <td>2622</td>\n",
       "      <td>2791</td>\n",
       "      <td>2791</td>\n",
       "      <td>2777</td>\n",
       "      <td>2791</td>\n",
       "      <td>2777</td>\n",
       "    </tr>\n",
       "    <tr>\n",
       "      <th>3</th>\n",
       "      <td>6</td>\n",
       "      <td>10697</td>\n",
       "      <td>10697</td>\n",
       "      <td>9773</td>\n",
       "      <td>10697</td>\n",
       "      <td>9111</td>\n",
       "      <td>10697</td>\n",
       "      <td>10697</td>\n",
       "      <td>10059</td>\n",
       "      <td>10697</td>\n",
       "      <td>10697</td>\n",
       "      <td>10657</td>\n",
       "      <td>10697</td>\n",
       "      <td>10650</td>\n",
       "    </tr>\n",
       "    <tr>\n",
       "      <th>4</th>\n",
       "      <td>8</td>\n",
       "      <td>53388</td>\n",
       "      <td>53388</td>\n",
       "      <td>48383</td>\n",
       "      <td>53388</td>\n",
       "      <td>45042</td>\n",
       "      <td>53388</td>\n",
       "      <td>53388</td>\n",
       "      <td>49663</td>\n",
       "      <td>53388</td>\n",
       "      <td>53388</td>\n",
       "      <td>53203</td>\n",
       "      <td>53388</td>\n",
       "      <td>53125</td>\n",
       "    </tr>\n",
       "    <tr>\n",
       "      <th>0</th>\n",
       "      <td>10</td>\n",
       "      <td>124531</td>\n",
       "      <td>124531</td>\n",
       "      <td>112411</td>\n",
       "      <td>124531</td>\n",
       "      <td>105085</td>\n",
       "      <td>124531</td>\n",
       "      <td>124531</td>\n",
       "      <td>114483</td>\n",
       "      <td>124531</td>\n",
       "      <td>124531</td>\n",
       "      <td>124101</td>\n",
       "      <td>124531</td>\n",
       "      <td>123900</td>\n",
       "    </tr>\n",
       "  </tbody>\n",
       "</table>\n",
       "</div>"
      ],
      "text/plain": [
       "   rating     fit  user_id  bust size  item_id  weight  rented for  \\\n",
       "1       2    1045     1045        945     1045     856        1045   \n",
       "2       4    2791     2791       2546     2791    2401        2791   \n",
       "3       6   10697    10697       9773    10697    9111       10697   \n",
       "4       8   53388    53388      48383    53388   45042       53388   \n",
       "0      10  124531   124531     112411   124531  105085      124531   \n",
       "\n",
       "   review_text  body type  review_summary  category  height    size     age  \n",
       "1         1045        988            1045      1045    1037    1045    1041  \n",
       "2         2791       2622            2791      2791    2777    2791    2777  \n",
       "3        10697      10059           10697     10697   10657   10697   10650  \n",
       "4        53388      49663           53388     53388   53203   53388   53125  \n",
       "0       124531     114483          124531    124531  124101  124531  123900  "
      ]
     },
     "execution_count": 96,
     "metadata": {},
     "output_type": "execute_result"
    }
   ],
   "source": [
    "score_freq = df.groupby('rating').count().reset_index()\n",
    "score_freq['rating'] = score_freq['rating'].astype(int)\n",
    "\n",
    "score_freq = score_freq.sort_values(by='rating')\n",
    "\n",
    "score_freq"
   ]
  },
  {
   "cell_type": "code",
   "execution_count": 97,
   "metadata": {},
   "outputs": [
    {
     "data": {
      "image/png": "[encoded data removed]",
      "text/plain": [
       "<Figure size 432x288 with 1 Axes>"
      ]
     },
     "metadata": {
      "needs_background": "light"
     },
     "output_type": "display_data"
    }
   ],
   "source": [
    "plt.bar(score_freq['rating'], score_freq['user_id'], color='skyblue')\n",
    "\n",
    "# Add labels and title\n",
    "plt.title('Frequency of Ratings')\n",
    "plt.xlabel('Rating')\n",
    "plt.ylabel('Frequency')\n",
    "\n",
    "# Show the plot\n",
    "plt.show()"
   ]
  }
 ],
 "metadata": {
  "kernelspec": {
   "display_name": "Python 3",
   "language": "python",
   "name": "python3"
  },
  "language_info": {
   "codemirror_mode": {
    "name": "ipython",
    "version": 3
   },
   "file_extension": ".py",
   "mimetype": "text/x-python",
   "name": "python",
   "nbconvert_exporter": "python",
   "pygments_lexer": "ipython3",
   "version": "3.9.2"
  },
  "vscode": {
   "interpreter": {
    "hash": "aee8b7b246df8f9039afb4144a1f6fd8d2ca17a180786b69acc140d282b71a49"
   }
  }
 },
 "nbformat": 4,
 "nbformat_minor": 2
}
