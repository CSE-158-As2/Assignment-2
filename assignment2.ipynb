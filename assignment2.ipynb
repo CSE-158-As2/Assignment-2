{
 "cells": [
  {
   "cell_type": "code",
   "execution_count": 91,
   "metadata": {
    "ExecuteTime": {
     "end_time": "2023-12-04T23:21:31.340153800Z",
     "start_time": "2023-12-04T23:21:29.645159100Z"
    }
   },
   "outputs": [],
   "source": [
    "import json\n",
    "from sklearn import linear_model\n",
    "from sklearn import naive_bayes\n",
    "from sklearn import ensemble\n",
    "import numpy\n",
    "import gzip\n",
    "import matplotlib.pyplot as plt\n",
    "import pandas as pd\n",
    "import seaborn as sns\n",
    "from sklearn.model_selection import train_test_split\n",
    "from sklearn.preprocessing import LabelEncoder, StandardScaler\n",
    "from sklearn.ensemble import RandomForestClassifier, VotingClassifier, BaggingClassifier\n",
    "from sklearn.metrics import accuracy_score, classification_report, confusion_matrix\n",
    "from sklearn.preprocessing import OneHotEncoder\n",
    "from sklearn.tree import DecisionTreeClassifier\n",
    "from sklearn.svm import SVC"
   ]
  },
  {
   "cell_type": "code",
   "execution_count": 92,
   "metadata": {
    "ExecuteTime": {
     "end_time": "2023-12-04T23:21:31.955349Z",
     "start_time": "2023-12-04T23:21:29.924778700Z"
    }
   },
   "outputs": [],
   "source": [
    "f = gzip.open(\"renttherunway_final_data.json.gz\")\n",
    "dataset = []\n",
    "for l in f:\n",
    "    dataset.append(json.loads(l))\n",
    "f.close()"
   ]
  },
  {
   "cell_type": "code",
   "execution_count": 93,
   "metadata": {
    "ExecuteTime": {
     "end_time": "2023-12-04T23:21:31.987261700Z",
     "start_time": "2023-12-04T23:21:31.954346500Z"
    }
   },
   "outputs": [
    {
     "data": {
      "text/plain": [
       "{'fit': 'fit',\n",
       " 'user_id': '420272',\n",
       " 'bust size': '34d',\n",
       " 'item_id': '2260466',\n",
       " 'weight': '137lbs',\n",
       " 'rating': '10',\n",
       " 'rented for': 'vacation',\n",
       " 'review_text': \"An adorable romper! Belt and zipper were a little hard to navigate in a full day of wear/bathroom use, but that's to be expected. Wish it had pockets, but other than that-- absolutely perfect! I got a million compliments.\",\n",
       " 'body type': 'hourglass',\n",
       " 'review_summary': 'So many compliments!',\n",
       " 'category': 'romper',\n",
       " 'height': '5\\' 8\"',\n",
       " 'size': 14,\n",
       " 'age': '28',\n",
       " 'review_date': 'April 20, 2016'}"
      ]
     },
     "execution_count": 93,
     "metadata": {},
     "output_type": "execute_result"
    }
   ],
   "source": [
    "dataset[0]"
   ]
  },
  {
   "cell_type": "markdown",
   "metadata": {},
   "source": [
    "## How does the age of users influence their ratings of clothing items rented from Rent the Runway?"
   ]
  },
  {
   "cell_type": "code",
   "execution_count": 94,
   "metadata": {
    "ExecuteTime": {
     "end_time": "2023-12-04T23:21:32.103073600Z",
     "start_time": "2023-12-04T23:21:31.969253300Z"
    }
   },
   "outputs": [],
   "source": [
    "clean_dataset = []\n",
    "for d in dataset:\n",
    "    if 'age' in d and 'rating' in d and str(d['age']).isdigit() and str(d['rating']).isdigit():\n",
    "        clean_dataset.append(d)"
   ]
  },
  {
   "cell_type": "code",
   "execution_count": 95,
   "metadata": {
    "ExecuteTime": {
     "end_time": "2023-12-04T23:21:32.219365700Z",
     "start_time": "2023-12-04T23:21:32.094122800Z"
    }
   },
   "outputs": [],
   "source": [
    "ages = [int(d['age']) for d in clean_dataset]\n",
    "ratings = [int(d['rating']) for d in clean_dataset]"
   ]
  },
  {
   "cell_type": "code",
   "execution_count": 96,
   "metadata": {
    "ExecuteTime": {
     "end_time": "2023-12-04T23:21:34.603516600Z",
     "start_time": "2023-12-04T23:21:32.222366800Z"
    }
   },
   "outputs": [
    {
     "data": {
      "image/png": "[encoded data removed]",
      "text/plain": [
       "<Figure size 432x288 with 1 Axes>"
      ]
     },
     "metadata": {
      "needs_background": "light"
     },
     "output_type": "display_data"
    }
   ],
   "source": [
    "plt.scatter(ages, ratings, alpha=0.5)\n",
    "plt.title('Age vs Rating')\n",
    "plt.xlabel('Age')\n",
    "plt.ylabel('Rating')\n",
    "plt.show()"
   ]
  },
  {
   "cell_type": "code",
   "execution_count": 97,
   "metadata": {
    "ExecuteTime": {
     "end_time": "2023-12-04T23:21:34.918550200Z",
     "start_time": "2023-12-04T23:21:34.592516800Z"
    }
   },
   "outputs": [],
   "source": [
    "# Prepare the data for linear regression\n",
    "X = numpy.array([[1, age] for age in ages])  # Including the constant term\n",
    "y = numpy.array(ratings).reshape(-1, 1)"
   ]
  },
  {
   "cell_type": "code",
   "execution_count": 98,
   "metadata": {
    "ExecuteTime": {
     "end_time": "2023-12-04T23:21:34.971383600Z",
     "start_time": "2023-12-04T23:21:34.921545800Z"
    }
   },
   "outputs": [
    {
     "data": {
      "text/html": [
       "<style>#sk-container-id-4 {color: black;}#sk-container-id-4 pre{padding: 0;}#sk-container-id-4 div.sk-toggleable {background-color: white;}#sk-container-id-4 label.sk-toggleable__label {cursor: pointer;display: block;width: 100%;margin-bottom: 0;padding: 0.3em;box-sizing: border-box;text-align: center;}#sk-container-id-4 label.sk-toggleable__label-arrow:before {content: \"▸\";float: left;margin-right: 0.25em;color: #696969;}#sk-container-id-4 label.sk-toggleable__label-arrow:hover:before {color: black;}#sk-container-id-4 div.sk-estimator:hover label.sk-toggleable__label-arrow:before {color: black;}#sk-container-id-4 div.sk-toggleable__content {max-height: 0;max-width: 0;overflow: hidden;text-align: left;background-color: #f0f8ff;}#sk-container-id-4 div.sk-toggleable__content pre {margin: 0.2em;color: black;border-radius: 0.25em;background-color: #f0f8ff;}#sk-container-id-4 input.sk-toggleable__control:checked~div.sk-toggleable__content {max-height: 200px;max-width: 100%;overflow: auto;}#sk-container-id-4 input.sk-toggleable__control:checked~label.sk-toggleable__label-arrow:before {content: \"▾\";}#sk-container-id-4 div.sk-estimator input.sk-toggleable__control:checked~label.sk-toggleable__label {background-color: #d4ebff;}#sk-container-id-4 div.sk-label input.sk-toggleable__control:checked~label.sk-toggleable__label {background-color: #d4ebff;}#sk-container-id-4 input.sk-hidden--visually {border: 0;clip: rect(1px 1px 1px 1px);clip: rect(1px, 1px, 1px, 1px);height: 1px;margin: -1px;overflow: hidden;padding: 0;position: absolute;width: 1px;}#sk-container-id-4 div.sk-estimator {font-family: monospace;background-color: #f0f8ff;border: 1px dotted black;border-radius: 0.25em;box-sizing: border-box;margin-bottom: 0.5em;}#sk-container-id-4 div.sk-estimator:hover {background-color: #d4ebff;}#sk-container-id-4 div.sk-parallel-item::after {content: \"\";width: 100%;border-bottom: 1px solid gray;flex-grow: 1;}#sk-container-id-4 div.sk-label:hover label.sk-toggleable__label {background-color: #d4ebff;}#sk-container-id-4 div.sk-serial::before {content: \"\";position: absolute;border-left: 1px solid gray;box-sizing: border-box;top: 0;bottom: 0;left: 50%;z-index: 0;}#sk-container-id-4 div.sk-serial {display: flex;flex-direction: column;align-items: center;background-color: white;padding-right: 0.2em;padding-left: 0.2em;position: relative;}#sk-container-id-4 div.sk-item {position: relative;z-index: 1;}#sk-container-id-4 div.sk-parallel {display: flex;align-items: stretch;justify-content: center;background-color: white;position: relative;}#sk-container-id-4 div.sk-item::before, #sk-container-id-4 div.sk-parallel-item::before {content: \"\";position: absolute;border-left: 1px solid gray;box-sizing: border-box;top: 0;bottom: 0;left: 50%;z-index: -1;}#sk-container-id-4 div.sk-parallel-item {display: flex;flex-direction: column;z-index: 1;position: relative;background-color: white;}#sk-container-id-4 div.sk-parallel-item:first-child::after {align-self: flex-end;width: 50%;}#sk-container-id-4 div.sk-parallel-item:last-child::after {align-self: flex-start;width: 50%;}#sk-container-id-4 div.sk-parallel-item:only-child::after {width: 0;}#sk-container-id-4 div.sk-dashed-wrapped {border: 1px dashed gray;margin: 0 0.4em 0.5em 0.4em;box-sizing: border-box;padding-bottom: 0.4em;background-color: white;}#sk-container-id-4 div.sk-label label {font-family: monospace;font-weight: bold;display: inline-block;line-height: 1.2em;}#sk-container-id-4 div.sk-label-container {text-align: center;}#sk-container-id-4 div.sk-container {/* jupyter's `normalize.less` sets `[hidden] { display: none; }` but bootstrap.min.css set `[hidden] { display: none !important; }` so we also need the `!important` here to be able to override the default hidden behavior on the sphinx rendered scikit-learn.org. See: https://github.com/scikit-learn/scikit-learn/issues/21755 */display: inline-block !important;position: relative;}#sk-container-id-4 div.sk-text-repr-fallback {display: none;}</style><div id=\"sk-container-id-4\" class=\"sk-top-container\"><div class=\"sk-text-repr-fallback\"><pre>LinearRegression(fit_intercept=False)</pre><b>In a Jupyter environment, please rerun this cell to show the HTML representation or trust the notebook. <br />On GitHub, the HTML representation is unable to render, please try loading this page with nbviewer.org.</b></div><div class=\"sk-container\" hidden><div class=\"sk-item\"><div class=\"sk-estimator sk-toggleable\"><input class=\"sk-toggleable__control sk-hidden--visually\" id=\"sk-estimator-id-4\" type=\"checkbox\" checked><label for=\"sk-estimator-id-4\" class=\"sk-toggleable__label sk-toggleable__label-arrow\">LinearRegression</label><div class=\"sk-toggleable__content\"><pre>LinearRegression(fit_intercept=False)</pre></div></div></div></div></div>"
      ],
      "text/plain": [
       "LinearRegression(fit_intercept=False)"
      ]
     },
     "execution_count": 98,
     "metadata": {},
     "output_type": "execute_result"
    }
   ],
   "source": [
    "model = linear_model.LinearRegression(fit_intercept=False)\n",
    "model.fit(X, y)"
   ]
  },
  {
   "cell_type": "code",
   "execution_count": 99,
   "metadata": {
    "ExecuteTime": {
     "end_time": "2023-12-04T23:21:34.997250Z",
     "start_time": "2023-12-04T23:21:34.964366700Z"
    }
   },
   "outputs": [
    {
     "data": {
      "text/plain": [
       "array([[ 9.30426074e+00, -6.26219615e-03]])"
      ]
     },
     "execution_count": 99,
     "metadata": {},
     "output_type": "execute_result"
    }
   ],
   "source": [
    "theta = model.coef_\n",
    "theta"
   ]
  },
  {
   "cell_type": "code",
   "execution_count": 100,
   "metadata": {
    "ExecuteTime": {
     "end_time": "2023-12-04T23:21:36.689794500Z",
     "start_time": "2023-12-04T23:21:34.979227300Z"
    }
   },
   "outputs": [
    {
     "data": {
      "image/png": "[encoded data removed]",
      "text/plain": [
       "<Figure size 432x288 with 1 Axes>"
      ]
     },
     "metadata": {
      "needs_background": "light"
     },
     "output_type": "display_data"
    }
   ],
   "source": [
    "xplot = numpy.arange(min(ages), max(ages)+1)\n",
    "yplot = [theta[0,0] + theta[0,1]*x for x in xplot]\n",
    "plt.scatter(ages, ratings, color='grey', alpha=0.5)\n",
    "plt.plot(xplot, yplot, color='k', linestyle='--', label=f\"{theta[0,0]:.3f} + {theta[0,1]:.3f} × age\")\n",
    "plt.xlabel(\"Age\")\n",
    "plt.ylabel(\"Rating\")\n",
    "plt.title(\"Rating vs. Age\")\n",
    "plt.legend(loc='lower right')\n",
    "plt.show()"
   ]
  },
  {
   "cell_type": "code",
   "execution_count": 101,
   "metadata": {
    "ExecuteTime": {
     "end_time": "2023-12-04T23:21:37.516057300Z",
     "start_time": "2023-12-04T23:21:36.691580Z"
    }
   },
   "outputs": [],
   "source": [
    "df = pd.DataFrame(dataset)"
   ]
  },
  {
   "cell_type": "markdown",
   "metadata": {},
   "source": [
    "## How do customer preferences and satisfaction, as indicated by the fit of rented items for different purposes, correlate with the overall trend in service usage over time?"
   ]
  },
  {
   "cell_type": "code",
   "execution_count": 102,
   "metadata": {
    "ExecuteTime": {
     "end_time": "2023-12-04T23:21:38.076102300Z",
     "start_time": "2023-12-04T23:21:37.519270500Z"
    }
   },
   "outputs": [],
   "source": [
    "# Convert 'review_date' to datetime\n",
    "df['review_date'] = pd.to_datetime(df['review_date'])"
   ]
  },
  {
   "cell_type": "code",
   "execution_count": 103,
   "metadata": {
    "ExecuteTime": {
     "end_time": "2023-12-04T23:21:38.092253700Z",
     "start_time": "2023-12-04T23:21:38.078086300Z"
    }
   },
   "outputs": [],
   "source": [
    "# Set the review_date as the index\n",
    "df.set_index('review_date', inplace=True)"
   ]
  },
  {
   "cell_type": "code",
   "execution_count": 104,
   "metadata": {
    "ExecuteTime": {
     "end_time": "2023-12-04T23:21:38.432100300Z",
     "start_time": "2023-12-04T23:21:38.097253500Z"
    }
   },
   "outputs": [],
   "source": [
    "# Sort the data by date to prepare for the time series analysis\n",
    "df.sort_index(inplace=True)"
   ]
  },
  {
   "cell_type": "code",
   "execution_count": 105,
   "metadata": {
    "ExecuteTime": {
     "end_time": "2023-12-04T23:21:38.869615300Z",
     "start_time": "2023-12-04T23:21:38.437103700Z"
    }
   },
   "outputs": [],
   "source": [
    "# Aggregating data by month to see the trend more clearly\n",
    "monthly_data = df.resample('M').size()"
   ]
  },
  {
   "cell_type": "code",
   "execution_count": 106,
   "metadata": {
    "ExecuteTime": {
     "end_time": "2023-12-04T23:21:39.202134600Z",
     "start_time": "2023-12-04T23:21:38.874628500Z"
    }
   },
   "outputs": [
    {
     "data": {
      "image/png": "[encoded data removed]",
      "text/plain": [
       "<Figure size 720x360 with 1 Axes>"
      ]
     },
     "metadata": {
      "needs_background": "light"
     },
     "output_type": "display_data"
    }
   ],
   "source": [
    "# Plotting the trend of reviews over time\n",
    "plt.figure(figsize=(10, 5))\n",
    "monthly_data.plot(title='Trend of Reviews Over Time')\n",
    "plt.xlabel('Date')\n",
    "plt.ylabel('Number of Reviews')\n",
    "plt.show()"
   ]
  },
  {
   "cell_type": "code",
   "execution_count": 107,
   "metadata": {
    "ExecuteTime": {
     "end_time": "2023-12-04T23:21:39.619292700Z",
     "start_time": "2023-12-04T23:21:39.243707Z"
    }
   },
   "outputs": [],
   "source": [
    "# Replace 'nan' string with actual NaN and drop those rows\n",
    "df['rented for'] = df['rented for'].replace('NaN', pd.NA)\n",
    "df.dropna(subset=['rented for'], inplace=True)"
   ]
  },
  {
   "cell_type": "code",
   "execution_count": 108,
   "metadata": {
    "ExecuteTime": {
     "end_time": "2023-12-04T23:21:39.823306200Z",
     "start_time": "2023-12-04T23:21:39.618269Z"
    }
   },
   "outputs": [
    {
     "data": {
      "text/html": [
       "<div>\n",
       "<style scoped>\n",
       "    .dataframe tbody tr th:only-of-type {\n",
       "        vertical-align: middle;\n",
       "    }\n",
       "\n",
       "    .dataframe tbody tr th {\n",
       "        vertical-align: top;\n",
       "    }\n",
       "\n",
       "    .dataframe thead th {\n",
       "        text-align: right;\n",
       "    }\n",
       "</style>\n",
       "<table border=\"1\" class=\"dataframe\">\n",
       "  <thead>\n",
       "    <tr style=\"text-align: right;\">\n",
       "      <th>rented for</th>\n",
       "      <th>date</th>\n",
       "      <th>everyday</th>\n",
       "      <th>formal affair</th>\n",
       "      <th>other</th>\n",
       "      <th>party</th>\n",
       "      <th>party: cocktail</th>\n",
       "      <th>vacation</th>\n",
       "      <th>wedding</th>\n",
       "      <th>work</th>\n",
       "    </tr>\n",
       "    <tr>\n",
       "      <th>fit</th>\n",
       "      <th></th>\n",
       "      <th></th>\n",
       "      <th></th>\n",
       "      <th></th>\n",
       "      <th></th>\n",
       "      <th></th>\n",
       "      <th></th>\n",
       "      <th></th>\n",
       "      <th></th>\n",
       "    </tr>\n",
       "  </thead>\n",
       "  <tbody>\n",
       "    <tr>\n",
       "      <th>fit</th>\n",
       "      <td>5261</td>\n",
       "      <td>11608</td>\n",
       "      <td>31089</td>\n",
       "      <td>11334</td>\n",
       "      <td>25874</td>\n",
       "      <td>1</td>\n",
       "      <td>2914</td>\n",
       "      <td>43111</td>\n",
       "      <td>10857</td>\n",
       "    </tr>\n",
       "    <tr>\n",
       "      <th>large</th>\n",
       "      <td>935</td>\n",
       "      <td>3563</td>\n",
       "      <td>4451</td>\n",
       "      <td>2038</td>\n",
       "      <td>4546</td>\n",
       "      <td>0</td>\n",
       "      <td>669</td>\n",
       "      <td>6200</td>\n",
       "      <td>2304</td>\n",
       "    </tr>\n",
       "    <tr>\n",
       "      <th>small</th>\n",
       "      <td>1192</td>\n",
       "      <td>1651</td>\n",
       "      <td>4868</td>\n",
       "      <td>2016</td>\n",
       "      <td>5206</td>\n",
       "      <td>0</td>\n",
       "      <td>492</td>\n",
       "      <td>8473</td>\n",
       "      <td>1881</td>\n",
       "    </tr>\n",
       "  </tbody>\n",
       "</table>\n",
       "</div>"
      ],
      "text/plain": [
       "rented for  date  everyday  formal affair  other  party  party: cocktail  \\\n",
       "fit                                                                        \n",
       "fit         5261     11608          31089  11334  25874                1   \n",
       "large        935      3563           4451   2038   4546                0   \n",
       "small       1192      1651           4868   2016   5206                0   \n",
       "\n",
       "rented for  vacation  wedding   work  \n",
       "fit                                   \n",
       "fit             2914    43111  10857  \n",
       "large            669     6200   2304  \n",
       "small            492     8473   1881  "
      ]
     },
     "execution_count": 108,
     "metadata": {},
     "output_type": "execute_result"
    }
   ],
   "source": [
    "# We will create a cross-tabulation of the 'fit' variable with the 'rented for' category\n",
    "fit_rented_for_crosstab = pd.crosstab(df['fit'], df['rented for'])\n",
    "fit_rented_for_crosstab"
   ]
  },
  {
   "cell_type": "code",
   "execution_count": 109,
   "metadata": {
    "ExecuteTime": {
     "end_time": "2023-12-04T23:21:40.694411300Z",
     "start_time": "2023-12-04T23:21:39.824305400Z"
    }
   },
   "outputs": [
    {
     "name": "stderr",
     "output_type": "stream",
     "text": [
      "/var/folders/v7/g4ttv13d34d1qb2jx4_91hqh0000gn/T/ipykernel_73428/907045477.py:12: UserWarning: Matplotlib is currently using module://matplotlib_inline.backend_inline, which is a non-GUI backend, so cannot show the figure.\n",
      "  ax.figure.show()\n"
     ]
    },
    {
     "data": {
      "image/png": "[encoded data removed]",
      "text/plain": [
       "<Figure size 720x360 with 2 Axes>"
      ]
     },
     "metadata": {
      "needs_background": "light"
     },
     "output_type": "display_data"
    }
   ],
   "source": [
    "# Visualizing the cross-tabulation with a heatmap\n",
    "plt.figure(figsize=(10, 5))\n",
    "\n",
    "ax = sns.heatmap(fit_rented_for_crosstab, annot=True, fmt=\"d\", cmap=\"YlGnBu\")\n",
    "\n",
    "# Set title and labels\n",
    "ax.set_title('Heatmap of Fit vs. Rented For Categories')\n",
    "ax.set_xlabel('Rented For')\n",
    "ax.set_ylabel('Fit')\n",
    "\n",
    "# Display the plot\n",
    "ax.figure.show()"
   ]
  },
  {
   "cell_type": "markdown",
   "metadata": {
    "ExecuteTime": {
     "end_time": "2023-12-01T07:26:33.478130600Z",
     "start_time": "2023-12-01T07:26:33.409132500Z"
    }
   },
   "source": [
    "## How does age and review length correlate and how does it affect the overall rating of rented items?"
   ]
  },
  {
   "cell_type": "code",
   "execution_count": 110,
   "metadata": {
    "ExecuteTime": {
     "end_time": "2023-12-04T23:21:40.972411700Z",
     "start_time": "2023-12-04T23:21:40.693405800Z"
    }
   },
   "outputs": [],
   "source": [
    "clean_dataset = []\n",
    "for d in dataset:\n",
    "    if 'age' in d and 'review_text' in d and str(d['age']).isdigit():\n",
    "        clean_dataset.append(d)"
   ]
  },
  {
   "cell_type": "code",
   "execution_count": 111,
   "metadata": {
    "ExecuteTime": {
     "end_time": "2023-12-04T23:21:41.184956Z",
     "start_time": "2023-12-04T23:21:40.975412Z"
    }
   },
   "outputs": [],
   "source": [
    "ages = [int(d['age']) for d in clean_dataset]\n",
    "reviewLen = [len(d['review_text']) for d in clean_dataset]"
   ]
  },
  {
   "cell_type": "code",
   "execution_count": 112,
   "metadata": {
    "ExecuteTime": {
     "end_time": "2023-12-04T23:21:43.253081100Z",
     "start_time": "2023-12-04T23:21:41.185956700Z"
    }
   },
   "outputs": [
    {
     "data": {
      "image/png": "[encoded data removed]",
      "text/plain": [
       "<Figure size 432x288 with 1 Axes>"
      ]
     },
     "metadata": {
      "needs_background": "light"
     },
     "output_type": "display_data"
    }
   ],
   "source": [
    "plt.scatter(reviewLen, ages)\n",
    "plt.xlabel('Review Length')\n",
    "plt.ylabel('Age')\n",
    "plt.title('Review Length vs Age')\n",
    "\n",
    "plt.show()"
   ]
  },
  {
   "cell_type": "code",
   "execution_count": 113,
   "metadata": {
    "ExecuteTime": {
     "end_time": "2023-12-04T23:21:43.407030700Z",
     "start_time": "2023-12-04T23:21:43.256153100Z"
    }
   },
   "outputs": [],
   "source": [
    "clean_dataset = []\n",
    "for d in dataset:\n",
    "    if 'rating' in d and 'review_text' in d and str(d['rating']).isdigit():\n",
    "        clean_dataset.append(d)"
   ]
  },
  {
   "cell_type": "code",
   "execution_count": 114,
   "metadata": {
    "ExecuteTime": {
     "end_time": "2023-12-04T23:21:43.611877600Z",
     "start_time": "2023-12-04T23:21:43.515751400Z"
    }
   },
   "outputs": [],
   "source": [
    "ratings = [int(d['rating']) for d in clean_dataset]\n",
    "reviewLen = [len(d['review_text']) for d in clean_dataset]"
   ]
  },
  {
   "cell_type": "code",
   "execution_count": 115,
   "metadata": {
    "ExecuteTime": {
     "end_time": "2023-12-04T23:21:45.126778200Z",
     "start_time": "2023-12-04T23:21:43.614165500Z"
    }
   },
   "outputs": [
    {
     "data": {
      "image/png": "[encoded data removed]",
      "text/plain": [
       "<Figure size 432x288 with 1 Axes>"
      ]
     },
     "metadata": {
      "needs_background": "light"
     },
     "output_type": "display_data"
    }
   ],
   "source": [
    "plt.scatter(reviewLen, ratings)\n",
    "plt.xlabel('Review Length')\n",
    "plt.ylabel('Ratings')\n",
    "plt.title('Review Length vs Rating')\n",
    "\n",
    "plt.show()"
   ]
  },
  {
   "cell_type": "markdown",
   "metadata": {},
   "source": [
    "## What are the distribution of rating scores?"
   ]
  },
  {
   "cell_type": "code",
   "execution_count": 116,
   "metadata": {
    "ExecuteTime": {
     "end_time": "2023-12-04T23:21:45.562113500Z",
     "start_time": "2023-12-04T23:21:45.168278700Z"
    }
   },
   "outputs": [
    {
     "data": {
      "text/html": [
       "<div>\n",
       "<style scoped>\n",
       "    .dataframe tbody tr th:only-of-type {\n",
       "        vertical-align: middle;\n",
       "    }\n",
       "\n",
       "    .dataframe tbody tr th {\n",
       "        vertical-align: top;\n",
       "    }\n",
       "\n",
       "    .dataframe thead th {\n",
       "        text-align: right;\n",
       "    }\n",
       "</style>\n",
       "<table border=\"1\" class=\"dataframe\">\n",
       "  <thead>\n",
       "    <tr style=\"text-align: right;\">\n",
       "      <th></th>\n",
       "      <th>rating</th>\n",
       "      <th>fit</th>\n",
       "      <th>user_id</th>\n",
       "      <th>bust size</th>\n",
       "      <th>item_id</th>\n",
       "      <th>weight</th>\n",
       "      <th>rented for</th>\n",
       "      <th>review_text</th>\n",
       "      <th>body type</th>\n",
       "      <th>review_summary</th>\n",
       "      <th>category</th>\n",
       "      <th>height</th>\n",
       "      <th>size</th>\n",
       "      <th>age</th>\n",
       "    </tr>\n",
       "  </thead>\n",
       "  <tbody>\n",
       "    <tr>\n",
       "      <th>1</th>\n",
       "      <td>2</td>\n",
       "      <td>1045</td>\n",
       "      <td>1045</td>\n",
       "      <td>945</td>\n",
       "      <td>1045</td>\n",
       "      <td>856</td>\n",
       "      <td>1045</td>\n",
       "      <td>1045</td>\n",
       "      <td>988</td>\n",
       "      <td>1045</td>\n",
       "      <td>1045</td>\n",
       "      <td>1037</td>\n",
       "      <td>1045</td>\n",
       "      <td>1041</td>\n",
       "    </tr>\n",
       "    <tr>\n",
       "      <th>2</th>\n",
       "      <td>4</td>\n",
       "      <td>2791</td>\n",
       "      <td>2791</td>\n",
       "      <td>2546</td>\n",
       "      <td>2791</td>\n",
       "      <td>2401</td>\n",
       "      <td>2791</td>\n",
       "      <td>2791</td>\n",
       "      <td>2622</td>\n",
       "      <td>2791</td>\n",
       "      <td>2791</td>\n",
       "      <td>2777</td>\n",
       "      <td>2791</td>\n",
       "      <td>2777</td>\n",
       "    </tr>\n",
       "    <tr>\n",
       "      <th>3</th>\n",
       "      <td>6</td>\n",
       "      <td>10697</td>\n",
       "      <td>10697</td>\n",
       "      <td>9773</td>\n",
       "      <td>10697</td>\n",
       "      <td>9111</td>\n",
       "      <td>10697</td>\n",
       "      <td>10697</td>\n",
       "      <td>10059</td>\n",
       "      <td>10697</td>\n",
       "      <td>10697</td>\n",
       "      <td>10657</td>\n",
       "      <td>10697</td>\n",
       "      <td>10650</td>\n",
       "    </tr>\n",
       "    <tr>\n",
       "      <th>4</th>\n",
       "      <td>8</td>\n",
       "      <td>53388</td>\n",
       "      <td>53388</td>\n",
       "      <td>48383</td>\n",
       "      <td>53388</td>\n",
       "      <td>45042</td>\n",
       "      <td>53388</td>\n",
       "      <td>53388</td>\n",
       "      <td>49663</td>\n",
       "      <td>53388</td>\n",
       "      <td>53388</td>\n",
       "      <td>53203</td>\n",
       "      <td>53388</td>\n",
       "      <td>53125</td>\n",
       "    </tr>\n",
       "    <tr>\n",
       "      <th>0</th>\n",
       "      <td>10</td>\n",
       "      <td>124531</td>\n",
       "      <td>124531</td>\n",
       "      <td>112411</td>\n",
       "      <td>124531</td>\n",
       "      <td>105085</td>\n",
       "      <td>124531</td>\n",
       "      <td>124531</td>\n",
       "      <td>114483</td>\n",
       "      <td>124531</td>\n",
       "      <td>124531</td>\n",
       "      <td>124101</td>\n",
       "      <td>124531</td>\n",
       "      <td>123900</td>\n",
       "    </tr>\n",
       "  </tbody>\n",
       "</table>\n",
       "</div>"
      ],
      "text/plain": [
       "   rating     fit  user_id  bust size  item_id  weight  rented for  \\\n",
       "1       2    1045     1045        945     1045     856        1045   \n",
       "2       4    2791     2791       2546     2791    2401        2791   \n",
       "3       6   10697    10697       9773    10697    9111       10697   \n",
       "4       8   53388    53388      48383    53388   45042       53388   \n",
       "0      10  124531   124531     112411   124531  105085      124531   \n",
       "\n",
       "   review_text  body type  review_summary  category  height    size     age  \n",
       "1         1045        988            1045      1045    1037    1045    1041  \n",
       "2         2791       2622            2791      2791    2777    2791    2777  \n",
       "3        10697      10059           10697     10697   10657   10697   10650  \n",
       "4        53388      49663           53388     53388   53203   53388   53125  \n",
       "0       124531     114483          124531    124531  124101  124531  123900  "
      ]
     },
     "execution_count": 116,
     "metadata": {},
     "output_type": "execute_result"
    }
   ],
   "source": [
    "score_freq = df.groupby('rating').count().reset_index()\n",
    "score_freq['rating'] = score_freq['rating'].astype(int)\n",
    "\n",
    "score_freq = score_freq.sort_values(by='rating')\n",
    "\n",
    "score_freq"
   ]
  },
  {
   "cell_type": "code",
   "execution_count": 117,
   "metadata": {
    "ExecuteTime": {
     "end_time": "2023-12-04T23:21:45.813327200Z",
     "start_time": "2023-12-04T23:21:45.562113500Z"
    }
   },
   "outputs": [
    {
     "data": {
      "image/png": "[encoded data removed]",
      "text/plain": [
       "<Figure size 432x288 with 1 Axes>"
      ]
     },
     "metadata": {
      "needs_background": "light"
     },
     "output_type": "display_data"
    }
   ],
   "source": [
    "plt.bar(score_freq['rating'], score_freq['user_id'], color='skyblue')\n",
    "\n",
    "# Add labels and title\n",
    "plt.title('Frequency of Ratings')\n",
    "plt.xlabel('Rating')\n",
    "plt.ylabel('Frequency')\n",
    "\n",
    "# Show the plot\n",
    "plt.show()"
   ]
  },
  {
   "cell_type": "markdown",
   "metadata": {},
   "source": [
    "## What are the review averages based on age group?"
   ]
  },
  {
   "cell_type": "code",
   "execution_count": 118,
   "metadata": {
    "ExecuteTime": {
     "end_time": "2023-12-04T23:21:45.934472100Z",
     "start_time": "2023-12-04T23:21:45.815489200Z"
    }
   },
   "outputs": [
    {
     "data": {
      "text/html": [
       "<div>\n",
       "<style scoped>\n",
       "    .dataframe tbody tr th:only-of-type {\n",
       "        vertical-align: middle;\n",
       "    }\n",
       "\n",
       "    .dataframe tbody tr th {\n",
       "        vertical-align: top;\n",
       "    }\n",
       "\n",
       "    .dataframe thead th {\n",
       "        text-align: right;\n",
       "    }\n",
       "</style>\n",
       "<table border=\"1\" class=\"dataframe\">\n",
       "  <thead>\n",
       "    <tr style=\"text-align: right;\">\n",
       "      <th></th>\n",
       "      <th>fit</th>\n",
       "      <th>user_id</th>\n",
       "      <th>bust size</th>\n",
       "      <th>item_id</th>\n",
       "      <th>weight</th>\n",
       "      <th>rating</th>\n",
       "      <th>rented for</th>\n",
       "      <th>review_text</th>\n",
       "      <th>body type</th>\n",
       "      <th>review_summary</th>\n",
       "      <th>category</th>\n",
       "      <th>height</th>\n",
       "      <th>size</th>\n",
       "      <th>age</th>\n",
       "    </tr>\n",
       "    <tr>\n",
       "      <th>review_date</th>\n",
       "      <th></th>\n",
       "      <th></th>\n",
       "      <th></th>\n",
       "      <th></th>\n",
       "      <th></th>\n",
       "      <th></th>\n",
       "      <th></th>\n",
       "      <th></th>\n",
       "      <th></th>\n",
       "      <th></th>\n",
       "      <th></th>\n",
       "      <th></th>\n",
       "      <th></th>\n",
       "      <th></th>\n",
       "    </tr>\n",
       "  </thead>\n",
       "  <tbody>\n",
       "    <tr>\n",
       "      <th>2010-11-03</th>\n",
       "      <td>fit</td>\n",
       "      <td>119679</td>\n",
       "      <td>36d</td>\n",
       "      <td>125564</td>\n",
       "      <td>NaN</td>\n",
       "      <td>10</td>\n",
       "      <td>wedding</td>\n",
       "      <td>This dress is amazing! I received so many comp...</td>\n",
       "      <td>hourglass</td>\n",
       "      <td>excellent customer servuce</td>\n",
       "      <td>gown</td>\n",
       "      <td>5' 8\"</td>\n",
       "      <td>25</td>\n",
       "      <td>38</td>\n",
       "    </tr>\n",
       "    <tr>\n",
       "      <th>2011-02-14</th>\n",
       "      <td>fit</td>\n",
       "      <td>635759</td>\n",
       "      <td>36c</td>\n",
       "      <td>126335</td>\n",
       "      <td>NaN</td>\n",
       "      <td>8</td>\n",
       "      <td>formal affair</td>\n",
       "      <td>This dress was beautiful! It's a little more p...</td>\n",
       "      <td>pear</td>\n",
       "      <td>Stop, drop and stare. I got looks all night in...</td>\n",
       "      <td>dress</td>\n",
       "      <td>5' 5\"</td>\n",
       "      <td>16</td>\n",
       "      <td>38</td>\n",
       "    </tr>\n",
       "    <tr>\n",
       "      <th>2011-02-23</th>\n",
       "      <td>fit</td>\n",
       "      <td>201407</td>\n",
       "      <td>34b</td>\n",
       "      <td>126335</td>\n",
       "      <td>125lbs</td>\n",
       "      <td>10</td>\n",
       "      <td>formal affair</td>\n",
       "      <td>Amazing dress!! True to size and fit like a dr...</td>\n",
       "      <td>hourglass</td>\n",
       "      <td>The dress was super comfortable and super gorg...</td>\n",
       "      <td>dress</td>\n",
       "      <td>5' 8\"</td>\n",
       "      <td>8</td>\n",
       "      <td>32</td>\n",
       "    </tr>\n",
       "    <tr>\n",
       "      <th>2011-02-24</th>\n",
       "      <td>fit</td>\n",
       "      <td>566811</td>\n",
       "      <td>36c</td>\n",
       "      <td>125564</td>\n",
       "      <td>155lbs</td>\n",
       "      <td>10</td>\n",
       "      <td>wedding</td>\n",
       "      <td>Fabulous dress.  First time on Runway and this...</td>\n",
       "      <td>hourglass</td>\n",
       "      <td>So flattering!!</td>\n",
       "      <td>gown</td>\n",
       "      <td>5' 6\"</td>\n",
       "      <td>21</td>\n",
       "      <td>37</td>\n",
       "    </tr>\n",
       "    <tr>\n",
       "      <th>2011-03-06</th>\n",
       "      <td>fit</td>\n",
       "      <td>252516</td>\n",
       "      <td>NaN</td>\n",
       "      <td>190529</td>\n",
       "      <td>NaN</td>\n",
       "      <td>10</td>\n",
       "      <td>formal affair</td>\n",
       "      <td>I LOVED wearing this dress!!! Since I'm just 5...</td>\n",
       "      <td>hourglass</td>\n",
       "      <td>The perfect LBD.</td>\n",
       "      <td>dress</td>\n",
       "      <td>5' 0\"</td>\n",
       "      <td>14</td>\n",
       "      <td>27</td>\n",
       "    </tr>\n",
       "    <tr>\n",
       "      <th>...</th>\n",
       "      <td>...</td>\n",
       "      <td>...</td>\n",
       "      <td>...</td>\n",
       "      <td>...</td>\n",
       "      <td>...</td>\n",
       "      <td>...</td>\n",
       "      <td>...</td>\n",
       "      <td>...</td>\n",
       "      <td>...</td>\n",
       "      <td>...</td>\n",
       "      <td>...</td>\n",
       "      <td>...</td>\n",
       "      <td>...</td>\n",
       "      <td>...</td>\n",
       "    </tr>\n",
       "    <tr>\n",
       "      <th>2018-01-06</th>\n",
       "      <td>fit</td>\n",
       "      <td>900541</td>\n",
       "      <td>36dd</td>\n",
       "      <td>2559060</td>\n",
       "      <td>130lbs</td>\n",
       "      <td>10</td>\n",
       "      <td>vacation</td>\n",
       "      <td>So cute! Recommend.</td>\n",
       "      <td>hourglass</td>\n",
       "      <td>Felt great in this top. So cute! Recommend.</td>\n",
       "      <td>top</td>\n",
       "      <td>5' 3\"</td>\n",
       "      <td>8</td>\n",
       "      <td>50</td>\n",
       "    </tr>\n",
       "    <tr>\n",
       "      <th>2018-01-07</th>\n",
       "      <td>large</td>\n",
       "      <td>578131</td>\n",
       "      <td>36c</td>\n",
       "      <td>2526611</td>\n",
       "      <td>129lbs</td>\n",
       "      <td>10</td>\n",
       "      <td>party</td>\n",
       "      <td>Unlike some other reviewers, I wore a size sma...</td>\n",
       "      <td>hourglass</td>\n",
       "      <td>Such a nice skirt, easy &amp; comfy to wear.</td>\n",
       "      <td>skirt</td>\n",
       "      <td>5' 6\"</td>\n",
       "      <td>8</td>\n",
       "      <td>60</td>\n",
       "    </tr>\n",
       "    <tr>\n",
       "      <th>2018-01-07</th>\n",
       "      <td>fit</td>\n",
       "      <td>273288</td>\n",
       "      <td>NaN</td>\n",
       "      <td>2499759</td>\n",
       "      <td>192lbs</td>\n",
       "      <td>10</td>\n",
       "      <td>party</td>\n",
       "      <td>NYE 2018! My bff wore this she loved the fit, ...</td>\n",
       "      <td>NaN</td>\n",
       "      <td>BFF loves  RTR!</td>\n",
       "      <td>jumpsuit</td>\n",
       "      <td>5' 6\"</td>\n",
       "      <td>20</td>\n",
       "      <td>52</td>\n",
       "    </tr>\n",
       "    <tr>\n",
       "      <th>2018-01-07</th>\n",
       "      <td>fit</td>\n",
       "      <td>438470</td>\n",
       "      <td>32ddd/e</td>\n",
       "      <td>2726766</td>\n",
       "      <td>130lbs</td>\n",
       "      <td>10</td>\n",
       "      <td>everyday</td>\n",
       "      <td>I thought these were silk but they're actually...</td>\n",
       "      <td>hourglass</td>\n",
       "      <td>so comfy and so cute</td>\n",
       "      <td>pant</td>\n",
       "      <td>5' 6\"</td>\n",
       "      <td>8</td>\n",
       "      <td>25</td>\n",
       "    </tr>\n",
       "    <tr>\n",
       "      <th>2018-01-08</th>\n",
       "      <td>fit</td>\n",
       "      <td>820575</td>\n",
       "      <td>32c</td>\n",
       "      <td>2616422</td>\n",
       "      <td>117lbs</td>\n",
       "      <td>10</td>\n",
       "      <td>date</td>\n",
       "      <td>The silver flecks make it great for a night ou...</td>\n",
       "      <td>petite</td>\n",
       "      <td>Cute and versitile</td>\n",
       "      <td>top</td>\n",
       "      <td>5' 4\"</td>\n",
       "      <td>4</td>\n",
       "      <td>39</td>\n",
       "    </tr>\n",
       "  </tbody>\n",
       "</table>\n",
       "<p>192534 rows × 14 columns</p>\n",
       "</div>"
      ],
      "text/plain": [
       "               fit user_id bust size  item_id  weight rating     rented for  \\\n",
       "review_date                                                                   \n",
       "2010-11-03     fit  119679       36d   125564     NaN     10        wedding   \n",
       "2011-02-14     fit  635759       36c   126335     NaN      8  formal affair   \n",
       "2011-02-23     fit  201407       34b   126335  125lbs     10  formal affair   \n",
       "2011-02-24     fit  566811       36c   125564  155lbs     10        wedding   \n",
       "2011-03-06     fit  252516       NaN   190529     NaN     10  formal affair   \n",
       "...            ...     ...       ...      ...     ...    ...            ...   \n",
       "2018-01-06     fit  900541      36dd  2559060  130lbs     10       vacation   \n",
       "2018-01-07   large  578131       36c  2526611  129lbs     10          party   \n",
       "2018-01-07     fit  273288       NaN  2499759  192lbs     10          party   \n",
       "2018-01-07     fit  438470   32ddd/e  2726766  130lbs     10       everyday   \n",
       "2018-01-08     fit  820575       32c  2616422  117lbs     10           date   \n",
       "\n",
       "                                                   review_text  body type  \\\n",
       "review_date                                                                 \n",
       "2010-11-03   This dress is amazing! I received so many comp...  hourglass   \n",
       "2011-02-14   This dress was beautiful! It's a little more p...       pear   \n",
       "2011-02-23   Amazing dress!! True to size and fit like a dr...  hourglass   \n",
       "2011-02-24   Fabulous dress.  First time on Runway and this...  hourglass   \n",
       "2011-03-06   I LOVED wearing this dress!!! Since I'm just 5...  hourglass   \n",
       "...                                                        ...        ...   \n",
       "2018-01-06                                So cute! Recommend.   hourglass   \n",
       "2018-01-07   Unlike some other reviewers, I wore a size sma...  hourglass   \n",
       "2018-01-07   NYE 2018! My bff wore this she loved the fit, ...        NaN   \n",
       "2018-01-07   I thought these were silk but they're actually...  hourglass   \n",
       "2018-01-08   The silver flecks make it great for a night ou...     petite   \n",
       "\n",
       "                                                review_summary  category  \\\n",
       "review_date                                                                \n",
       "2010-11-03                          excellent customer servuce      gown   \n",
       "2011-02-14   Stop, drop and stare. I got looks all night in...     dress   \n",
       "2011-02-23   The dress was super comfortable and super gorg...     dress   \n",
       "2011-02-24                                   So flattering!!        gown   \n",
       "2011-03-06                                   The perfect LBD.      dress   \n",
       "...                                                        ...       ...   \n",
       "2018-01-06        Felt great in this top. So cute! Recommend.        top   \n",
       "2018-01-07            Such a nice skirt, easy & comfy to wear.     skirt   \n",
       "2018-01-07                                     BFF loves  RTR!  jumpsuit   \n",
       "2018-01-07                                so comfy and so cute      pant   \n",
       "2018-01-08                                  Cute and versitile       top   \n",
       "\n",
       "            height  size age  \n",
       "review_date                   \n",
       "2010-11-03   5' 8\"    25  38  \n",
       "2011-02-14   5' 5\"    16  38  \n",
       "2011-02-23   5' 8\"     8  32  \n",
       "2011-02-24   5' 6\"    21  37  \n",
       "2011-03-06   5' 0\"    14  27  \n",
       "...            ...   ...  ..  \n",
       "2018-01-06   5' 3\"     8  50  \n",
       "2018-01-07   5' 6\"     8  60  \n",
       "2018-01-07   5' 6\"    20  52  \n",
       "2018-01-07   5' 6\"     8  25  \n",
       "2018-01-08   5' 4\"     4  39  \n",
       "\n",
       "[192534 rows x 14 columns]"
      ]
     },
     "execution_count": 118,
     "metadata": {},
     "output_type": "execute_result"
    }
   ],
   "source": [
    "df"
   ]
  },
  {
   "cell_type": "code",
   "execution_count": 119,
   "metadata": {
    "ExecuteTime": {
     "end_time": "2023-12-04T23:21:46.502116Z",
     "start_time": "2023-12-04T23:21:45.865917300Z"
    }
   },
   "outputs": [
    {
     "data": {
      "text/html": [
       "<div>\n",
       "<style scoped>\n",
       "    .dataframe tbody tr th:only-of-type {\n",
       "        vertical-align: middle;\n",
       "    }\n",
       "\n",
       "    .dataframe tbody tr th {\n",
       "        vertical-align: top;\n",
       "    }\n",
       "\n",
       "    .dataframe thead th {\n",
       "        text-align: right;\n",
       "    }\n",
       "</style>\n",
       "<table border=\"1\" class=\"dataframe\">\n",
       "  <thead>\n",
       "    <tr style=\"text-align: right;\">\n",
       "      <th></th>\n",
       "      <th>age</th>\n",
       "      <th>rating</th>\n",
       "    </tr>\n",
       "  </thead>\n",
       "  <tbody>\n",
       "    <tr>\n",
       "      <th>0</th>\n",
       "      <td>0.0</td>\n",
       "      <td>9.333333</td>\n",
       "    </tr>\n",
       "    <tr>\n",
       "      <th>1</th>\n",
       "      <td>1.0</td>\n",
       "      <td>9.000000</td>\n",
       "    </tr>\n",
       "    <tr>\n",
       "      <th>2</th>\n",
       "      <td>2.0</td>\n",
       "      <td>9.800000</td>\n",
       "    </tr>\n",
       "    <tr>\n",
       "      <th>3</th>\n",
       "      <td>3.0</td>\n",
       "      <td>9.500000</td>\n",
       "    </tr>\n",
       "    <tr>\n",
       "      <th>4</th>\n",
       "      <td>4.0</td>\n",
       "      <td>10.000000</td>\n",
       "    </tr>\n",
       "    <tr>\n",
       "      <th>...</th>\n",
       "      <td>...</td>\n",
       "      <td>...</td>\n",
       "    </tr>\n",
       "    <tr>\n",
       "      <th>85</th>\n",
       "      <td>112.0</td>\n",
       "      <td>8.000000</td>\n",
       "    </tr>\n",
       "    <tr>\n",
       "      <th>86</th>\n",
       "      <td>113.0</td>\n",
       "      <td>8.000000</td>\n",
       "    </tr>\n",
       "    <tr>\n",
       "      <th>87</th>\n",
       "      <td>115.0</td>\n",
       "      <td>8.000000</td>\n",
       "    </tr>\n",
       "    <tr>\n",
       "      <th>88</th>\n",
       "      <td>116.0</td>\n",
       "      <td>9.444444</td>\n",
       "    </tr>\n",
       "    <tr>\n",
       "      <th>89</th>\n",
       "      <td>117.0</td>\n",
       "      <td>9.384615</td>\n",
       "    </tr>\n",
       "  </tbody>\n",
       "</table>\n",
       "<p>90 rows × 2 columns</p>\n",
       "</div>"
      ],
      "text/plain": [
       "      age     rating\n",
       "0     0.0   9.333333\n",
       "1     1.0   9.000000\n",
       "2     2.0   9.800000\n",
       "3     3.0   9.500000\n",
       "4     4.0  10.000000\n",
       "..    ...        ...\n",
       "85  112.0   8.000000\n",
       "86  113.0   8.000000\n",
       "87  115.0   8.000000\n",
       "88  116.0   9.444444\n",
       "89  117.0   9.384615\n",
       "\n",
       "[90 rows x 2 columns]"
      ]
     },
     "execution_count": 119,
     "metadata": {},
     "output_type": "execute_result"
    }
   ],
   "source": [
    "df['rating'] = pd.to_numeric(df['rating'], errors='coerce')\n",
    "df['age'] = pd.to_numeric(df['age'], errors='coerce')\n",
    "\n",
    "df['rating'].fillna(df['rating'].mean(), inplace=True)\n",
    "df['age'].fillna(df['age'].mean(), inplace=True)\n",
    "\n",
    "age_mean = df.groupby('age')['rating'].mean().reset_index()\n",
    "age_mean = age_mean.sort_values(by='age')\n",
    "\n",
    "age_mean"
   ]
  },
  {
   "cell_type": "code",
   "execution_count": 120,
   "metadata": {
    "ExecuteTime": {
     "end_time": "2023-12-04T23:21:46.993789700Z",
     "start_time": "2023-12-04T23:21:46.433120200Z"
    }
   },
   "outputs": [
    {
     "data": {
      "image/png": "[encoded data removed]",
      "text/plain": [
       "<Figure size 432x288 with 1 Axes>"
      ]
     },
     "metadata": {
      "needs_background": "light"
     },
     "output_type": "display_data"
    }
   ],
   "source": [
    "plt.plot(age_mean['age'], age_mean['rating'], color='skyblue')\n",
    "\n",
    "# Add labels and title\n",
    "plt.title('Average review for each age')\n",
    "plt.xlabel('age')\n",
    "plt.ylabel('Mean review')\n",
    "\n",
    "# Show the plot\n",
    "plt.show()"
   ]
  },
  {
   "cell_type": "markdown",
   "metadata": {},
   "source": [
    "## Predictive task for Fit of Clothing\n",
    "#### Given the body type, height, weight, and size of the user, can we predict if an item will fit well?"
   ]
  },
  {
   "cell_type": "code",
   "execution_count": 121,
   "metadata": {
    "ExecuteTime": {
     "end_time": "2023-12-04T23:21:47.259844400Z",
     "start_time": "2023-12-04T23:21:46.983795100Z"
    }
   },
   "outputs": [],
   "source": [
    "df = df.dropna(subset=['height'])"
   ]
  },
  {
   "cell_type": "code",
   "execution_count": 122,
   "metadata": {
    "ExecuteTime": {
     "end_time": "2023-12-04T23:21:49.529532400Z",
     "start_time": "2023-12-04T23:21:47.261011900Z"
    }
   },
   "outputs": [
    {
     "name": "stderr",
     "output_type": "stream",
     "text": [
      "/var/folders/v7/g4ttv13d34d1qb2jx4_91hqh0000gn/T/ipykernel_73428/357434542.py:1: SettingWithCopyWarning: \n",
      "A value is trying to be set on a copy of a slice from a DataFrame.\n",
      "Try using .loc[row_indexer,col_indexer] = value instead\n",
      "\n",
      "See the caveats in the documentation: https://pandas.pydata.org/pandas-docs/stable/user_guide/indexing.html#returning-a-view-versus-a-copy\n",
      "  df['height_inches'] = df['height'].str.extract(r'(\\d+)\\' (\\d+)\\\"').apply(\n"
     ]
    }
   ],
   "source": [
    "df['height_inches'] = df['height'].str.extract(r'(\\d+)\\' (\\d+)\\\"').apply(\n",
    "    lambda x: int(x[0]) * 12 + int(x[1]), axis=1\n",
    ")"
   ]
  },
  {
   "cell_type": "code",
   "execution_count": 123,
   "metadata": {
    "ExecuteTime": {
     "end_time": "2023-12-04T23:21:49.984171500Z",
     "start_time": "2023-12-04T23:21:49.531535800Z"
    }
   },
   "outputs": [
    {
     "name": "stderr",
     "output_type": "stream",
     "text": [
      "/var/folders/v7/g4ttv13d34d1qb2jx4_91hqh0000gn/T/ipykernel_73428/2066340232.py:1: SettingWithCopyWarning: \n",
      "A value is trying to be set on a copy of a slice from a DataFrame.\n",
      "Try using .loc[row_indexer,col_indexer] = value instead\n",
      "\n",
      "See the caveats in the documentation: https://pandas.pydata.org/pandas-docs/stable/user_guide/indexing.html#returning-a-view-versus-a-copy\n",
      "  df['weight_lbs'] = df['weight'].str.extract(r'(\\d+)lbs').astype(float)\n"
     ]
    }
   ],
   "source": [
    "df['weight_lbs'] = df['weight'].str.extract(r'(\\d+)lbs').astype(float)"
   ]
  },
  {
   "cell_type": "code",
   "execution_count": 124,
   "metadata": {
    "ExecuteTime": {
     "end_time": "2023-12-04T23:21:50.135891400Z",
     "start_time": "2023-12-04T23:21:49.985294100Z"
    }
   },
   "outputs": [],
   "source": [
    "df = df.dropna(subset=['height_inches', 'weight_lbs', 'body type', 'size', 'fit'])"
   ]
  },
  {
   "cell_type": "code",
   "execution_count": 125,
   "metadata": {
    "ExecuteTime": {
     "end_time": "2023-12-04T23:21:50.264017900Z",
     "start_time": "2023-12-04T23:21:50.124883900Z"
    }
   },
   "outputs": [
    {
     "name": "stderr",
     "output_type": "stream",
     "text": [
      "/var/folders/v7/g4ttv13d34d1qb2jx4_91hqh0000gn/T/ipykernel_73428/999707350.py:4: SettingWithCopyWarning: \n",
      "A value is trying to be set on a copy of a slice from a DataFrame.\n",
      "Try using .loc[row_indexer,col_indexer] = value instead\n",
      "\n",
      "See the caveats in the documentation: https://pandas.pydata.org/pandas-docs/stable/user_guide/indexing.html#returning-a-view-versus-a-copy\n",
      "  df[column] = label_encoders[column].fit_transform(df[column])\n",
      "/var/folders/v7/g4ttv13d34d1qb2jx4_91hqh0000gn/T/ipykernel_73428/999707350.py:4: SettingWithCopyWarning: \n",
      "A value is trying to be set on a copy of a slice from a DataFrame.\n",
      "Try using .loc[row_indexer,col_indexer] = value instead\n",
      "\n",
      "See the caveats in the documentation: https://pandas.pydata.org/pandas-docs/stable/user_guide/indexing.html#returning-a-view-versus-a-copy\n",
      "  df[column] = label_encoders[column].fit_transform(df[column])\n"
     ]
    }
   ],
   "source": [
    "label_encoders = {}\n",
    "for column in ['body type', 'fit']:\n",
    "    label_encoders[column] = LabelEncoder()\n",
    "    df[column] = label_encoders[column].fit_transform(df[column])"
   ]
  },
  {
   "cell_type": "code",
   "execution_count": 126,
   "metadata": {
    "ExecuteTime": {
     "end_time": "2023-12-04T23:21:50.290982500Z",
     "start_time": "2023-12-04T23:21:50.266018100Z"
    }
   },
   "outputs": [
    {
     "name": "stderr",
     "output_type": "stream",
     "text": [
      "/var/folders/v7/g4ttv13d34d1qb2jx4_91hqh0000gn/T/ipykernel_73428/3376269864.py:2: SettingWithCopyWarning: \n",
      "A value is trying to be set on a copy of a slice from a DataFrame.\n",
      "Try using .loc[row_indexer,col_indexer] = value instead\n",
      "\n",
      "See the caveats in the documentation: https://pandas.pydata.org/pandas-docs/stable/user_guide/indexing.html#returning-a-view-versus-a-copy\n",
      "  df['fit_label'] = df['fit'].replace(fit_labels)\n"
     ]
    }
   ],
   "source": [
    "fit_labels = {0: 'small', 1: 'fit', 2: 'large'}\n",
    "df['fit_label'] = df['fit'].replace(fit_labels)"
   ]
  },
  {
   "cell_type": "code",
   "execution_count": 127,
   "metadata": {
    "ExecuteTime": {
     "end_time": "2023-12-04T23:21:50.309044500Z",
     "start_time": "2023-12-04T23:21:50.281983700Z"
    }
   },
   "outputs": [],
   "source": [
    "X = df[['height_inches', 'weight_lbs', 'body type', 'size']]\n",
    "y = df['fit']"
   ]
  },
  {
   "cell_type": "code",
   "execution_count": 128,
   "metadata": {
    "ExecuteTime": {
     "end_time": "2023-12-04T23:21:50.327159300Z",
     "start_time": "2023-12-04T23:21:50.296044800Z"
    }
   },
   "outputs": [],
   "source": [
    "scaler = StandardScaler()\n",
    "X_scaled = scaler.fit_transform(X)"
   ]
  },
  {
   "cell_type": "code",
   "execution_count": 129,
   "metadata": {
    "ExecuteTime": {
     "end_time": "2023-12-04T23:21:50.366297800Z",
     "start_time": "2023-12-04T23:21:50.328159400Z"
    }
   },
   "outputs": [],
   "source": [
    "X_train, X_test, y_train, y_test = train_test_split(X_scaled, y, test_size=0.2, random_state=42)"
   ]
  },
  {
   "cell_type": "code",
   "execution_count": 130,
   "metadata": {
    "ExecuteTime": {
     "end_time": "2023-12-04T23:21:50.381844800Z",
     "start_time": "2023-12-04T23:21:50.358282Z"
    }
   },
   "outputs": [],
   "source": [
    "model = RandomForestClassifier(n_estimators=100, random_state=42)"
   ]
  },
  {
   "cell_type": "code",
   "execution_count": 131,
   "metadata": {
    "ExecuteTime": {
     "end_time": "2023-12-04T23:22:00.652951400Z",
     "start_time": "2023-12-04T23:21:50.379845500Z"
    }
   },
   "outputs": [
    {
     "data": {
      "text/html": [
       "<style>#sk-container-id-5 {color: black;}#sk-container-id-5 pre{padding: 0;}#sk-container-id-5 div.sk-toggleable {background-color: white;}#sk-container-id-5 label.sk-toggleable__label {cursor: pointer;display: block;width: 100%;margin-bottom: 0;padding: 0.3em;box-sizing: border-box;text-align: center;}#sk-container-id-5 label.sk-toggleable__label-arrow:before {content: \"▸\";float: left;margin-right: 0.25em;color: #696969;}#sk-container-id-5 label.sk-toggleable__label-arrow:hover:before {color: black;}#sk-container-id-5 div.sk-estimator:hover label.sk-toggleable__label-arrow:before {color: black;}#sk-container-id-5 div.sk-toggleable__content {max-height: 0;max-width: 0;overflow: hidden;text-align: left;background-color: #f0f8ff;}#sk-container-id-5 div.sk-toggleable__content pre {margin: 0.2em;color: black;border-radius: 0.25em;background-color: #f0f8ff;}#sk-container-id-5 input.sk-toggleable__control:checked~div.sk-toggleable__content {max-height: 200px;max-width: 100%;overflow: auto;}#sk-container-id-5 input.sk-toggleable__control:checked~label.sk-toggleable__label-arrow:before {content: \"▾\";}#sk-container-id-5 div.sk-estimator input.sk-toggleable__control:checked~label.sk-toggleable__label {background-color: #d4ebff;}#sk-container-id-5 div.sk-label input.sk-toggleable__control:checked~label.sk-toggleable__label {background-color: #d4ebff;}#sk-container-id-5 input.sk-hidden--visually {border: 0;clip: rect(1px 1px 1px 1px);clip: rect(1px, 1px, 1px, 1px);height: 1px;margin: -1px;overflow: hidden;padding: 0;position: absolute;width: 1px;}#sk-container-id-5 div.sk-estimator {font-family: monospace;background-color: #f0f8ff;border: 1px dotted black;border-radius: 0.25em;box-sizing: border-box;margin-bottom: 0.5em;}#sk-container-id-5 div.sk-estimator:hover {background-color: #d4ebff;}#sk-container-id-5 div.sk-parallel-item::after {content: \"\";width: 100%;border-bottom: 1px solid gray;flex-grow: 1;}#sk-container-id-5 div.sk-label:hover label.sk-toggleable__label {background-color: #d4ebff;}#sk-container-id-5 div.sk-serial::before {content: \"\";position: absolute;border-left: 1px solid gray;box-sizing: border-box;top: 0;bottom: 0;left: 50%;z-index: 0;}#sk-container-id-5 div.sk-serial {display: flex;flex-direction: column;align-items: center;background-color: white;padding-right: 0.2em;padding-left: 0.2em;position: relative;}#sk-container-id-5 div.sk-item {position: relative;z-index: 1;}#sk-container-id-5 div.sk-parallel {display: flex;align-items: stretch;justify-content: center;background-color: white;position: relative;}#sk-container-id-5 div.sk-item::before, #sk-container-id-5 div.sk-parallel-item::before {content: \"\";position: absolute;border-left: 1px solid gray;box-sizing: border-box;top: 0;bottom: 0;left: 50%;z-index: -1;}#sk-container-id-5 div.sk-parallel-item {display: flex;flex-direction: column;z-index: 1;position: relative;background-color: white;}#sk-container-id-5 div.sk-parallel-item:first-child::after {align-self: flex-end;width: 50%;}#sk-container-id-5 div.sk-parallel-item:last-child::after {align-self: flex-start;width: 50%;}#sk-container-id-5 div.sk-parallel-item:only-child::after {width: 0;}#sk-container-id-5 div.sk-dashed-wrapped {border: 1px dashed gray;margin: 0 0.4em 0.5em 0.4em;box-sizing: border-box;padding-bottom: 0.4em;background-color: white;}#sk-container-id-5 div.sk-label label {font-family: monospace;font-weight: bold;display: inline-block;line-height: 1.2em;}#sk-container-id-5 div.sk-label-container {text-align: center;}#sk-container-id-5 div.sk-container {/* jupyter's `normalize.less` sets `[hidden] { display: none; }` but bootstrap.min.css set `[hidden] { display: none !important; }` so we also need the `!important` here to be able to override the default hidden behavior on the sphinx rendered scikit-learn.org. See: https://github.com/scikit-learn/scikit-learn/issues/21755 */display: inline-block !important;position: relative;}#sk-container-id-5 div.sk-text-repr-fallback {display: none;}</style><div id=\"sk-container-id-5\" class=\"sk-top-container\"><div class=\"sk-text-repr-fallback\"><pre>RandomForestClassifier(random_state=42)</pre><b>In a Jupyter environment, please rerun this cell to show the HTML representation or trust the notebook. <br />On GitHub, the HTML representation is unable to render, please try loading this page with nbviewer.org.</b></div><div class=\"sk-container\" hidden><div class=\"sk-item\"><div class=\"sk-estimator sk-toggleable\"><input class=\"sk-toggleable__control sk-hidden--visually\" id=\"sk-estimator-id-5\" type=\"checkbox\" checked><label for=\"sk-estimator-id-5\" class=\"sk-toggleable__label sk-toggleable__label-arrow\">RandomForestClassifier</label><div class=\"sk-toggleable__content\"><pre>RandomForestClassifier(random_state=42)</pre></div></div></div></div></div>"
      ],
      "text/plain": [
       "RandomForestClassifier(random_state=42)"
      ]
     },
     "execution_count": 131,
     "metadata": {},
     "output_type": "execute_result"
    }
   ],
   "source": [
    "model.fit(X_train, y_train)"
   ]
  },
  {
   "cell_type": "code",
   "execution_count": 132,
   "metadata": {
    "ExecuteTime": {
     "end_time": "2023-12-04T23:22:01.331715600Z",
     "start_time": "2023-12-04T23:22:00.651949700Z"
    }
   },
   "outputs": [],
   "source": [
    "y_pred = model.predict(X_test)"
   ]
  },
  {
   "cell_type": "code",
   "execution_count": 133,
   "metadata": {
    "ExecuteTime": {
     "end_time": "2023-12-04T23:22:01.347729Z",
     "start_time": "2023-12-04T23:22:01.335252700Z"
    }
   },
   "outputs": [],
   "source": [
    "y_pred_labels = label_encoders['fit'].inverse_transform(y_pred)"
   ]
  },
  {
   "cell_type": "code",
   "execution_count": 134,
   "metadata": {
    "ExecuteTime": {
     "end_time": "2023-12-04T23:22:01.385624900Z",
     "start_time": "2023-12-04T23:22:01.348731500Z"
    }
   },
   "outputs": [],
   "source": [
    "accuracy = accuracy_score(y_test, y_pred)"
   ]
  },
  {
   "cell_type": "code",
   "execution_count": 135,
   "metadata": {
    "ExecuteTime": {
     "end_time": "2023-12-04T23:22:01.385624900Z",
     "start_time": "2023-12-04T23:22:01.365109100Z"
    }
   },
   "outputs": [],
   "source": [
    "y_test_labels = label_encoders['fit'].inverse_transform(y_test)"
   ]
  },
  {
   "cell_type": "code",
   "execution_count": 136,
   "metadata": {
    "ExecuteTime": {
     "end_time": "2023-12-04T23:22:01.925260200Z",
     "start_time": "2023-12-04T23:22:01.395661500Z"
    }
   },
   "outputs": [
    {
     "name": "stdout",
     "output_type": "stream",
     "text": [
      "Accuracy: 0.7132386474688904\n",
      "              precision    recall  f1-score   support\n",
      "\n",
      "       small       0.74      0.95      0.83     22601\n",
      "         fit       0.27      0.05      0.09      4068\n",
      "       large       0.24      0.06      0.09      4029\n",
      "\n",
      "    accuracy                           0.71     30698\n",
      "   macro avg       0.42      0.35      0.34     30698\n",
      "weighted avg       0.61      0.71      0.64     30698\n",
      "\n"
     ]
    }
   ],
   "source": [
    "print(f\"Accuracy: {accuracy}\")\n",
    "print(classification_report(y_test_labels, y_pred_labels, target_names=['small', 'fit', 'large']))"
   ]
  },
  {
   "cell_type": "markdown",
   "metadata": {},
   "source": [
    "#### How do customer preferences and satisfaction, as indicated by the fit of rented items for different purposes, correlate with the overall trend in service usage over time?"
   ]
  },
  {
   "cell_type": "code",
   "execution_count": 137,
   "metadata": {
    "ExecuteTime": {
     "end_time": "2023-12-04T23:22:02.035764500Z",
     "start_time": "2023-12-04T23:22:01.927230500Z"
    }
   },
   "outputs": [],
   "source": [
    "one_hot_encoder = OneHotEncoder()\n",
    "rented_for_encoded = one_hot_encoder.fit_transform(df[['rented for']]).toarray()"
   ]
  },
  {
   "cell_type": "code",
   "execution_count": 138,
   "metadata": {
    "ExecuteTime": {
     "end_time": "2023-12-04T23:22:02.062760900Z",
     "start_time": "2023-12-04T23:22:02.036764300Z"
    }
   },
   "outputs": [],
   "source": [
    "feature_names = one_hot_encoder.get_feature_names_out(['rented for'])"
   ]
  },
  {
   "cell_type": "code",
   "execution_count": 139,
   "metadata": {
    "ExecuteTime": {
     "end_time": "2023-12-04T23:22:02.080760400Z",
     "start_time": "2023-12-04T23:22:02.053763200Z"
    }
   },
   "outputs": [],
   "source": [
    "rented_for_df = pd.DataFrame(rented_for_encoded, columns=feature_names, index=df.index)"
   ]
  },
  {
   "cell_type": "code",
   "execution_count": 140,
   "metadata": {
    "ExecuteTime": {
     "end_time": "2023-12-04T23:22:31.310115800Z",
     "start_time": "2023-12-04T23:22:02.070762600Z"
    }
   },
   "outputs": [],
   "source": [
    "df = df.join(rented_for_df)"
   ]
  },
  {
   "cell_type": "code",
   "execution_count": 141,
   "metadata": {
    "ExecuteTime": {
     "end_time": "2023-12-04T23:22:31.665042Z",
     "start_time": "2023-12-04T23:22:31.306116200Z"
    }
   },
   "outputs": [],
   "source": [
    "features = df[feature_names]\n",
    "labels = df['fit']"
   ]
  },
  {
   "cell_type": "code",
   "execution_count": 142,
   "metadata": {
    "ExecuteTime": {
     "end_time": "2023-12-04T23:22:38.769160900Z",
     "start_time": "2023-12-04T23:22:31.666039800Z"
    }
   },
   "outputs": [],
   "source": [
    "X_train, X_test, y_train, y_test = train_test_split(features, labels, test_size=0.2, random_state=42)"
   ]
  },
  {
   "cell_type": "code",
   "execution_count": 143,
   "metadata": {
    "ExecuteTime": {
     "end_time": "2023-12-04T23:23:09.708263Z",
     "start_time": "2023-12-04T23:22:38.772163600Z"
    }
   },
   "outputs": [
    {
     "data": {
      "text/html": [
       "<style>#sk-container-id-6 {color: black;}#sk-container-id-6 pre{padding: 0;}#sk-container-id-6 div.sk-toggleable {background-color: white;}#sk-container-id-6 label.sk-toggleable__label {cursor: pointer;display: block;width: 100%;margin-bottom: 0;padding: 0.3em;box-sizing: border-box;text-align: center;}#sk-container-id-6 label.sk-toggleable__label-arrow:before {content: \"▸\";float: left;margin-right: 0.25em;color: #696969;}#sk-container-id-6 label.sk-toggleable__label-arrow:hover:before {color: black;}#sk-container-id-6 div.sk-estimator:hover label.sk-toggleable__label-arrow:before {color: black;}#sk-container-id-6 div.sk-toggleable__content {max-height: 0;max-width: 0;overflow: hidden;text-align: left;background-color: #f0f8ff;}#sk-container-id-6 div.sk-toggleable__content pre {margin: 0.2em;color: black;border-radius: 0.25em;background-color: #f0f8ff;}#sk-container-id-6 input.sk-toggleable__control:checked~div.sk-toggleable__content {max-height: 200px;max-width: 100%;overflow: auto;}#sk-container-id-6 input.sk-toggleable__control:checked~label.sk-toggleable__label-arrow:before {content: \"▾\";}#sk-container-id-6 div.sk-estimator input.sk-toggleable__control:checked~label.sk-toggleable__label {background-color: #d4ebff;}#sk-container-id-6 div.sk-label input.sk-toggleable__control:checked~label.sk-toggleable__label {background-color: #d4ebff;}#sk-container-id-6 input.sk-hidden--visually {border: 0;clip: rect(1px 1px 1px 1px);clip: rect(1px, 1px, 1px, 1px);height: 1px;margin: -1px;overflow: hidden;padding: 0;position: absolute;width: 1px;}#sk-container-id-6 div.sk-estimator {font-family: monospace;background-color: #f0f8ff;border: 1px dotted black;border-radius: 0.25em;box-sizing: border-box;margin-bottom: 0.5em;}#sk-container-id-6 div.sk-estimator:hover {background-color: #d4ebff;}#sk-container-id-6 div.sk-parallel-item::after {content: \"\";width: 100%;border-bottom: 1px solid gray;flex-grow: 1;}#sk-container-id-6 div.sk-label:hover label.sk-toggleable__label {background-color: #d4ebff;}#sk-container-id-6 div.sk-serial::before {content: \"\";position: absolute;border-left: 1px solid gray;box-sizing: border-box;top: 0;bottom: 0;left: 50%;z-index: 0;}#sk-container-id-6 div.sk-serial {display: flex;flex-direction: column;align-items: center;background-color: white;padding-right: 0.2em;padding-left: 0.2em;position: relative;}#sk-container-id-6 div.sk-item {position: relative;z-index: 1;}#sk-container-id-6 div.sk-parallel {display: flex;align-items: stretch;justify-content: center;background-color: white;position: relative;}#sk-container-id-6 div.sk-item::before, #sk-container-id-6 div.sk-parallel-item::before {content: \"\";position: absolute;border-left: 1px solid gray;box-sizing: border-box;top: 0;bottom: 0;left: 50%;z-index: -1;}#sk-container-id-6 div.sk-parallel-item {display: flex;flex-direction: column;z-index: 1;position: relative;background-color: white;}#sk-container-id-6 div.sk-parallel-item:first-child::after {align-self: flex-end;width: 50%;}#sk-container-id-6 div.sk-parallel-item:last-child::after {align-self: flex-start;width: 50%;}#sk-container-id-6 div.sk-parallel-item:only-child::after {width: 0;}#sk-container-id-6 div.sk-dashed-wrapped {border: 1px dashed gray;margin: 0 0.4em 0.5em 0.4em;box-sizing: border-box;padding-bottom: 0.4em;background-color: white;}#sk-container-id-6 div.sk-label label {font-family: monospace;font-weight: bold;display: inline-block;line-height: 1.2em;}#sk-container-id-6 div.sk-label-container {text-align: center;}#sk-container-id-6 div.sk-container {/* jupyter's `normalize.less` sets `[hidden] { display: none; }` but bootstrap.min.css set `[hidden] { display: none !important; }` so we also need the `!important` here to be able to override the default hidden behavior on the sphinx rendered scikit-learn.org. See: https://github.com/scikit-learn/scikit-learn/issues/21755 */display: inline-block !important;position: relative;}#sk-container-id-6 div.sk-text-repr-fallback {display: none;}</style><div id=\"sk-container-id-6\" class=\"sk-top-container\"><div class=\"sk-text-repr-fallback\"><pre>LogisticRegression(fit_intercept=False)</pre><b>In a Jupyter environment, please rerun this cell to show the HTML representation or trust the notebook. <br />On GitHub, the HTML representation is unable to render, please try loading this page with nbviewer.org.</b></div><div class=\"sk-container\" hidden><div class=\"sk-item\"><div class=\"sk-estimator sk-toggleable\"><input class=\"sk-toggleable__control sk-hidden--visually\" id=\"sk-estimator-id-6\" type=\"checkbox\" checked><label for=\"sk-estimator-id-6\" class=\"sk-toggleable__label sk-toggleable__label-arrow\">LogisticRegression</label><div class=\"sk-toggleable__content\"><pre>LogisticRegression(fit_intercept=False)</pre></div></div></div></div></div>"
      ],
      "text/plain": [
       "LogisticRegression(fit_intercept=False)"
      ]
     },
     "execution_count": 143,
     "metadata": {},
     "output_type": "execute_result"
    }
   ],
   "source": [
    "model = linear_model.LogisticRegression(fit_intercept=False)\n",
    "model.fit(X_train, y_train)"
   ]
  },
  {
   "cell_type": "code",
   "execution_count": 144,
   "metadata": {
    "ExecuteTime": {
     "end_time": "2023-12-04T23:23:09.950237900Z",
     "start_time": "2023-12-04T23:23:09.703265700Z"
    }
   },
   "outputs": [],
   "source": [
    "# Predict on the test set\n",
    "y_pred = model.predict(X_test)"
   ]
  },
  {
   "cell_type": "code",
   "execution_count": 145,
   "metadata": {
    "ExecuteTime": {
     "end_time": "2023-12-04T23:23:10.107811600Z",
     "start_time": "2023-12-04T23:23:09.953236100Z"
    }
   },
   "outputs": [],
   "source": [
    "accuracy = accuracy_score(y_test, y_pred)"
   ]
  },
  {
   "cell_type": "code",
   "execution_count": 146,
   "metadata": {
    "ExecuteTime": {
     "end_time": "2023-12-04T23:23:10.108812600Z",
     "start_time": "2023-12-04T23:23:10.093203400Z"
    }
   },
   "outputs": [
    {
     "name": "stdout",
     "output_type": "stream",
     "text": [
      "Accuracy: 0.7333790587792857\n"
     ]
    }
   ],
   "source": [
    "print(f\"Accuracy: {accuracy}\")"
   ]
  },
  {
   "cell_type": "code",
   "execution_count": 147,
   "metadata": {
    "ExecuteTime": {
     "end_time": "2023-12-04T23:23:10.139919600Z",
     "start_time": "2023-12-04T23:23:10.109814400Z"
    }
   },
   "outputs": [
    {
     "data": {
      "text/plain": [
       "Index(['fit', 'user_id', 'bust size', 'item_id', 'weight', 'rating',\n",
       "       'rented for', 'review_text', 'body type', 'review_summary', 'category',\n",
       "       'height', 'size', 'age', 'height_inches', 'weight_lbs', 'fit_label',\n",
       "       'rented for_date', 'rented for_everyday', 'rented for_formal affair',\n",
       "       'rented for_other', 'rented for_party', 'rented for_party: cocktail',\n",
       "       'rented for_vacation', 'rented for_wedding', 'rented for_work'],\n",
       "      dtype='object')"
      ]
     },
     "execution_count": 147,
     "metadata": {},
     "output_type": "execute_result"
    }
   ],
   "source": [
    "df.columns"
   ]
  },
  {
   "cell_type": "code",
   "execution_count": 148,
   "metadata": {
    "ExecuteTime": {
     "end_time": "2023-12-04T23:23:12.335852800Z",
     "start_time": "2023-12-04T23:23:10.125918200Z"
    }
   },
   "outputs": [
    {
     "name": "stdout",
     "output_type": "stream",
     "text": [
      "Index(['fit', 'user_id', 'item_id', 'rating', 'review_text', 'review_summary',\n",
      "       'category', 'age', 'review_date'],\n",
      "      dtype='object')\n"
     ]
    }
   ],
   "source": [
    "df = pd.DataFrame(dataset)\n",
    "\n",
    "#Drop unnecessary columns\n",
    "columns_to_drop = ['bust size', 'weight', 'rented for', 'body type', 'height', 'size']\n",
    "df = df.drop(columns=columns_to_drop, errors='ignore')\n",
    "\n",
    "print(df.columns)"
   ]
  },
  {
   "cell_type": "code",
   "execution_count": 149,
   "metadata": {
    "ExecuteTime": {
     "end_time": "2023-12-04T23:23:12.431230800Z",
     "start_time": "2023-12-04T23:23:12.338824100Z"
    }
   },
   "outputs": [
    {
     "data": {
      "text/plain": [
       "<bound method IndexOpsMixin.value_counts of 0         fit\n",
       "1         fit\n",
       "2         fit\n",
       "3         fit\n",
       "4         fit\n",
       "         ... \n",
       "192539    fit\n",
       "192540    fit\n",
       "192541    fit\n",
       "192542    fit\n",
       "192543    fit\n",
       "Name: fit, Length: 192544, dtype: object>"
      ]
     },
     "execution_count": 149,
     "metadata": {},
     "output_type": "execute_result"
    }
   ],
   "source": [
    "df['text_length'] = df['review_text'].apply(lambda x: len(x))\n",
    "df['fit'].value_counts"
   ]
  },
  {
   "cell_type": "code",
   "execution_count": 150,
   "metadata": {
    "ExecuteTime": {
     "end_time": "2023-12-04T23:23:12.757041800Z",
     "start_time": "2023-12-04T23:23:12.496878Z"
    }
   },
   "outputs": [
    {
     "name": "stdout",
     "output_type": "stream",
     "text": [
      "Unique Values in 'fit' column: ['fit' 'small' 'large']\n",
      "\n",
      "Value Counts:\n",
      "fit      142058\n",
      "small     25779\n",
      "large     24707\n",
      "Name: fit, dtype: int64\n"
     ]
    },
    {
     "data": {
      "text/html": [
       "<div>\n",
       "<style scoped>\n",
       "    .dataframe tbody tr th:only-of-type {\n",
       "        vertical-align: middle;\n",
       "    }\n",
       "\n",
       "    .dataframe tbody tr th {\n",
       "        vertical-align: top;\n",
       "    }\n",
       "\n",
       "    .dataframe thead th {\n",
       "        text-align: right;\n",
       "    }\n",
       "</style>\n",
       "<table border=\"1\" class=\"dataframe\">\n",
       "  <thead>\n",
       "    <tr style=\"text-align: right;\">\n",
       "      <th></th>\n",
       "      <th>fit</th>\n",
       "      <th>user_id</th>\n",
       "      <th>item_id</th>\n",
       "      <th>rating</th>\n",
       "      <th>review_text</th>\n",
       "      <th>review_summary</th>\n",
       "      <th>category</th>\n",
       "      <th>age</th>\n",
       "      <th>review_date</th>\n",
       "      <th>text_length</th>\n",
       "    </tr>\n",
       "  </thead>\n",
       "  <tbody>\n",
       "    <tr>\n",
       "      <th>0</th>\n",
       "      <td>1</td>\n",
       "      <td>420272</td>\n",
       "      <td>2260466</td>\n",
       "      <td>10.0</td>\n",
       "      <td>An adorable romper! Belt and zipper were a lit...</td>\n",
       "      <td>So many compliments!</td>\n",
       "      <td>romper</td>\n",
       "      <td>28</td>\n",
       "      <td>April 20, 2016</td>\n",
       "      <td>221</td>\n",
       "    </tr>\n",
       "    <tr>\n",
       "      <th>1</th>\n",
       "      <td>1</td>\n",
       "      <td>273551</td>\n",
       "      <td>153475</td>\n",
       "      <td>10.0</td>\n",
       "      <td>I rented this dress for a photo shoot. The the...</td>\n",
       "      <td>I felt so glamourous!!!</td>\n",
       "      <td>gown</td>\n",
       "      <td>36</td>\n",
       "      <td>June 18, 2013</td>\n",
       "      <td>221</td>\n",
       "    </tr>\n",
       "    <tr>\n",
       "      <th>2</th>\n",
       "      <td>1</td>\n",
       "      <td>360448</td>\n",
       "      <td>1063761</td>\n",
       "      <td>10.0</td>\n",
       "      <td>This hugged in all the right places! It was a ...</td>\n",
       "      <td>It was a great time to celebrate the (almost) ...</td>\n",
       "      <td>sheath</td>\n",
       "      <td>116</td>\n",
       "      <td>December 14, 2015</td>\n",
       "      <td>198</td>\n",
       "    </tr>\n",
       "    <tr>\n",
       "      <th>3</th>\n",
       "      <td>1</td>\n",
       "      <td>909926</td>\n",
       "      <td>126335</td>\n",
       "      <td>8.0</td>\n",
       "      <td>I rented this for my company's black tie award...</td>\n",
       "      <td>Dress arrived on time and in perfect condition.</td>\n",
       "      <td>dress</td>\n",
       "      <td>34</td>\n",
       "      <td>February 12, 2014</td>\n",
       "      <td>465</td>\n",
       "    </tr>\n",
       "    <tr>\n",
       "      <th>4</th>\n",
       "      <td>1</td>\n",
       "      <td>151944</td>\n",
       "      <td>616682</td>\n",
       "      <td>10.0</td>\n",
       "      <td>I have always been petite in my upper body and...</td>\n",
       "      <td>Was in love with this dress !!!</td>\n",
       "      <td>gown</td>\n",
       "      <td>27</td>\n",
       "      <td>September 26, 2016</td>\n",
       "      <td>559</td>\n",
       "    </tr>\n",
       "    <tr>\n",
       "      <th>...</th>\n",
       "      <td>...</td>\n",
       "      <td>...</td>\n",
       "      <td>...</td>\n",
       "      <td>...</td>\n",
       "      <td>...</td>\n",
       "      <td>...</td>\n",
       "      <td>...</td>\n",
       "      <td>...</td>\n",
       "      <td>...</td>\n",
       "      <td>...</td>\n",
       "    </tr>\n",
       "    <tr>\n",
       "      <th>192539</th>\n",
       "      <td>1</td>\n",
       "      <td>66386</td>\n",
       "      <td>2252812</td>\n",
       "      <td>10.0</td>\n",
       "      <td>Fit like a glove!</td>\n",
       "      <td>LOVE IT!!! First Item Im thinking of buying!</td>\n",
       "      <td>jumpsuit</td>\n",
       "      <td>42</td>\n",
       "      <td>May 18, 2016</td>\n",
       "      <td>17</td>\n",
       "    </tr>\n",
       "    <tr>\n",
       "      <th>192540</th>\n",
       "      <td>1</td>\n",
       "      <td>118398</td>\n",
       "      <td>682043</td>\n",
       "      <td>10.0</td>\n",
       "      <td>The pattern contrast on this dress is really s...</td>\n",
       "      <td>LOVE it!</td>\n",
       "      <td>dress</td>\n",
       "      <td>29</td>\n",
       "      <td>September 30, 2016</td>\n",
       "      <td>343</td>\n",
       "    </tr>\n",
       "    <tr>\n",
       "      <th>192541</th>\n",
       "      <td>1</td>\n",
       "      <td>47002</td>\n",
       "      <td>683251</td>\n",
       "      <td>6.0</td>\n",
       "      <td>Like the other DVF wraps, the fit on this is f...</td>\n",
       "      <td>Loud patterning, flattering fit</td>\n",
       "      <td>dress</td>\n",
       "      <td>31</td>\n",
       "      <td>March 4, 2016</td>\n",
       "      <td>280</td>\n",
       "    </tr>\n",
       "    <tr>\n",
       "      <th>192542</th>\n",
       "      <td>1</td>\n",
       "      <td>961120</td>\n",
       "      <td>126335</td>\n",
       "      <td>10.0</td>\n",
       "      <td>This dress was PERFECTION.  it looked incredib...</td>\n",
       "      <td>loved this dress it was comfortable and photog...</td>\n",
       "      <td>dress</td>\n",
       "      <td>31</td>\n",
       "      <td>November 25, 2015</td>\n",
       "      <td>439</td>\n",
       "    </tr>\n",
       "    <tr>\n",
       "      <th>192543</th>\n",
       "      <td>1</td>\n",
       "      <td>123612</td>\n",
       "      <td>127865</td>\n",
       "      <td>10.0</td>\n",
       "      <td>This dress was wonderful! I had originally pla...</td>\n",
       "      <td>I wore this to a beautiful black tie optional ...</td>\n",
       "      <td>gown</td>\n",
       "      <td>30</td>\n",
       "      <td>August 29, 2017</td>\n",
       "      <td>499</td>\n",
       "    </tr>\n",
       "  </tbody>\n",
       "</table>\n",
       "<p>192544 rows × 10 columns</p>\n",
       "</div>"
      ],
      "text/plain": [
       "        fit user_id  item_id  rating  \\\n",
       "0         1  420272  2260466    10.0   \n",
       "1         1  273551   153475    10.0   \n",
       "2         1  360448  1063761    10.0   \n",
       "3         1  909926   126335     8.0   \n",
       "4         1  151944   616682    10.0   \n",
       "...     ...     ...      ...     ...   \n",
       "192539    1   66386  2252812    10.0   \n",
       "192540    1  118398   682043    10.0   \n",
       "192541    1   47002   683251     6.0   \n",
       "192542    1  961120   126335    10.0   \n",
       "192543    1  123612   127865    10.0   \n",
       "\n",
       "                                              review_text  \\\n",
       "0       An adorable romper! Belt and zipper were a lit...   \n",
       "1       I rented this dress for a photo shoot. The the...   \n",
       "2       This hugged in all the right places! It was a ...   \n",
       "3       I rented this for my company's black tie award...   \n",
       "4       I have always been petite in my upper body and...   \n",
       "...                                                   ...   \n",
       "192539                                  Fit like a glove!   \n",
       "192540  The pattern contrast on this dress is really s...   \n",
       "192541  Like the other DVF wraps, the fit on this is f...   \n",
       "192542  This dress was PERFECTION.  it looked incredib...   \n",
       "192543  This dress was wonderful! I had originally pla...   \n",
       "\n",
       "                                           review_summary  category  age  \\\n",
       "0                                    So many compliments!    romper   28   \n",
       "1                                 I felt so glamourous!!!      gown   36   \n",
       "2       It was a great time to celebrate the (almost) ...    sheath  116   \n",
       "3        Dress arrived on time and in perfect condition.      dress   34   \n",
       "4                         Was in love with this dress !!!      gown   27   \n",
       "...                                                   ...       ...  ...   \n",
       "192539       LOVE IT!!! First Item Im thinking of buying!  jumpsuit   42   \n",
       "192540                                           LOVE it!     dress   29   \n",
       "192541                    Loud patterning, flattering fit     dress   31   \n",
       "192542  loved this dress it was comfortable and photog...     dress   31   \n",
       "192543  I wore this to a beautiful black tie optional ...      gown   30   \n",
       "\n",
       "               review_date  text_length  \n",
       "0           April 20, 2016          221  \n",
       "1            June 18, 2013          221  \n",
       "2        December 14, 2015          198  \n",
       "3        February 12, 2014          465  \n",
       "4       September 26, 2016          559  \n",
       "...                    ...          ...  \n",
       "192539        May 18, 2016           17  \n",
       "192540  September 30, 2016          343  \n",
       "192541       March 4, 2016          280  \n",
       "192542   November 25, 2015          439  \n",
       "192543     August 29, 2017          499  \n",
       "\n",
       "[192544 rows x 10 columns]"
      ]
     },
     "execution_count": 150,
     "metadata": {},
     "output_type": "execute_result"
    }
   ],
   "source": [
    "#Convert age and rating to int\n",
    "df['age'] = df['age'].fillna(0)\n",
    "df['age'] = df['age'].astype(int)\n",
    "df['rating'] = df['rating'].fillna(0)\n",
    "df['rating'] = df['rating'].astype(float)\n",
    "df['rating'] = df['rating'].fillna(0)\n",
    "\n",
    "#convert fit to 0 if\n",
    "\n",
    "unique_values = df['fit'].unique()\n",
    "value_counts = df['fit'].value_counts()\n",
    "\n",
    "print(\"Unique Values in 'fit' column:\", unique_values)\n",
    "print(\"\\nValue Counts:\")\n",
    "print(value_counts)\n",
    "\n",
    "df['fit'] = (df['fit'] == 'fit').astype(int)\n",
    "df"
   ]
  },
  {
   "cell_type": "markdown",
   "metadata": {},
   "source": [
    "## Basline Model"
   ]
  },
  {
   "cell_type": "markdown",
   "metadata": {},
   "source": [
    "#### We are going to start with logistic regression as our basic model"
   ]
  },
  {
   "cell_type": "code",
   "execution_count": 151,
   "metadata": {
    "ExecuteTime": {
     "end_time": "2023-12-04T23:23:13.687971500Z",
     "start_time": "2023-12-04T23:23:12.768285700Z"
    }
   },
   "outputs": [
    {
     "name": "stdout",
     "output_type": "stream",
     "text": [
      "fit\n",
      "1      113780\n",
      "0       40255\n",
      "dtype: int64\n"
     ]
    },
    {
     "name": "stderr",
     "output_type": "stream",
     "text": [
      "/Library/Frameworks/Python.framework/Versions/3.9/lib/python3.9/site-packages/sklearn/utils/validation.py:1183: DataConversionWarning: A column-vector y was passed when a 1d array was expected. Please change the shape of y to (n_samples, ), for example using ravel().\n",
      "  y = column_or_1d(y, warn=True)\n"
     ]
    },
    {
     "name": "stdout",
     "output_type": "stream",
     "text": [
      "[1 1 1 ... 1 1 1]\n",
      "        fit\n",
      "36249     1\n",
      "9043      0\n",
      "70        1\n",
      "142409    1\n",
      "10805     1\n",
      "...     ...\n",
      "30290     1\n",
      "189357    1\n",
      "94894     1\n",
      "163587    1\n",
      "62173     0\n",
      "\n",
      "[38509 rows x 1 columns]\n",
      "Accuracy: 0.7429172401256849\n",
      "\n",
      "Confusion Matrix:\n",
      " [[ 1167  9064]\n",
      " [  836 27442]]\n",
      "\n",
      "Classification Report:\n",
      "               precision    recall  f1-score   support\n",
      "\n",
      "           0       0.58      0.11      0.19     10231\n",
      "           1       0.75      0.97      0.85     28278\n",
      "\n",
      "    accuracy                           0.74     38509\n",
      "   macro avg       0.67      0.54      0.52     38509\n",
      "weighted avg       0.71      0.74      0.67     38509\n",
      "\n"
     ]
    }
   ],
   "source": [
    "X = df[['rating','age', 'text_length']]\n",
    "y = df[['fit']]\n",
    "\n",
    "# Split the data into training and testing sets\n",
    "X_train, X_test, y_train, y_test = train_test_split(X, y, test_size=0.2, random_state=42)\n",
    "print(y_train.value_counts())\n",
    "\n",
    "# Initialize the logistic regression model\n",
    "model = linear_model.LogisticRegression()\n",
    "\n",
    "# Train the model\n",
    "model.fit(X_train, y_train)\n",
    "\n",
    "# Make predictions on the test set\n",
    "predictions = model.predict(X_test)\n",
    "print(predictions)\n",
    "print(y_test)\n",
    "# Evaluate the model\n",
    "logistic_accuracy = accuracy_score(y_test, predictions)\n",
    "conf_matrix = confusion_matrix(y_test, predictions)\n",
    "classification_rep = classification_report(y_test, predictions)\n",
    "\n",
    "print(\"Accuracy:\", logistic_accuracy)\n",
    "print(\"\\nConfusion Matrix:\\n\", conf_matrix)\n",
    "print(\"\\nClassification Report:\\n\", classification_rep)"
   ]
  },
  {
   "cell_type": "markdown",
   "metadata": {},
   "source": [
    "#### Random Forest Model"
   ]
  },
  {
   "cell_type": "code",
   "execution_count": 152,
   "metadata": {
    "ExecuteTime": {
     "end_time": "2023-12-04T23:26:14.631080300Z",
     "start_time": "2023-12-04T23:26:14.596439300Z"
    }
   },
   "outputs": [],
   "source": [
    "rf_model = RandomForestClassifier(n_estimators=100, random_state=42, max_depth=10,min_samples_split=2)"
   ]
  },
  {
   "cell_type": "code",
   "execution_count": 153,
   "metadata": {
    "ExecuteTime": {
     "end_time": "2023-12-04T23:26:23.486857100Z",
     "start_time": "2023-12-04T23:26:15.151868600Z"
    }
   },
   "outputs": [
    {
     "name": "stderr",
     "output_type": "stream",
     "text": [
      "/Library/Frameworks/Python.framework/Versions/3.9/lib/python3.9/site-packages/sklearn/base.py:1152: DataConversionWarning: A column-vector y was passed when a 1d array was expected. Please change the shape of y to (n_samples,), for example using ravel().\n",
      "  return fit_method(estimator, *args, **kwargs)\n"
     ]
    }
   ],
   "source": [
    "rf_model.fit(X_train, y_train)\n",
    "rf_y_pred = rf_model.predict(X_test)"
   ]
  },
  {
   "cell_type": "code",
   "execution_count": 154,
   "metadata": {
    "ExecuteTime": {
     "end_time": "2023-12-04T23:26:23.549186100Z",
     "start_time": "2023-12-04T23:26:23.488291300Z"
    }
   },
   "outputs": [],
   "source": [
    "rf_accuracy = accuracy_score(y_test, rf_y_pred)\n",
    "rf_conf_matrix = confusion_matrix(y_test, rf_y_pred)\n",
    "rf_classification_rep = classification_report(y_test, rf_y_pred)"
   ]
  },
  {
   "cell_type": "code",
   "execution_count": 155,
   "metadata": {
    "ExecuteTime": {
     "end_time": "2023-12-04T23:26:23.565185500Z",
     "start_time": "2023-12-04T23:26:23.551195500Z"
    }
   },
   "outputs": [
    {
     "name": "stdout",
     "output_type": "stream",
     "text": [
      "Accuracy: 0.7440598301695708\n",
      "\n",
      "Confusion Matrix:\n",
      " [[ 1273  8958]\n",
      " [  898 27380]]\n",
      "\n",
      "Classification Report:\n",
      "               precision    recall  f1-score   support\n",
      "\n",
      "           0       0.59      0.12      0.21     10231\n",
      "           1       0.75      0.97      0.85     28278\n",
      "\n",
      "    accuracy                           0.74     38509\n",
      "   macro avg       0.67      0.55      0.53     38509\n",
      "weighted avg       0.71      0.74      0.68     38509\n",
      "\n"
     ]
    }
   ],
   "source": [
    "print(f\"Accuracy: {rf_accuracy}\")\n",
    "print(\"\\nConfusion Matrix:\\n\", rf_conf_matrix)\n",
    "print(\"\\nClassification Report:\\n\", rf_classification_rep)"
   ]
  },
  {
   "cell_type": "markdown",
   "metadata": {
    "collapsed": false
   },
   "source": [
    "#### Naive Bayes Gaussian Model"
   ]
  },
  {
   "cell_type": "code",
   "execution_count": 156,
   "metadata": {
    "ExecuteTime": {
     "end_time": "2023-12-04T23:23:20.466032100Z",
     "start_time": "2023-12-04T23:23:20.427846Z"
    }
   },
   "outputs": [],
   "source": [
    "nb_model = naive_bayes.GaussianNB()"
   ]
  },
  {
   "cell_type": "code",
   "execution_count": 157,
   "metadata": {
    "ExecuteTime": {
     "end_time": "2023-12-04T23:23:20.498020100Z",
     "start_time": "2023-12-04T23:23:20.440831900Z"
    }
   },
   "outputs": [
    {
     "name": "stderr",
     "output_type": "stream",
     "text": [
      "/Library/Frameworks/Python.framework/Versions/3.9/lib/python3.9/site-packages/sklearn/utils/validation.py:1183: DataConversionWarning: A column-vector y was passed when a 1d array was expected. Please change the shape of y to (n_samples, ), for example using ravel().\n",
      "  y = column_or_1d(y, warn=True)\n"
     ]
    }
   ],
   "source": [
    "nb_model.fit(X_train, y_train)\n",
    "nb_y_pred = nb_model.predict(X_test)"
   ]
  },
  {
   "cell_type": "code",
   "execution_count": 158,
   "metadata": {
    "ExecuteTime": {
     "end_time": "2023-12-04T23:23:20.558923200Z",
     "start_time": "2023-12-04T23:23:20.470021800Z"
    }
   },
   "outputs": [],
   "source": [
    "nb_accuracy = accuracy_score(y_test, nb_y_pred)\n",
    "nb_conf_matrix = confusion_matrix(y_test, nb_y_pred)\n",
    "nb_classification_rep = classification_report(y_test, nb_y_pred)"
   ]
  },
  {
   "cell_type": "code",
   "execution_count": 159,
   "metadata": {
    "ExecuteTime": {
     "end_time": "2023-12-04T23:23:20.574133500Z",
     "start_time": "2023-12-04T23:23:20.531153300Z"
    }
   },
   "outputs": [
    {
     "name": "stdout",
     "output_type": "stream",
     "text": [
      "Accuracy: 0.7456958113687709\n",
      "\n",
      "Confusion Matrix:\n",
      " [[ 1723  8508]\n",
      " [ 1285 26993]]\n",
      "\n",
      "Classification Report:\n",
      "               precision    recall  f1-score   support\n",
      "\n",
      "           0       0.57      0.17      0.26     10231\n",
      "           1       0.76      0.95      0.85     28278\n",
      "\n",
      "    accuracy                           0.75     38509\n",
      "   macro avg       0.67      0.56      0.55     38509\n",
      "weighted avg       0.71      0.75      0.69     38509\n",
      "\n"
     ]
    }
   ],
   "source": [
    "print(f\"Accuracy: {nb_accuracy}\")\n",
    "print(\"\\nConfusion Matrix:\\n\", nb_conf_matrix)\n",
    "print(\"\\nClassification Report:\\n\", nb_classification_rep)"
   ]
  },
  {
   "cell_type": "markdown",
   "metadata": {
    "collapsed": false
   },
   "source": [
    "#### Naive Bayes Categorical Model"
   ]
  },
  {
   "cell_type": "code",
   "execution_count": 160,
   "metadata": {
    "ExecuteTime": {
     "end_time": "2023-12-04T23:23:20.579140500Z",
     "start_time": "2023-12-04T23:23:20.547764400Z"
    }
   },
   "outputs": [],
   "source": [
    "cnb_model = naive_bayes.CategoricalNB(alpha=3.4)"
   ]
  },
  {
   "cell_type": "code",
   "execution_count": 161,
   "metadata": {
    "ExecuteTime": {
     "end_time": "2023-12-04T23:23:20.684062800Z",
     "start_time": "2023-12-04T23:23:20.563917400Z"
    }
   },
   "outputs": [
    {
     "name": "stderr",
     "output_type": "stream",
     "text": [
      "/Library/Frameworks/Python.framework/Versions/3.9/lib/python3.9/site-packages/sklearn/utils/validation.py:1183: DataConversionWarning: A column-vector y was passed when a 1d array was expected. Please change the shape of y to (n_samples, ), for example using ravel().\n",
      "  y = column_or_1d(y, warn=True)\n"
     ]
    }
   ],
   "source": [
    "cnb_model.fit(X_train, y_train)\n",
    "cnb_y_pred = cnb_model.predict(X_test)"
   ]
  },
  {
   "cell_type": "code",
   "execution_count": 162,
   "metadata": {
    "ExecuteTime": {
     "end_time": "2023-12-04T23:23:20.688010300Z",
     "start_time": "2023-12-04T23:23:20.613238400Z"
    }
   },
   "outputs": [],
   "source": [
    "cnb_accuracy = accuracy_score(y_test, cnb_y_pred)\n",
    "cnb_conf_matrix = confusion_matrix(y_test, cnb_y_pred)\n",
    "cnb_classification_rep = classification_report(y_test, cnb_y_pred)"
   ]
  },
  {
   "cell_type": "code",
   "execution_count": 163,
   "metadata": {
    "ExecuteTime": {
     "end_time": "2023-12-04T23:23:20.702969700Z",
     "start_time": "2023-12-04T23:23:20.673003700Z"
    }
   },
   "outputs": [
    {
     "name": "stdout",
     "output_type": "stream",
     "text": [
      "Accuracy: 0.7425796567036277\n",
      "\n",
      "Confusion Matrix:\n",
      " [[ 1274  8957]\n",
      " [  956 27322]]\n",
      "\n",
      "Classification Report:\n",
      "               precision    recall  f1-score   support\n",
      "\n",
      "           0       0.57      0.12      0.20     10231\n",
      "           1       0.75      0.97      0.85     28278\n",
      "\n",
      "    accuracy                           0.74     38509\n",
      "   macro avg       0.66      0.55      0.53     38509\n",
      "weighted avg       0.70      0.74      0.68     38509\n",
      "\n"
     ]
    }
   ],
   "source": [
    "print(f\"Accuracy: {cnb_accuracy}\")\n",
    "print(\"\\nConfusion Matrix:\\n\", cnb_conf_matrix)\n",
    "print(\"\\nClassification Report:\\n\", cnb_classification_rep)"
   ]
  },
  {
   "cell_type": "markdown",
   "metadata": {
    "collapsed": false
   },
   "source": [
    "#### Gradient Boosting Classifier Model    "
   ]
  },
  {
   "cell_type": "code",
   "execution_count": 164,
   "metadata": {
    "ExecuteTime": {
     "end_time": "2023-12-04T23:23:20.761009Z",
     "start_time": "2023-12-04T23:23:20.689010600Z"
    }
   },
   "outputs": [],
   "source": [
    "gbc_model = ensemble.GradientBoostingClassifier(n_estimators=150)"
   ]
  },
  {
   "cell_type": "code",
   "execution_count": 165,
   "metadata": {
    "ExecuteTime": {
     "end_time": "2023-12-04T23:23:32.093019Z",
     "start_time": "2023-12-04T23:23:20.701009500Z"
    }
   },
   "outputs": [
    {
     "name": "stderr",
     "output_type": "stream",
     "text": [
      "/Library/Frameworks/Python.framework/Versions/3.9/lib/python3.9/site-packages/sklearn/ensemble/_gb.py:424: DataConversionWarning: A column-vector y was passed when a 1d array was expected. Please change the shape of y to (n_samples, ), for example using ravel().\n",
      "  y = column_or_1d(y, warn=True)\n"
     ]
    }
   ],
   "source": [
    "gbc_model.fit(X_train, y_train)\n",
    "gbc_y_pred = gbc_model.predict(X_test)"
   ]
  },
  {
   "cell_type": "code",
   "execution_count": 166,
   "metadata": {
    "ExecuteTime": {
     "end_time": "2023-12-04T23:23:32.155382200Z",
     "start_time": "2023-12-04T23:23:32.095215300Z"
    }
   },
   "outputs": [],
   "source": [
    "gbc_accuracy = accuracy_score(y_test, gbc_y_pred)\n",
    "gbc_conf_matrix = confusion_matrix(y_test, gbc_y_pred)\n",
    "gbc_classification_rep = classification_report(y_test, gbc_y_pred)"
   ]
  },
  {
   "cell_type": "code",
   "execution_count": 167,
   "metadata": {
    "ExecuteTime": {
     "end_time": "2023-12-04T23:23:32.171430200Z",
     "start_time": "2023-12-04T23:23:32.158366600Z"
    }
   },
   "outputs": [
    {
     "name": "stdout",
     "output_type": "stream",
     "text": [
      "Accuracy: 0.7459554909241995\n",
      "\n",
      "Confusion Matrix:\n",
      " [[ 1638  8593]\n",
      " [ 1190 27088]]\n",
      "\n",
      "Classification Report:\n",
      "               precision    recall  f1-score   support\n",
      "\n",
      "           0       0.58      0.16      0.25     10231\n",
      "           1       0.76      0.96      0.85     28278\n",
      "\n",
      "    accuracy                           0.75     38509\n",
      "   macro avg       0.67      0.56      0.55     38509\n",
      "weighted avg       0.71      0.75      0.69     38509\n",
      "\n"
     ]
    }
   ],
   "source": [
    "print(f\"Accuracy: {gbc_accuracy}\")\n",
    "print(\"\\nConfusion Matrix:\\n\", gbc_conf_matrix)\n",
    "print(\"\\nClassification Report:\\n\", gbc_classification_rep)"
   ]
  },
  {
   "cell_type": "markdown",
   "metadata": {
    "collapsed": false
   },
   "source": [
    "#### Bagging Classifier Model"
   ]
  },
  {
   "cell_type": "code",
   "execution_count": 168,
   "metadata": {
    "ExecuteTime": {
     "end_time": "2023-12-04T23:26:56.960091900Z",
     "start_time": "2023-12-04T23:26:56.928638700Z"
    },
    "collapsed": false
   },
   "outputs": [],
   "source": [
    "base_cls = DecisionTreeClassifier(random_state=42, max_depth=10)"
   ]
  },
  {
   "cell_type": "code",
   "execution_count": 169,
   "metadata": {
    "ExecuteTime": {
     "end_time": "2023-12-04T23:27:00.306200600Z",
     "start_time": "2023-12-04T23:27:00.284432400Z"
    },
    "collapsed": false
   },
   "outputs": [],
   "source": [
    "bagging_clf = BaggingClassifier(\n",
    "    base_estimator=base_cls,\n",
    "    n_estimators=100,\n",
    "    random_state=42\n",
    ")"
   ]
  },
  {
   "cell_type": "code",
   "execution_count": 170,
   "metadata": {
    "ExecuteTime": {
     "end_time": "2023-12-04T23:27:16.579011100Z",
     "start_time": "2023-12-04T23:27:01.814731200Z"
    },
    "collapsed": false
   },
   "outputs": [
    {
     "name": "stderr",
     "output_type": "stream",
     "text": [
      "/Library/Frameworks/Python.framework/Versions/3.9/lib/python3.9/site-packages/sklearn/ensemble/_bagging.py:802: DataConversionWarning: A column-vector y was passed when a 1d array was expected. Please change the shape of y to (n_samples, ), for example using ravel().\n",
      "  y = column_or_1d(y, warn=True)\n",
      "/Library/Frameworks/Python.framework/Versions/3.9/lib/python3.9/site-packages/sklearn/ensemble/_base.py:156: FutureWarning: `base_estimator` was renamed to `estimator` in version 1.2 and will be removed in 1.4.\n",
      "  warnings.warn(\n"
     ]
    },
    {
     "data": {
      "text/html": [
       "<style>#sk-container-id-7 {color: black;}#sk-container-id-7 pre{padding: 0;}#sk-container-id-7 div.sk-toggleable {background-color: white;}#sk-container-id-7 label.sk-toggleable__label {cursor: pointer;display: block;width: 100%;margin-bottom: 0;padding: 0.3em;box-sizing: border-box;text-align: center;}#sk-container-id-7 label.sk-toggleable__label-arrow:before {content: \"▸\";float: left;margin-right: 0.25em;color: #696969;}#sk-container-id-7 label.sk-toggleable__label-arrow:hover:before {color: black;}#sk-container-id-7 div.sk-estimator:hover label.sk-toggleable__label-arrow:before {color: black;}#sk-container-id-7 div.sk-toggleable__content {max-height: 0;max-width: 0;overflow: hidden;text-align: left;background-color: #f0f8ff;}#sk-container-id-7 div.sk-toggleable__content pre {margin: 0.2em;color: black;border-radius: 0.25em;background-color: #f0f8ff;}#sk-container-id-7 input.sk-toggleable__control:checked~div.sk-toggleable__content {max-height: 200px;max-width: 100%;overflow: auto;}#sk-container-id-7 input.sk-toggleable__control:checked~label.sk-toggleable__label-arrow:before {content: \"▾\";}#sk-container-id-7 div.sk-estimator input.sk-toggleable__control:checked~label.sk-toggleable__label {background-color: #d4ebff;}#sk-container-id-7 div.sk-label input.sk-toggleable__control:checked~label.sk-toggleable__label {background-color: #d4ebff;}#sk-container-id-7 input.sk-hidden--visually {border: 0;clip: rect(1px 1px 1px 1px);clip: rect(1px, 1px, 1px, 1px);height: 1px;margin: -1px;overflow: hidden;padding: 0;position: absolute;width: 1px;}#sk-container-id-7 div.sk-estimator {font-family: monospace;background-color: #f0f8ff;border: 1px dotted black;border-radius: 0.25em;box-sizing: border-box;margin-bottom: 0.5em;}#sk-container-id-7 div.sk-estimator:hover {background-color: #d4ebff;}#sk-container-id-7 div.sk-parallel-item::after {content: \"\";width: 100%;border-bottom: 1px solid gray;flex-grow: 1;}#sk-container-id-7 div.sk-label:hover label.sk-toggleable__label {background-color: #d4ebff;}#sk-container-id-7 div.sk-serial::before {content: \"\";position: absolute;border-left: 1px solid gray;box-sizing: border-box;top: 0;bottom: 0;left: 50%;z-index: 0;}#sk-container-id-7 div.sk-serial {display: flex;flex-direction: column;align-items: center;background-color: white;padding-right: 0.2em;padding-left: 0.2em;position: relative;}#sk-container-id-7 div.sk-item {position: relative;z-index: 1;}#sk-container-id-7 div.sk-parallel {display: flex;align-items: stretch;justify-content: center;background-color: white;position: relative;}#sk-container-id-7 div.sk-item::before, #sk-container-id-7 div.sk-parallel-item::before {content: \"\";position: absolute;border-left: 1px solid gray;box-sizing: border-box;top: 0;bottom: 0;left: 50%;z-index: -1;}#sk-container-id-7 div.sk-parallel-item {display: flex;flex-direction: column;z-index: 1;position: relative;background-color: white;}#sk-container-id-7 div.sk-parallel-item:first-child::after {align-self: flex-end;width: 50%;}#sk-container-id-7 div.sk-parallel-item:last-child::after {align-self: flex-start;width: 50%;}#sk-container-id-7 div.sk-parallel-item:only-child::after {width: 0;}#sk-container-id-7 div.sk-dashed-wrapped {border: 1px dashed gray;margin: 0 0.4em 0.5em 0.4em;box-sizing: border-box;padding-bottom: 0.4em;background-color: white;}#sk-container-id-7 div.sk-label label {font-family: monospace;font-weight: bold;display: inline-block;line-height: 1.2em;}#sk-container-id-7 div.sk-label-container {text-align: center;}#sk-container-id-7 div.sk-container {/* jupyter's `normalize.less` sets `[hidden] { display: none; }` but bootstrap.min.css set `[hidden] { display: none !important; }` so we also need the `!important` here to be able to override the default hidden behavior on the sphinx rendered scikit-learn.org. See: https://github.com/scikit-learn/scikit-learn/issues/21755 */display: inline-block !important;position: relative;}#sk-container-id-7 div.sk-text-repr-fallback {display: none;}</style><div id=\"sk-container-id-7\" class=\"sk-top-container\"><div class=\"sk-text-repr-fallback\"><pre>BaggingClassifier(base_estimator=DecisionTreeClassifier(max_depth=10,\n",
       "                                                        random_state=42),\n",
       "                  n_estimators=100, random_state=42)</pre><b>In a Jupyter environment, please rerun this cell to show the HTML representation or trust the notebook. <br />On GitHub, the HTML representation is unable to render, please try loading this page with nbviewer.org.</b></div><div class=\"sk-container\" hidden><div class=\"sk-item sk-dashed-wrapped\"><div class=\"sk-label-container\"><div class=\"sk-label sk-toggleable\"><input class=\"sk-toggleable__control sk-hidden--visually\" id=\"sk-estimator-id-7\" type=\"checkbox\" ><label for=\"sk-estimator-id-7\" class=\"sk-toggleable__label sk-toggleable__label-arrow\">BaggingClassifier</label><div class=\"sk-toggleable__content\"><pre>BaggingClassifier(base_estimator=DecisionTreeClassifier(max_depth=10,\n",
       "                                                        random_state=42),\n",
       "                  n_estimators=100, random_state=42)</pre></div></div></div><div class=\"sk-parallel\"><div class=\"sk-parallel-item\"><div class=\"sk-item\"><div class=\"sk-label-container\"><div class=\"sk-label sk-toggleable\"><input class=\"sk-toggleable__control sk-hidden--visually\" id=\"sk-estimator-id-8\" type=\"checkbox\" ><label for=\"sk-estimator-id-8\" class=\"sk-toggleable__label sk-toggleable__label-arrow\">base_estimator: DecisionTreeClassifier</label><div class=\"sk-toggleable__content\"><pre>DecisionTreeClassifier(max_depth=10, random_state=42)</pre></div></div></div><div class=\"sk-serial\"><div class=\"sk-item\"><div class=\"sk-estimator sk-toggleable\"><input class=\"sk-toggleable__control sk-hidden--visually\" id=\"sk-estimator-id-9\" type=\"checkbox\" ><label for=\"sk-estimator-id-9\" class=\"sk-toggleable__label sk-toggleable__label-arrow\">DecisionTreeClassifier</label><div class=\"sk-toggleable__content\"><pre>DecisionTreeClassifier(max_depth=10, random_state=42)</pre></div></div></div></div></div></div></div></div></div></div>"
      ],
      "text/plain": [
       "BaggingClassifier(base_estimator=DecisionTreeClassifier(max_depth=10,\n",
       "                                                        random_state=42),\n",
       "                  n_estimators=100, random_state=42)"
      ]
     },
     "execution_count": 170,
     "metadata": {},
     "output_type": "execute_result"
    }
   ],
   "source": [
    "bagging_clf.fit(X_train, y_train)"
   ]
  },
  {
   "cell_type": "code",
   "execution_count": 171,
   "metadata": {
    "ExecuteTime": {
     "end_time": "2023-12-04T23:27:16.929191800Z",
     "start_time": "2023-12-04T23:27:16.573012500Z"
    },
    "collapsed": false
   },
   "outputs": [],
   "source": [
    "bagging_y_pred = bagging_clf.predict(X_test)"
   ]
  },
  {
   "cell_type": "code",
   "execution_count": 172,
   "metadata": {
    "ExecuteTime": {
     "end_time": "2023-12-04T23:27:16.992007700Z",
     "start_time": "2023-12-04T23:27:16.931192300Z"
    },
    "collapsed": false
   },
   "outputs": [],
   "source": [
    "bagging_accuracy = accuracy_score(y_test, bagging_y_pred)\n",
    "bagging_conf_matrix = confusion_matrix(y_test, bagging_y_pred)\n",
    "bagging_classification_rep = classification_report(y_test, bagging_y_pred)"
   ]
  },
  {
   "cell_type": "code",
   "execution_count": 173,
   "metadata": {
    "ExecuteTime": {
     "end_time": "2023-12-04T23:27:17.015078400Z",
     "start_time": "2023-12-04T23:27:16.994362200Z"
    },
    "collapsed": false
   },
   "outputs": [
    {
     "name": "stdout",
     "output_type": "stream",
     "text": [
      "Bagging Classifier Accuracy: 0.744579189280428\n",
      "\n",
      "Confusion Matrix:\n",
      " [[ 1417  8814]\n",
      " [ 1022 27256]]\n",
      "\n",
      "Classification Report:\n",
      "               precision    recall  f1-score   support\n",
      "\n",
      "           0       0.58      0.14      0.22     10231\n",
      "           1       0.76      0.96      0.85     28278\n",
      "\n",
      "    accuracy                           0.74     38509\n",
      "   macro avg       0.67      0.55      0.54     38509\n",
      "weighted avg       0.71      0.74      0.68     38509\n",
      "\n"
     ]
    }
   ],
   "source": [
    "print(f\"Bagging Classifier Accuracy: {bagging_accuracy}\")\n",
    "print(\"\\nConfusion Matrix:\\n\", bagging_conf_matrix)\n",
    "print(\"\\nClassification Report:\\n\", bagging_classification_rep)"
   ]
  },
  {
   "attachments": {},
   "cell_type": "markdown",
   "metadata": {},
   "source": [
    "## SVM model"
   ]
  },
  {
   "cell_type": "code",
   "execution_count": 174,
   "metadata": {},
   "outputs": [],
   "source": [
    "max_age = df['age'].max()\n",
    "max_text = df['text_length'].max()\n",
    "\n",
    "for d in dataset:\n",
    "    if 'age' in d and d['age'] is not None:\n",
    "        d['age'] = int(d['age'])/max_age\n",
    "    else:\n",
    "        d['age'] = 0\n",
    "    d['text_length'] = len(d['review_text'])/max_text\n",
    "    if 'rating' in d and d['rating'] is not None:\n",
    "        d['rating'] = int(d['rating'])/2\n",
    "    else:\n",
    "        d['rating'] = 0\n",
    "    if d['fit'] == 'fit':\n",
    "        d['fit'] = 1\n",
    "    else:\n",
    "        d['fit'] = 0\n",
    "\n"
   ]
  },
  {
   "cell_type": "code",
   "execution_count": 175,
   "metadata": {},
   "outputs": [],
   "source": [
    "import sklearn\n",
    "from sklearn import svm\n",
    "from sklearn.preprocessing import StandardScaler\n",
    "\n",
    "\n",
    "dataTrain, dataTest = train_test_split(dataset, test_size=0.2, random_state=42)\n",
    "\n",
    "x_train = [[d['rating'], d['age'], d['text_length']] for d in dataTrain]\n",
    "y_train = [d['fit'] for d in dataTrain]\n",
    "scaler = StandardScaler()\n",
    "X_train_scaled = scaler.fit_transform(X_train)"
   ]
  },
  {
   "cell_type": "code",
   "execution_count": 176,
   "metadata": {},
   "outputs": [],
   "source": [
    "model = svm.SVC(kernel='linear', C = 1.0)\n",
    "model.fit(X_train_scaled, y_train)\n",
    "\n",
    "\n",
    "x_test = [[d['rating'], d['age'], d['text_length']] for d in dataTest]\n",
    "y_test = [d['fit'] for d in dataTest]"
   ]
  },
  {
   "cell_type": "code",
   "execution_count": 177,
   "metadata": {},
   "outputs": [
    {
     "name": "stderr",
     "output_type": "stream",
     "text": [
      "/Library/Frameworks/Python.framework/Versions/3.9/lib/python3.9/site-packages/sklearn/base.py:458: UserWarning: X has feature names, but SVC was fitted without feature names\n",
      "  warnings.warn(\n"
     ]
    }
   ],
   "source": [
    "predictions = model.predict(X_test)\n"
   ]
  },
  {
   "cell_type": "code",
   "execution_count": 178,
   "metadata": {},
   "outputs": [
    {
     "data": {
      "text/plain": [
       "0.7343218468409982"
      ]
     },
     "execution_count": 178,
     "metadata": {},
     "output_type": "execute_result"
    }
   ],
   "source": [
    "svm_accuracy = sklearn.metrics.accuracy_score(y_test, predictions)\n",
    "svm_accuracy\n"
   ]
  },
  {
   "attachments": {},
   "cell_type": "markdown",
   "metadata": {},
   "source": [
    "## XGB Boosting"
   ]
  },
  {
   "cell_type": "code",
   "execution_count": 179,
   "metadata": {},
   "outputs": [],
   "source": [
    "import xgboost as xgb\n",
    "from sklearn.datasets import load_breast_cancer\n",
    "from sklearn.model_selection import train_test_split\n",
    "from sklearn.metrics import accuracy_score"
   ]
  },
  {
   "cell_type": "code",
   "execution_count": 180,
   "metadata": {},
   "outputs": [
    {
     "name": "stdout",
     "output_type": "stream",
     "text": [
      "xgb_accuracy: 0.7441896699472851\n"
     ]
    }
   ],
   "source": [
    "model_xgb = xgb.XGBClassifier(objective=\"binary:logistic\", random_state=42)\n",
    "\n",
    "model_xgb.fit(X_train, y_train)\n",
    "\n",
    "y_pred = model_xgb.predict(X_test)\n",
    "\n",
    "xgb_accuracy = accuracy_score(y_test, y_pred)\n",
    "print(\"xgb_accuracy:\", xgb_accuracy)"
   ]
  },
  {
   "attachments": {},
   "cell_type": "markdown",
   "metadata": {},
   "source": [
    "## LDA Analysis"
   ]
  },
  {
   "cell_type": "code",
   "execution_count": 181,
   "metadata": {},
   "outputs": [],
   "source": [
    "from sklearn.discriminant_analysis import LinearDiscriminantAnalysis\n"
   ]
  },
  {
   "cell_type": "code",
   "execution_count": 182,
   "metadata": {},
   "outputs": [
    {
     "name": "stdout",
     "output_type": "stream",
     "text": [
      "lda_accuracy: 0.7455659715910566\n"
     ]
    }
   ],
   "source": [
    "lda = LinearDiscriminantAnalysis()\n",
    "\n",
    "lda.fit(X_train, y_train)\n",
    "\n",
    "y_pred = lda.predict(X_test)\n",
    "\n",
    "lda_accuracy = accuracy_score(y_test, y_pred)\n",
    "print(\"lda_accuracy:\", lda_accuracy)\n"
   ]
  },
  {
   "cell_type": "markdown",
   "metadata": {
    "collapsed": false
   },
   "source": [
    "### Comparision"
   ]
  },
  {
   "cell_type": "code",
   "execution_count": 183,
   "metadata": {
    "ExecuteTime": {
     "end_time": "2023-12-04T23:35:28.789330200Z",
     "start_time": "2023-12-04T23:35:28.754959300Z"
    },
    "collapsed": false
   },
   "outputs": [],
   "source": [
    "df = pd.DataFrame({\n",
    "    'Model': ['Logistic Regression', 'Random Forest', 'Naive Bayes Gaussian', 'Naive Bayes Categorical', 'Gradient Boosting Classifier', 'Bagging Classifier', 'SVM', 'XGB boosting', 'LDA'],\n",
    "    'Accuracy': [logistic_accuracy, rf_accuracy, nb_accuracy, cnb_accuracy, gbc_accuracy, bagging_accuracy, svm_accuracy, xgb_accuracy, lda_accuracy]\n",
    "})"
   ]
  },
  {
   "cell_type": "code",
   "execution_count": 184,
   "metadata": {
    "ExecuteTime": {
     "end_time": "2023-12-04T23:35:42.908191900Z",
     "start_time": "2023-12-04T23:35:42.855705Z"
    },
    "collapsed": false
   },
   "outputs": [],
   "source": [
    "df.index = df.index + 1"
   ]
  },
  {
   "cell_type": "code",
   "execution_count": 185,
   "metadata": {
    "ExecuteTime": {
     "end_time": "2023-12-04T23:35:47.350021600Z",
     "start_time": "2023-12-04T23:35:47.239837200Z"
    },
    "collapsed": false
   },
   "outputs": [
    {
     "data": {
      "text/html": [
       "<div>\n",
       "<style scoped>\n",
       "    .dataframe tbody tr th:only-of-type {\n",
       "        vertical-align: middle;\n",
       "    }\n",
       "\n",
       "    .dataframe tbody tr th {\n",
       "        vertical-align: top;\n",
       "    }\n",
       "\n",
       "    .dataframe thead th {\n",
       "        text-align: right;\n",
       "    }\n",
       "</style>\n",
       "<table border=\"1\" class=\"dataframe\">\n",
       "  <thead>\n",
       "    <tr style=\"text-align: right;\">\n",
       "      <th></th>\n",
       "      <th>Model</th>\n",
       "      <th>Accuracy</th>\n",
       "    </tr>\n",
       "  </thead>\n",
       "  <tbody>\n",
       "    <tr>\n",
       "      <th>1</th>\n",
       "      <td>Logistic Regression</td>\n",
       "      <td>0.742917</td>\n",
       "    </tr>\n",
       "    <tr>\n",
       "      <th>2</th>\n",
       "      <td>Random Forest</td>\n",
       "      <td>0.744060</td>\n",
       "    </tr>\n",
       "    <tr>\n",
       "      <th>3</th>\n",
       "      <td>Naive Bayes Gaussian</td>\n",
       "      <td>0.745696</td>\n",
       "    </tr>\n",
       "    <tr>\n",
       "      <th>4</th>\n",
       "      <td>Naive Bayes Categorical</td>\n",
       "      <td>0.742580</td>\n",
       "    </tr>\n",
       "    <tr>\n",
       "      <th>5</th>\n",
       "      <td>Gradient Boosting Classifier</td>\n",
       "      <td>0.745955</td>\n",
       "    </tr>\n",
       "    <tr>\n",
       "      <th>6</th>\n",
       "      <td>Bagging Classifier</td>\n",
       "      <td>0.744579</td>\n",
       "    </tr>\n",
       "    <tr>\n",
       "      <th>7</th>\n",
       "      <td>SVM</td>\n",
       "      <td>0.734322</td>\n",
       "    </tr>\n",
       "    <tr>\n",
       "      <th>8</th>\n",
       "      <td>XGB boosting</td>\n",
       "      <td>0.744190</td>\n",
       "    </tr>\n",
       "    <tr>\n",
       "      <th>9</th>\n",
       "      <td>LDA</td>\n",
       "      <td>0.745566</td>\n",
       "    </tr>\n",
       "  </tbody>\n",
       "</table>\n",
       "</div>"
      ],
      "text/plain": [
       "                          Model  Accuracy\n",
       "1           Logistic Regression  0.742917\n",
       "2                 Random Forest  0.744060\n",
       "3          Naive Bayes Gaussian  0.745696\n",
       "4       Naive Bayes Categorical  0.742580\n",
       "5  Gradient Boosting Classifier  0.745955\n",
       "6            Bagging Classifier  0.744579\n",
       "7                           SVM  0.734322\n",
       "8                  XGB boosting  0.744190\n",
       "9                           LDA  0.745566"
      ]
     },
     "execution_count": 185,
     "metadata": {},
     "output_type": "execute_result"
    }
   ],
   "source": [
    "df"
   ]
  }
 ],
 "metadata": {
  "kernelspec": {
   "display_name": "Python 3 (ipykernel)",
   "language": "python",
   "name": "python3"
  },
  "language_info": {
   "codemirror_mode": {
    "name": "ipython",
    "version": 3
   },
   "file_extension": ".py",
   "mimetype": "text/x-python",
   "name": "python",
   "nbconvert_exporter": "python",
   "pygments_lexer": "ipython3",
   "version": "3.11.5"
  },
  "vscode": {
   "interpreter": {
    "hash": "aee8b7b246df8f9039afb4144a1f6fd8d2ca17a180786b69acc140d282b71a49"
   }
  }
 },
 "nbformat": 4,
 "nbformat_minor": 2
}
