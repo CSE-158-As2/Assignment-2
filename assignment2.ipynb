{
 "cells": [
  {
   "cell_type": "code",
   "execution_count": 99,
   "metadata": {
    "ExecuteTime": {
     "end_time": "2023-12-03T09:16:50.029032200Z",
     "start_time": "2023-12-03T09:16:49.455212Z"
    }
   },
   "outputs": [],
   "source": [
    "import json\n",
    "# from collections import defaultdict\n",
    "from sklearn import linear_model\n",
    "# from sklearn.linear_model import LinearRegression\n",
    "import numpy\n",
    "import gzip\n",
    "import matplotlib.pyplot as plt\n",
    "import pandas as pd\n",
    "import seaborn as sns\n",
    "from sklearn.model_selection import train_test_split\n",
    "from sklearn.preprocessing import LabelEncoder, StandardScaler\n",
    "from sklearn.ensemble import RandomForestClassifier\n",
    "from sklearn.metrics import accuracy_score, classification_report\n",
    "from sklearn.preprocessing import OneHotEncoder"
   ]
  },
  {
   "cell_type": "code",
   "execution_count": 100,
   "metadata": {
    "ExecuteTime": {
     "end_time": "2023-12-03T09:16:52.062013600Z",
     "start_time": "2023-12-03T09:16:49.825035900Z"
    }
   },
   "outputs": [],
   "source": [
    "f = gzip.open(\"renttherunway_final_data.json.gz\")\n",
    "dataset = []\n",
    "for l in f:\n",
    "    dataset.append(json.loads(l))\n",
    "f.close()"
   ]
  },
  {
   "cell_type": "code",
   "execution_count": 101,
   "metadata": {
    "ExecuteTime": {
     "end_time": "2023-12-03T09:16:52.079012300Z",
     "start_time": "2023-12-03T09:16:52.064012900Z"
    }
   },
   "outputs": [
    {
     "data": {
      "text/plain": [
       "{'fit': 'fit',\n",
       " 'user_id': '420272',\n",
       " 'bust size': '34d',\n",
       " 'item_id': '2260466',\n",
       " 'weight': '137lbs',\n",
       " 'rating': '10',\n",
       " 'rented for': 'vacation',\n",
       " 'review_text': \"An adorable romper! Belt and zipper were a little hard to navigate in a full day of wear/bathroom use, but that's to be expected. Wish it had pockets, but other than that-- absolutely perfect! I got a million compliments.\",\n",
       " 'body type': 'hourglass',\n",
       " 'review_summary': 'So many compliments!',\n",
       " 'category': 'romper',\n",
       " 'height': '5\\' 8\"',\n",
       " 'size': 14,\n",
       " 'age': '28',\n",
       " 'review_date': 'April 20, 2016'}"
      ]
     },
     "execution_count": 101,
     "metadata": {},
     "output_type": "execute_result"
    }
   ],
   "source": [
    "dataset[0]"
   ]
  },
  {
   "cell_type": "markdown",
   "metadata": {},
   "source": [
    "## How does the age of users influence their ratings of clothing items rented from Rent the Runway?"
   ]
  },
  {
   "cell_type": "code",
   "execution_count": 102,
   "metadata": {
    "ExecuteTime": {
     "end_time": "2023-12-03T09:16:52.210011600Z",
     "start_time": "2023-12-03T09:16:52.080016700Z"
    }
   },
   "outputs": [],
   "source": [
    "clean_dataset = []\n",
    "for d in dataset:\n",
    "    if 'age' in d and 'rating' in d and str(d['age']).isdigit() and str(d['rating']).isdigit():\n",
    "        clean_dataset.append(d)"
   ]
  },
  {
   "cell_type": "code",
   "execution_count": 103,
   "metadata": {
    "ExecuteTime": {
     "end_time": "2023-12-03T09:16:52.356011600Z",
     "start_time": "2023-12-03T09:16:52.216012500Z"
    }
   },
   "outputs": [],
   "source": [
    "ages = [int(d['age']) for d in clean_dataset]\n",
    "ratings = [int(d['rating']) for d in clean_dataset]"
   ]
  },
  {
   "cell_type": "code",
   "execution_count": 104,
   "metadata": {
    "ExecuteTime": {
     "end_time": "2023-12-03T09:16:53.696074200Z",
     "start_time": "2023-12-03T09:16:52.353010100Z"
    }
   },
   "outputs": [
    {
     "data": {
      "image/png": "[encoded data removed]",
      "text/plain": [
       "<Figure size 432x288 with 1 Axes>"
      ]
     },
     "metadata": {
      "needs_background": "light"
     },
     "output_type": "display_data"
    }
   ],
   "source": [
    "plt.scatter(ages, ratings, alpha=0.5)\n",
    "plt.title('Age vs Rating')\n",
    "plt.xlabel('Age')\n",
    "plt.ylabel('Rating')\n",
    "plt.show()"
   ]
  },
  {
   "cell_type": "code",
   "execution_count": 105,
   "metadata": {
    "ExecuteTime": {
     "end_time": "2023-12-03T09:16:53.915072100Z",
     "start_time": "2023-12-03T09:16:53.696074200Z"
    }
   },
   "outputs": [],
   "source": [
    "# Prepare the data for linear regression\n",
    "X = numpy.array([[1, age] for age in ages])  # Including the constant term\n",
    "y = numpy.array(ratings).reshape(-1, 1)"
   ]
  },
  {
   "cell_type": "code",
   "execution_count": 106,
   "metadata": {
    "ExecuteTime": {
     "end_time": "2023-12-03T09:16:53.975838500Z",
     "start_time": "2023-12-03T09:16:53.916074100Z"
    }
   },
   "outputs": [
    {
     "data": {
      "text/html": [
       "<style>#sk-container-id-3 {color: black;}#sk-container-id-3 pre{padding: 0;}#sk-container-id-3 div.sk-toggleable {background-color: white;}#sk-container-id-3 label.sk-toggleable__label {cursor: pointer;display: block;width: 100%;margin-bottom: 0;padding: 0.3em;box-sizing: border-box;text-align: center;}#sk-container-id-3 label.sk-toggleable__label-arrow:before {content: \"▸\";float: left;margin-right: 0.25em;color: #696969;}#sk-container-id-3 label.sk-toggleable__label-arrow:hover:before {color: black;}#sk-container-id-3 div.sk-estimator:hover label.sk-toggleable__label-arrow:before {color: black;}#sk-container-id-3 div.sk-toggleable__content {max-height: 0;max-width: 0;overflow: hidden;text-align: left;background-color: #f0f8ff;}#sk-container-id-3 div.sk-toggleable__content pre {margin: 0.2em;color: black;border-radius: 0.25em;background-color: #f0f8ff;}#sk-container-id-3 input.sk-toggleable__control:checked~div.sk-toggleable__content {max-height: 200px;max-width: 100%;overflow: auto;}#sk-container-id-3 input.sk-toggleable__control:checked~label.sk-toggleable__label-arrow:before {content: \"▾\";}#sk-container-id-3 div.sk-estimator input.sk-toggleable__control:checked~label.sk-toggleable__label {background-color: #d4ebff;}#sk-container-id-3 div.sk-label input.sk-toggleable__control:checked~label.sk-toggleable__label {background-color: #d4ebff;}#sk-container-id-3 input.sk-hidden--visually {border: 0;clip: rect(1px 1px 1px 1px);clip: rect(1px, 1px, 1px, 1px);height: 1px;margin: -1px;overflow: hidden;padding: 0;position: absolute;width: 1px;}#sk-container-id-3 div.sk-estimator {font-family: monospace;background-color: #f0f8ff;border: 1px dotted black;border-radius: 0.25em;box-sizing: border-box;margin-bottom: 0.5em;}#sk-container-id-3 div.sk-estimator:hover {background-color: #d4ebff;}#sk-container-id-3 div.sk-parallel-item::after {content: \"\";width: 100%;border-bottom: 1px solid gray;flex-grow: 1;}#sk-container-id-3 div.sk-label:hover label.sk-toggleable__label {background-color: #d4ebff;}#sk-container-id-3 div.sk-serial::before {content: \"\";position: absolute;border-left: 1px solid gray;box-sizing: border-box;top: 0;bottom: 0;left: 50%;z-index: 0;}#sk-container-id-3 div.sk-serial {display: flex;flex-direction: column;align-items: center;background-color: white;padding-right: 0.2em;padding-left: 0.2em;position: relative;}#sk-container-id-3 div.sk-item {position: relative;z-index: 1;}#sk-container-id-3 div.sk-parallel {display: flex;align-items: stretch;justify-content: center;background-color: white;position: relative;}#sk-container-id-3 div.sk-item::before, #sk-container-id-3 div.sk-parallel-item::before {content: \"\";position: absolute;border-left: 1px solid gray;box-sizing: border-box;top: 0;bottom: 0;left: 50%;z-index: -1;}#sk-container-id-3 div.sk-parallel-item {display: flex;flex-direction: column;z-index: 1;position: relative;background-color: white;}#sk-container-id-3 div.sk-parallel-item:first-child::after {align-self: flex-end;width: 50%;}#sk-container-id-3 div.sk-parallel-item:last-child::after {align-self: flex-start;width: 50%;}#sk-container-id-3 div.sk-parallel-item:only-child::after {width: 0;}#sk-container-id-3 div.sk-dashed-wrapped {border: 1px dashed gray;margin: 0 0.4em 0.5em 0.4em;box-sizing: border-box;padding-bottom: 0.4em;background-color: white;}#sk-container-id-3 div.sk-label label {font-family: monospace;font-weight: bold;display: inline-block;line-height: 1.2em;}#sk-container-id-3 div.sk-label-container {text-align: center;}#sk-container-id-3 div.sk-container {/* jupyter's `normalize.less` sets `[hidden] { display: none; }` but bootstrap.min.css set `[hidden] { display: none !important; }` so we also need the `!important` here to be able to override the default hidden behavior on the sphinx rendered scikit-learn.org. See: https://github.com/scikit-learn/scikit-learn/issues/21755 */display: inline-block !important;position: relative;}#sk-container-id-3 div.sk-text-repr-fallback {display: none;}</style><div id=\"sk-container-id-3\" class=\"sk-top-container\"><div class=\"sk-text-repr-fallback\"><pre>LinearRegression(fit_intercept=False)</pre><b>In a Jupyter environment, please rerun this cell to show the HTML representation or trust the notebook. <br />On GitHub, the HTML representation is unable to render, please try loading this page with nbviewer.org.</b></div><div class=\"sk-container\" hidden><div class=\"sk-item\"><div class=\"sk-estimator sk-toggleable\"><input class=\"sk-toggleable__control sk-hidden--visually\" id=\"sk-estimator-id-3\" type=\"checkbox\" checked><label for=\"sk-estimator-id-3\" class=\"sk-toggleable__label sk-toggleable__label-arrow\">LinearRegression</label><div class=\"sk-toggleable__content\"><pre>LinearRegression(fit_intercept=False)</pre></div></div></div></div></div>"
      ],
      "text/plain": [
       "LinearRegression(fit_intercept=False)"
      ]
     },
     "execution_count": 106,
     "metadata": {},
     "output_type": "execute_result"
    }
   ],
   "source": [
    "model = linear_model.LinearRegression(fit_intercept=False)\n",
    "model.fit(X, y)"
   ]
  },
  {
   "cell_type": "code",
   "execution_count": 107,
   "metadata": {
    "ExecuteTime": {
     "end_time": "2023-12-03T09:16:53.979837200Z",
     "start_time": "2023-12-03T09:16:53.951838500Z"
    }
   },
   "outputs": [
    {
     "data": {
      "text/plain": [
       "array([[ 9.30426074e+00, -6.26219615e-03]])"
      ]
     },
     "execution_count": 107,
     "metadata": {},
     "output_type": "execute_result"
    }
   ],
   "source": [
    "theta = model.coef_\n",
    "theta"
   ]
  },
  {
   "cell_type": "code",
   "execution_count": 108,
   "metadata": {
    "ExecuteTime": {
     "end_time": "2023-12-03T09:16:55.278244600Z",
     "start_time": "2023-12-03T09:16:53.976838200Z"
    }
   },
   "outputs": [
    {
     "data": {
      "image/png": "[encoded data removed]",
      "text/plain": [
       "<Figure size 432x288 with 1 Axes>"
      ]
     },
     "metadata": {
      "needs_background": "light"
     },
     "output_type": "display_data"
    }
   ],
   "source": [
    "xplot = numpy.arange(min(ages), max(ages)+1)\n",
    "yplot = [theta[0,0] + theta[0,1]*x for x in xplot]\n",
    "plt.scatter(ages, ratings, color='grey', alpha=0.5)\n",
    "plt.plot(xplot, yplot, color='k', linestyle='--', label=f\"{theta[0,0]:.3f} + {theta[0,1]:.3f} × age\")\n",
    "plt.xlabel(\"Age\")\n",
    "plt.ylabel(\"Rating\")\n",
    "plt.title(\"Rating vs. Age\")\n",
    "plt.legend(loc='lower right')\n",
    "plt.show()"
   ]
  },
  {
   "cell_type": "code",
   "execution_count": 109,
   "metadata": {
    "ExecuteTime": {
     "end_time": "2023-12-03T09:16:55.860202100Z",
     "start_time": "2023-12-03T09:16:55.280210800Z"
    }
   },
   "outputs": [],
   "source": [
    "df = pd.DataFrame(dataset)"
   ]
  },
  {
   "cell_type": "markdown",
   "metadata": {},
   "source": [
    "## How do customer preferences and satisfaction, as indicated by the fit of rented items for different purposes, correlate with the overall trend in service usage over time?"
   ]
  },
  {
   "cell_type": "code",
   "execution_count": 110,
   "metadata": {
    "ExecuteTime": {
     "end_time": "2023-12-03T09:16:56.318199800Z",
     "start_time": "2023-12-03T09:16:55.862320500Z"
    }
   },
   "outputs": [],
   "source": [
    "# Convert 'review_date' to datetime\n",
    "df['review_date'] = pd.to_datetime(df['review_date'])"
   ]
  },
  {
   "cell_type": "code",
   "execution_count": 111,
   "metadata": {
    "ExecuteTime": {
     "end_time": "2023-12-03T09:16:56.332803700Z",
     "start_time": "2023-12-03T09:16:56.321222600Z"
    }
   },
   "outputs": [],
   "source": [
    "# Set the review_date as the index\n",
    "df.set_index('review_date', inplace=True)"
   ]
  },
  {
   "cell_type": "code",
   "execution_count": 112,
   "metadata": {
    "ExecuteTime": {
     "end_time": "2023-12-03T09:16:56.520902800Z",
     "start_time": "2023-12-03T09:16:56.336802800Z"
    }
   },
   "outputs": [],
   "source": [
    "# Sort the data by date to prepare for the time series analysis\n",
    "df.sort_index(inplace=True)"
   ]
  },
  {
   "cell_type": "code",
   "execution_count": 113,
   "metadata": {
    "ExecuteTime": {
     "end_time": "2023-12-03T09:16:56.757898300Z",
     "start_time": "2023-12-03T09:16:56.522900100Z"
    }
   },
   "outputs": [],
   "source": [
    "# Aggregating data by month to see the trend more clearly\n",
    "monthly_data = df.resample('M').size()"
   ]
  },
  {
   "cell_type": "code",
   "execution_count": 114,
   "metadata": {
    "ExecuteTime": {
     "end_time": "2023-12-03T09:16:57.007894400Z",
     "start_time": "2023-12-03T09:16:56.761896600Z"
    }
   },
   "outputs": [
    {
     "data": {
      "image/png": "[encoded data removed]",
      "text/plain": [
       "<Figure size 720x360 with 1 Axes>"
      ]
     },
     "metadata": {
      "needs_background": "light"
     },
     "output_type": "display_data"
    }
   ],
   "source": [
    "# Plotting the trend of reviews over time\n",
    "plt.figure(figsize=(10, 5))\n",
    "monthly_data.plot(title='Trend of Reviews Over Time')\n",
    "plt.xlabel('Date')\n",
    "plt.ylabel('Number of Reviews')\n",
    "plt.show()"
   ]
  },
  {
   "cell_type": "code",
   "execution_count": 115,
   "metadata": {
    "ExecuteTime": {
     "end_time": "2023-12-03T09:16:57.247919900Z",
     "start_time": "2023-12-03T09:16:57.034896800Z"
    }
   },
   "outputs": [],
   "source": [
    "# Replace 'nan' string with actual NaN and drop those rows\n",
    "df['rented for'] = df['rented for'].replace('NaN', pd.NA)\n",
    "df.dropna(subset=['rented for'], inplace=True)"
   ]
  },
  {
   "cell_type": "code",
   "execution_count": 116,
   "metadata": {
    "ExecuteTime": {
     "end_time": "2023-12-03T09:16:57.392120600Z",
     "start_time": "2023-12-03T09:16:57.262924900Z"
    }
   },
   "outputs": [
    {
     "data": {
      "text/html": [
       "<div>\n",
       "<style scoped>\n",
       "    .dataframe tbody tr th:only-of-type {\n",
       "        vertical-align: middle;\n",
       "    }\n",
       "\n",
       "    .dataframe tbody tr th {\n",
       "        vertical-align: top;\n",
       "    }\n",
       "\n",
       "    .dataframe thead th {\n",
       "        text-align: right;\n",
       "    }\n",
       "</style>\n",
       "<table border=\"1\" class=\"dataframe\">\n",
       "  <thead>\n",
       "    <tr style=\"text-align: right;\">\n",
       "      <th>rented for</th>\n",
       "      <th>date</th>\n",
       "      <th>everyday</th>\n",
       "      <th>formal affair</th>\n",
       "      <th>other</th>\n",
       "      <th>party</th>\n",
       "      <th>party: cocktail</th>\n",
       "      <th>vacation</th>\n",
       "      <th>wedding</th>\n",
       "      <th>work</th>\n",
       "    </tr>\n",
       "    <tr>\n",
       "      <th>fit</th>\n",
       "      <th></th>\n",
       "      <th></th>\n",
       "      <th></th>\n",
       "      <th></th>\n",
       "      <th></th>\n",
       "      <th></th>\n",
       "      <th></th>\n",
       "      <th></th>\n",
       "      <th></th>\n",
       "    </tr>\n",
       "  </thead>\n",
       "  <tbody>\n",
       "    <tr>\n",
       "      <th>fit</th>\n",
       "      <td>5261</td>\n",
       "      <td>11608</td>\n",
       "      <td>31089</td>\n",
       "      <td>11334</td>\n",
       "      <td>25874</td>\n",
       "      <td>1</td>\n",
       "      <td>2914</td>\n",
       "      <td>43111</td>\n",
       "      <td>10857</td>\n",
       "    </tr>\n",
       "    <tr>\n",
       "      <th>large</th>\n",
       "      <td>935</td>\n",
       "      <td>3563</td>\n",
       "      <td>4451</td>\n",
       "      <td>2038</td>\n",
       "      <td>4546</td>\n",
       "      <td>0</td>\n",
       "      <td>669</td>\n",
       "      <td>6200</td>\n",
       "      <td>2304</td>\n",
       "    </tr>\n",
       "    <tr>\n",
       "      <th>small</th>\n",
       "      <td>1192</td>\n",
       "      <td>1651</td>\n",
       "      <td>4868</td>\n",
       "      <td>2016</td>\n",
       "      <td>5206</td>\n",
       "      <td>0</td>\n",
       "      <td>492</td>\n",
       "      <td>8473</td>\n",
       "      <td>1881</td>\n",
       "    </tr>\n",
       "  </tbody>\n",
       "</table>\n",
       "</div>"
      ],
      "text/plain": [
       "rented for  date  everyday  formal affair  other  party  party: cocktail  \\\n",
       "fit                                                                        \n",
       "fit         5261     11608          31089  11334  25874                1   \n",
       "large        935      3563           4451   2038   4546                0   \n",
       "small       1192      1651           4868   2016   5206                0   \n",
       "\n",
       "rented for  vacation  wedding   work  \n",
       "fit                                   \n",
       "fit             2914    43111  10857  \n",
       "large            669     6200   2304  \n",
       "small            492     8473   1881  "
      ]
     },
     "execution_count": 116,
     "metadata": {},
     "output_type": "execute_result"
    }
   ],
   "source": [
    "# We will create a cross-tabulation of the 'fit' variable with the 'rented for' category\n",
    "fit_rented_for_crosstab = pd.crosstab(df['fit'], df['rented for'])\n",
    "fit_rented_for_crosstab"
   ]
  },
  {
   "cell_type": "code",
   "execution_count": 117,
   "metadata": {
    "ExecuteTime": {
     "end_time": "2023-12-03T09:16:57.760115500Z",
     "start_time": "2023-12-03T09:16:57.391148300Z"
    }
   },
   "outputs": [
    {
     "name": "stderr",
     "output_type": "stream",
     "text": [
      "/var/folders/v7/g4ttv13d34d1qb2jx4_91hqh0000gn/T/ipykernel_29012/907045477.py:12: UserWarning: Matplotlib is currently using module://matplotlib_inline.backend_inline, which is a non-GUI backend, so cannot show the figure.\n",
      "  ax.figure.show()\n"
     ]
    },
    {
     "data": {
      "image/png": "[encoded data removed]",
      "text/plain": [
       "<Figure size 720x360 with 2 Axes>"
      ]
     },
     "metadata": {
      "needs_background": "light"
     },
     "output_type": "display_data"
    }
   ],
   "source": [
    "# Visualizing the cross-tabulation with a heatmap\n",
    "plt.figure(figsize=(10, 5))\n",
    "\n",
    "ax = sns.heatmap(fit_rented_for_crosstab, annot=True, fmt=\"d\", cmap=\"YlGnBu\")\n",
    "\n",
    "# Set title and labels\n",
    "ax.set_title('Heatmap of Fit vs. Rented For Categories')\n",
    "ax.set_xlabel('Rented For')\n",
    "ax.set_ylabel('Fit')\n",
    "\n",
    "# Display the plot\n",
    "ax.figure.show()"
   ]
  },
  {
   "cell_type": "markdown",
   "metadata": {
    "ExecuteTime": {
     "end_time": "2023-12-01T07:26:33.478130600Z",
     "start_time": "2023-12-01T07:26:33.409132500Z"
    },
    "collapsed": false
   },
   "source": [
    "## How does age and review length correlate and how does it affect the overall rating of rented items?"
   ]
  },
  {
   "cell_type": "code",
   "execution_count": 118,
   "metadata": {
    "ExecuteTime": {
     "end_time": "2023-12-03T09:16:57.863115200Z",
     "start_time": "2023-12-03T09:16:57.784147Z"
    }
   },
   "outputs": [],
   "source": [
    "clean_dataset = []\n",
    "for d in dataset:\n",
    "    if 'age' in d and 'review_text' in d and str(d['age']).isdigit():\n",
    "        clean_dataset.append(d)"
   ]
  },
  {
   "cell_type": "code",
   "execution_count": 119,
   "metadata": {
    "ExecuteTime": {
     "end_time": "2023-12-03T09:16:57.989145300Z",
     "start_time": "2023-12-03T09:16:57.941113300Z"
    }
   },
   "outputs": [],
   "source": [
    "ages = [int(d['age']) for d in clean_dataset]\n",
    "reviewLen = [len(d['review_text']) for d in clean_dataset]"
   ]
  },
  {
   "cell_type": "code",
   "execution_count": 120,
   "metadata": {
    "ExecuteTime": {
     "end_time": "2023-12-03T09:16:59.418131700Z",
     "start_time": "2023-12-03T09:16:57.999144600Z"
    }
   },
   "outputs": [
    {
     "data": {
      "image/png": "[encoded data removed]",
      "text/plain": [
       "<Figure size 432x288 with 1 Axes>"
      ]
     },
     "metadata": {
      "needs_background": "light"
     },
     "output_type": "display_data"
    }
   ],
   "source": [
    "plt.scatter(reviewLen, ages)\n",
    "plt.xlabel('Review Length')\n",
    "plt.ylabel('Age')\n",
    "plt.title('Review Length vs Age')\n",
    "\n",
    "plt.show()"
   ]
  },
  {
   "cell_type": "code",
   "execution_count": 121,
   "metadata": {
    "ExecuteTime": {
     "end_time": "2023-12-03T09:16:59.529135300Z",
     "start_time": "2023-12-03T09:16:59.421100Z"
    }
   },
   "outputs": [],
   "source": [
    "clean_dataset = []\n",
    "for d in dataset:\n",
    "    if 'rating' in d and 'review_text' in d and str(d['rating']).isdigit():\n",
    "        clean_dataset.append(d)"
   ]
  },
  {
   "cell_type": "code",
   "execution_count": 122,
   "metadata": {
    "ExecuteTime": {
     "end_time": "2023-12-03T09:16:59.672134Z",
     "start_time": "2023-12-03T09:16:59.532099600Z"
    }
   },
   "outputs": [],
   "source": [
    "ratings = [int(d['rating']) for d in clean_dataset]\n",
    "reviewLen = [len(d['review_text']) for d in clean_dataset]"
   ]
  },
  {
   "cell_type": "code",
   "execution_count": 123,
   "metadata": {
    "ExecuteTime": {
     "end_time": "2023-12-03T09:17:00.916090500Z",
     "start_time": "2023-12-03T09:16:59.674098700Z"
    }
   },
   "outputs": [
    {
     "data": {
      "image/png": "[encoded data removed]",
      "text/plain": [
       "<Figure size 432x288 with 1 Axes>"
      ]
     },
     "metadata": {
      "needs_background": "light"
     },
     "output_type": "display_data"
    }
   ],
   "source": [
    "plt.scatter(reviewLen, ratings)\n",
    "plt.xlabel('Review Length')\n",
    "plt.ylabel('Ratings')\n",
    "plt.title('Review Length vs Rating')\n",
    "\n",
    "plt.show()"
   ]
  },
  {
   "attachments": {},
   "cell_type": "markdown",
   "metadata": {},
   "source": [
    "## What are the distribution of rating scores?"
   ]
  },
  {
   "cell_type": "code",
   "execution_count": 124,
   "metadata": {
    "ExecuteTime": {
     "end_time": "2023-12-03T09:17:01.210131100Z",
     "start_time": "2023-12-03T09:17:00.944110200Z"
    }
   },
   "outputs": [
    {
     "data": {
      "text/html": [
       "<div>\n",
       "<style scoped>\n",
       "    .dataframe tbody tr th:only-of-type {\n",
       "        vertical-align: middle;\n",
       "    }\n",
       "\n",
       "    .dataframe tbody tr th {\n",
       "        vertical-align: top;\n",
       "    }\n",
       "\n",
       "    .dataframe thead th {\n",
       "        text-align: right;\n",
       "    }\n",
       "</style>\n",
       "<table border=\"1\" class=\"dataframe\">\n",
       "  <thead>\n",
       "    <tr style=\"text-align: right;\">\n",
       "      <th></th>\n",
       "      <th>rating</th>\n",
       "      <th>fit</th>\n",
       "      <th>user_id</th>\n",
       "      <th>bust size</th>\n",
       "      <th>item_id</th>\n",
       "      <th>weight</th>\n",
       "      <th>rented for</th>\n",
       "      <th>review_text</th>\n",
       "      <th>body type</th>\n",
       "      <th>review_summary</th>\n",
       "      <th>category</th>\n",
       "      <th>height</th>\n",
       "      <th>size</th>\n",
       "      <th>age</th>\n",
       "    </tr>\n",
       "  </thead>\n",
       "  <tbody>\n",
       "    <tr>\n",
       "      <th>1</th>\n",
       "      <td>2</td>\n",
       "      <td>1045</td>\n",
       "      <td>1045</td>\n",
       "      <td>945</td>\n",
       "      <td>1045</td>\n",
       "      <td>856</td>\n",
       "      <td>1045</td>\n",
       "      <td>1045</td>\n",
       "      <td>988</td>\n",
       "      <td>1045</td>\n",
       "      <td>1045</td>\n",
       "      <td>1037</td>\n",
       "      <td>1045</td>\n",
       "      <td>1041</td>\n",
       "    </tr>\n",
       "    <tr>\n",
       "      <th>2</th>\n",
       "      <td>4</td>\n",
       "      <td>2791</td>\n",
       "      <td>2791</td>\n",
       "      <td>2546</td>\n",
       "      <td>2791</td>\n",
       "      <td>2401</td>\n",
       "      <td>2791</td>\n",
       "      <td>2791</td>\n",
       "      <td>2622</td>\n",
       "      <td>2791</td>\n",
       "      <td>2791</td>\n",
       "      <td>2777</td>\n",
       "      <td>2791</td>\n",
       "      <td>2777</td>\n",
       "    </tr>\n",
       "    <tr>\n",
       "      <th>3</th>\n",
       "      <td>6</td>\n",
       "      <td>10697</td>\n",
       "      <td>10697</td>\n",
       "      <td>9773</td>\n",
       "      <td>10697</td>\n",
       "      <td>9111</td>\n",
       "      <td>10697</td>\n",
       "      <td>10697</td>\n",
       "      <td>10059</td>\n",
       "      <td>10697</td>\n",
       "      <td>10697</td>\n",
       "      <td>10657</td>\n",
       "      <td>10697</td>\n",
       "      <td>10650</td>\n",
       "    </tr>\n",
       "    <tr>\n",
       "      <th>4</th>\n",
       "      <td>8</td>\n",
       "      <td>53388</td>\n",
       "      <td>53388</td>\n",
       "      <td>48383</td>\n",
       "      <td>53388</td>\n",
       "      <td>45042</td>\n",
       "      <td>53388</td>\n",
       "      <td>53388</td>\n",
       "      <td>49663</td>\n",
       "      <td>53388</td>\n",
       "      <td>53388</td>\n",
       "      <td>53203</td>\n",
       "      <td>53388</td>\n",
       "      <td>53125</td>\n",
       "    </tr>\n",
       "    <tr>\n",
       "      <th>0</th>\n",
       "      <td>10</td>\n",
       "      <td>124531</td>\n",
       "      <td>124531</td>\n",
       "      <td>112411</td>\n",
       "      <td>124531</td>\n",
       "      <td>105085</td>\n",
       "      <td>124531</td>\n",
       "      <td>124531</td>\n",
       "      <td>114483</td>\n",
       "      <td>124531</td>\n",
       "      <td>124531</td>\n",
       "      <td>124101</td>\n",
       "      <td>124531</td>\n",
       "      <td>123900</td>\n",
       "    </tr>\n",
       "  </tbody>\n",
       "</table>\n",
       "</div>"
      ],
      "text/plain": [
       "   rating     fit  user_id  bust size  item_id  weight  rented for  \\\n",
       "1       2    1045     1045        945     1045     856        1045   \n",
       "2       4    2791     2791       2546     2791    2401        2791   \n",
       "3       6   10697    10697       9773    10697    9111       10697   \n",
       "4       8   53388    53388      48383    53388   45042       53388   \n",
       "0      10  124531   124531     112411   124531  105085      124531   \n",
       "\n",
       "   review_text  body type  review_summary  category  height    size     age  \n",
       "1         1045        988            1045      1045    1037    1045    1041  \n",
       "2         2791       2622            2791      2791    2777    2791    2777  \n",
       "3        10697      10059           10697     10697   10657   10697   10650  \n",
       "4        53388      49663           53388     53388   53203   53388   53125  \n",
       "0       124531     114483          124531    124531  124101  124531  123900  "
      ]
     },
     "execution_count": 124,
     "metadata": {},
     "output_type": "execute_result"
    }
   ],
   "source": [
    "score_freq = df.groupby('rating').count().reset_index()\n",
    "score_freq['rating'] = score_freq['rating'].astype(int)\n",
    "\n",
    "score_freq = score_freq.sort_values(by='rating')\n",
    "\n",
    "score_freq"
   ]
  },
  {
   "cell_type": "code",
   "execution_count": 125,
   "metadata": {
    "ExecuteTime": {
     "end_time": "2023-12-03T09:17:01.463105300Z",
     "start_time": "2023-12-03T09:17:01.217080200Z"
    }
   },
   "outputs": [
    {
     "data": {
      "image/png": "[encoded data removed]",
      "text/plain": [
       "<Figure size 432x288 with 1 Axes>"
      ]
     },
     "metadata": {
      "needs_background": "light"
     },
     "output_type": "display_data"
    }
   ],
   "source": [
    "plt.bar(score_freq['rating'], score_freq['user_id'], color='skyblue')\n",
    "\n",
    "# Add labels and title\n",
    "plt.title('Frequency of Ratings')\n",
    "plt.xlabel('Rating')\n",
    "plt.ylabel('Frequency')\n",
    "\n",
    "# Show the plot\n",
    "plt.show()"
   ]
  },
  {
   "attachments": {},
   "cell_type": "markdown",
   "metadata": {},
   "source": [
    "## What are the review averages based on age group?"
   ]
  },
  {
   "cell_type": "code",
   "execution_count": 126,
   "metadata": {},
   "outputs": [
    {
     "data": {
      "text/html": [
       "<div>\n",
       "<style scoped>\n",
       "    .dataframe tbody tr th:only-of-type {\n",
       "        vertical-align: middle;\n",
       "    }\n",
       "\n",
       "    .dataframe tbody tr th {\n",
       "        vertical-align: top;\n",
       "    }\n",
       "\n",
       "    .dataframe thead th {\n",
       "        text-align: right;\n",
       "    }\n",
       "</style>\n",
       "<table border=\"1\" class=\"dataframe\">\n",
       "  <thead>\n",
       "    <tr style=\"text-align: right;\">\n",
       "      <th></th>\n",
       "      <th>fit</th>\n",
       "      <th>user_id</th>\n",
       "      <th>bust size</th>\n",
       "      <th>item_id</th>\n",
       "      <th>weight</th>\n",
       "      <th>rating</th>\n",
       "      <th>rented for</th>\n",
       "      <th>review_text</th>\n",
       "      <th>body type</th>\n",
       "      <th>review_summary</th>\n",
       "      <th>category</th>\n",
       "      <th>height</th>\n",
       "      <th>size</th>\n",
       "      <th>age</th>\n",
       "    </tr>\n",
       "    <tr>\n",
       "      <th>review_date</th>\n",
       "      <th></th>\n",
       "      <th></th>\n",
       "      <th></th>\n",
       "      <th></th>\n",
       "      <th></th>\n",
       "      <th></th>\n",
       "      <th></th>\n",
       "      <th></th>\n",
       "      <th></th>\n",
       "      <th></th>\n",
       "      <th></th>\n",
       "      <th></th>\n",
       "      <th></th>\n",
       "      <th></th>\n",
       "    </tr>\n",
       "  </thead>\n",
       "  <tbody>\n",
       "    <tr>\n",
       "      <th>2010-11-03</th>\n",
       "      <td>fit</td>\n",
       "      <td>119679</td>\n",
       "      <td>36d</td>\n",
       "      <td>125564</td>\n",
       "      <td>NaN</td>\n",
       "      <td>10</td>\n",
       "      <td>wedding</td>\n",
       "      <td>This dress is amazing! I received so many comp...</td>\n",
       "      <td>hourglass</td>\n",
       "      <td>excellent customer servuce</td>\n",
       "      <td>gown</td>\n",
       "      <td>5' 8\"</td>\n",
       "      <td>25</td>\n",
       "      <td>38</td>\n",
       "    </tr>\n",
       "    <tr>\n",
       "      <th>2011-02-14</th>\n",
       "      <td>fit</td>\n",
       "      <td>635759</td>\n",
       "      <td>36c</td>\n",
       "      <td>126335</td>\n",
       "      <td>NaN</td>\n",
       "      <td>8</td>\n",
       "      <td>formal affair</td>\n",
       "      <td>This dress was beautiful! It's a little more p...</td>\n",
       "      <td>pear</td>\n",
       "      <td>Stop, drop and stare. I got looks all night in...</td>\n",
       "      <td>dress</td>\n",
       "      <td>5' 5\"</td>\n",
       "      <td>16</td>\n",
       "      <td>38</td>\n",
       "    </tr>\n",
       "    <tr>\n",
       "      <th>2011-02-23</th>\n",
       "      <td>fit</td>\n",
       "      <td>201407</td>\n",
       "      <td>34b</td>\n",
       "      <td>126335</td>\n",
       "      <td>125lbs</td>\n",
       "      <td>10</td>\n",
       "      <td>formal affair</td>\n",
       "      <td>Amazing dress!! True to size and fit like a dr...</td>\n",
       "      <td>hourglass</td>\n",
       "      <td>The dress was super comfortable and super gorg...</td>\n",
       "      <td>dress</td>\n",
       "      <td>5' 8\"</td>\n",
       "      <td>8</td>\n",
       "      <td>32</td>\n",
       "    </tr>\n",
       "    <tr>\n",
       "      <th>2011-02-24</th>\n",
       "      <td>fit</td>\n",
       "      <td>566811</td>\n",
       "      <td>36c</td>\n",
       "      <td>125564</td>\n",
       "      <td>155lbs</td>\n",
       "      <td>10</td>\n",
       "      <td>wedding</td>\n",
       "      <td>Fabulous dress.  First time on Runway and this...</td>\n",
       "      <td>hourglass</td>\n",
       "      <td>So flattering!!</td>\n",
       "      <td>gown</td>\n",
       "      <td>5' 6\"</td>\n",
       "      <td>21</td>\n",
       "      <td>37</td>\n",
       "    </tr>\n",
       "    <tr>\n",
       "      <th>2011-03-06</th>\n",
       "      <td>fit</td>\n",
       "      <td>252516</td>\n",
       "      <td>NaN</td>\n",
       "      <td>190529</td>\n",
       "      <td>NaN</td>\n",
       "      <td>10</td>\n",
       "      <td>formal affair</td>\n",
       "      <td>I LOVED wearing this dress!!! Since I'm just 5...</td>\n",
       "      <td>hourglass</td>\n",
       "      <td>The perfect LBD.</td>\n",
       "      <td>dress</td>\n",
       "      <td>5' 0\"</td>\n",
       "      <td>14</td>\n",
       "      <td>27</td>\n",
       "    </tr>\n",
       "    <tr>\n",
       "      <th>...</th>\n",
       "      <td>...</td>\n",
       "      <td>...</td>\n",
       "      <td>...</td>\n",
       "      <td>...</td>\n",
       "      <td>...</td>\n",
       "      <td>...</td>\n",
       "      <td>...</td>\n",
       "      <td>...</td>\n",
       "      <td>...</td>\n",
       "      <td>...</td>\n",
       "      <td>...</td>\n",
       "      <td>...</td>\n",
       "      <td>...</td>\n",
       "      <td>...</td>\n",
       "    </tr>\n",
       "    <tr>\n",
       "      <th>2018-01-06</th>\n",
       "      <td>fit</td>\n",
       "      <td>900541</td>\n",
       "      <td>36dd</td>\n",
       "      <td>2559060</td>\n",
       "      <td>130lbs</td>\n",
       "      <td>10</td>\n",
       "      <td>vacation</td>\n",
       "      <td>So cute! Recommend.</td>\n",
       "      <td>hourglass</td>\n",
       "      <td>Felt great in this top. So cute! Recommend.</td>\n",
       "      <td>top</td>\n",
       "      <td>5' 3\"</td>\n",
       "      <td>8</td>\n",
       "      <td>50</td>\n",
       "    </tr>\n",
       "    <tr>\n",
       "      <th>2018-01-07</th>\n",
       "      <td>large</td>\n",
       "      <td>578131</td>\n",
       "      <td>36c</td>\n",
       "      <td>2526611</td>\n",
       "      <td>129lbs</td>\n",
       "      <td>10</td>\n",
       "      <td>party</td>\n",
       "      <td>Unlike some other reviewers, I wore a size sma...</td>\n",
       "      <td>hourglass</td>\n",
       "      <td>Such a nice skirt, easy &amp; comfy to wear.</td>\n",
       "      <td>skirt</td>\n",
       "      <td>5' 6\"</td>\n",
       "      <td>8</td>\n",
       "      <td>60</td>\n",
       "    </tr>\n",
       "    <tr>\n",
       "      <th>2018-01-07</th>\n",
       "      <td>fit</td>\n",
       "      <td>273288</td>\n",
       "      <td>NaN</td>\n",
       "      <td>2499759</td>\n",
       "      <td>192lbs</td>\n",
       "      <td>10</td>\n",
       "      <td>party</td>\n",
       "      <td>NYE 2018! My bff wore this she loved the fit, ...</td>\n",
       "      <td>NaN</td>\n",
       "      <td>BFF loves  RTR!</td>\n",
       "      <td>jumpsuit</td>\n",
       "      <td>5' 6\"</td>\n",
       "      <td>20</td>\n",
       "      <td>52</td>\n",
       "    </tr>\n",
       "    <tr>\n",
       "      <th>2018-01-07</th>\n",
       "      <td>fit</td>\n",
       "      <td>438470</td>\n",
       "      <td>32ddd/e</td>\n",
       "      <td>2726766</td>\n",
       "      <td>130lbs</td>\n",
       "      <td>10</td>\n",
       "      <td>everyday</td>\n",
       "      <td>I thought these were silk but they're actually...</td>\n",
       "      <td>hourglass</td>\n",
       "      <td>so comfy and so cute</td>\n",
       "      <td>pant</td>\n",
       "      <td>5' 6\"</td>\n",
       "      <td>8</td>\n",
       "      <td>25</td>\n",
       "    </tr>\n",
       "    <tr>\n",
       "      <th>2018-01-08</th>\n",
       "      <td>fit</td>\n",
       "      <td>820575</td>\n",
       "      <td>32c</td>\n",
       "      <td>2616422</td>\n",
       "      <td>117lbs</td>\n",
       "      <td>10</td>\n",
       "      <td>date</td>\n",
       "      <td>The silver flecks make it great for a night ou...</td>\n",
       "      <td>petite</td>\n",
       "      <td>Cute and versitile</td>\n",
       "      <td>top</td>\n",
       "      <td>5' 4\"</td>\n",
       "      <td>4</td>\n",
       "      <td>39</td>\n",
       "    </tr>\n",
       "  </tbody>\n",
       "</table>\n",
       "<p>192534 rows × 14 columns</p>\n",
       "</div>"
      ],
      "text/plain": [
       "               fit user_id bust size  item_id  weight rating     rented for  \\\n",
       "review_date                                                                   \n",
       "2010-11-03     fit  119679       36d   125564     NaN     10        wedding   \n",
       "2011-02-14     fit  635759       36c   126335     NaN      8  formal affair   \n",
       "2011-02-23     fit  201407       34b   126335  125lbs     10  formal affair   \n",
       "2011-02-24     fit  566811       36c   125564  155lbs     10        wedding   \n",
       "2011-03-06     fit  252516       NaN   190529     NaN     10  formal affair   \n",
       "...            ...     ...       ...      ...     ...    ...            ...   \n",
       "2018-01-06     fit  900541      36dd  2559060  130lbs     10       vacation   \n",
       "2018-01-07   large  578131       36c  2526611  129lbs     10          party   \n",
       "2018-01-07     fit  273288       NaN  2499759  192lbs     10          party   \n",
       "2018-01-07     fit  438470   32ddd/e  2726766  130lbs     10       everyday   \n",
       "2018-01-08     fit  820575       32c  2616422  117lbs     10           date   \n",
       "\n",
       "                                                   review_text  body type  \\\n",
       "review_date                                                                 \n",
       "2010-11-03   This dress is amazing! I received so many comp...  hourglass   \n",
       "2011-02-14   This dress was beautiful! It's a little more p...       pear   \n",
       "2011-02-23   Amazing dress!! True to size and fit like a dr...  hourglass   \n",
       "2011-02-24   Fabulous dress.  First time on Runway and this...  hourglass   \n",
       "2011-03-06   I LOVED wearing this dress!!! Since I'm just 5...  hourglass   \n",
       "...                                                        ...        ...   \n",
       "2018-01-06                                So cute! Recommend.   hourglass   \n",
       "2018-01-07   Unlike some other reviewers, I wore a size sma...  hourglass   \n",
       "2018-01-07   NYE 2018! My bff wore this she loved the fit, ...        NaN   \n",
       "2018-01-07   I thought these were silk but they're actually...  hourglass   \n",
       "2018-01-08   The silver flecks make it great for a night ou...     petite   \n",
       "\n",
       "                                                review_summary  category  \\\n",
       "review_date                                                                \n",
       "2010-11-03                          excellent customer servuce      gown   \n",
       "2011-02-14   Stop, drop and stare. I got looks all night in...     dress   \n",
       "2011-02-23   The dress was super comfortable and super gorg...     dress   \n",
       "2011-02-24                                   So flattering!!        gown   \n",
       "2011-03-06                                   The perfect LBD.      dress   \n",
       "...                                                        ...       ...   \n",
       "2018-01-06        Felt great in this top. So cute! Recommend.        top   \n",
       "2018-01-07            Such a nice skirt, easy & comfy to wear.     skirt   \n",
       "2018-01-07                                     BFF loves  RTR!  jumpsuit   \n",
       "2018-01-07                                so comfy and so cute      pant   \n",
       "2018-01-08                                  Cute and versitile       top   \n",
       "\n",
       "            height  size age  \n",
       "review_date                   \n",
       "2010-11-03   5' 8\"    25  38  \n",
       "2011-02-14   5' 5\"    16  38  \n",
       "2011-02-23   5' 8\"     8  32  \n",
       "2011-02-24   5' 6\"    21  37  \n",
       "2011-03-06   5' 0\"    14  27  \n",
       "...            ...   ...  ..  \n",
       "2018-01-06   5' 3\"     8  50  \n",
       "2018-01-07   5' 6\"     8  60  \n",
       "2018-01-07   5' 6\"    20  52  \n",
       "2018-01-07   5' 6\"     8  25  \n",
       "2018-01-08   5' 4\"     4  39  \n",
       "\n",
       "[192534 rows x 14 columns]"
      ]
     },
     "execution_count": 126,
     "metadata": {},
     "output_type": "execute_result"
    }
   ],
   "source": [
    "df"
   ]
  },
  {
   "cell_type": "code",
   "execution_count": 129,
   "metadata": {},
   "outputs": [
    {
     "data": {
      "text/html": [
       "<div>\n",
       "<style scoped>\n",
       "    .dataframe tbody tr th:only-of-type {\n",
       "        vertical-align: middle;\n",
       "    }\n",
       "\n",
       "    .dataframe tbody tr th {\n",
       "        vertical-align: top;\n",
       "    }\n",
       "\n",
       "    .dataframe thead th {\n",
       "        text-align: right;\n",
       "    }\n",
       "</style>\n",
       "<table border=\"1\" class=\"dataframe\">\n",
       "  <thead>\n",
       "    <tr style=\"text-align: right;\">\n",
       "      <th></th>\n",
       "      <th>age</th>\n",
       "      <th>rating</th>\n",
       "      <th>size</th>\n",
       "    </tr>\n",
       "  </thead>\n",
       "  <tbody>\n",
       "    <tr>\n",
       "      <th>0</th>\n",
       "      <td>0</td>\n",
       "      <td>9.333333</td>\n",
       "      <td>11.708333</td>\n",
       "    </tr>\n",
       "    <tr>\n",
       "      <th>1</th>\n",
       "      <td>1</td>\n",
       "      <td>9.000000</td>\n",
       "      <td>10.000000</td>\n",
       "    </tr>\n",
       "    <tr>\n",
       "      <th>16</th>\n",
       "      <td>2</td>\n",
       "      <td>9.800000</td>\n",
       "      <td>23.400000</td>\n",
       "    </tr>\n",
       "    <tr>\n",
       "      <th>27</th>\n",
       "      <td>3</td>\n",
       "      <td>9.500000</td>\n",
       "      <td>16.833333</td>\n",
       "    </tr>\n",
       "    <tr>\n",
       "      <th>38</th>\n",
       "      <td>4</td>\n",
       "      <td>10.000000</td>\n",
       "      <td>4.555556</td>\n",
       "    </tr>\n",
       "    <tr>\n",
       "      <th>...</th>\n",
       "      <td>...</td>\n",
       "      <td>...</td>\n",
       "      <td>...</td>\n",
       "    </tr>\n",
       "    <tr>\n",
       "      <th>5</th>\n",
       "      <td>112</td>\n",
       "      <td>8.000000</td>\n",
       "      <td>12.000000</td>\n",
       "    </tr>\n",
       "    <tr>\n",
       "      <th>6</th>\n",
       "      <td>113</td>\n",
       "      <td>8.000000</td>\n",
       "      <td>20.000000</td>\n",
       "    </tr>\n",
       "    <tr>\n",
       "      <th>7</th>\n",
       "      <td>115</td>\n",
       "      <td>8.000000</td>\n",
       "      <td>17.000000</td>\n",
       "    </tr>\n",
       "    <tr>\n",
       "      <th>8</th>\n",
       "      <td>116</td>\n",
       "      <td>9.444444</td>\n",
       "      <td>7.444444</td>\n",
       "    </tr>\n",
       "    <tr>\n",
       "      <th>9</th>\n",
       "      <td>117</td>\n",
       "      <td>9.384615</td>\n",
       "      <td>9.230769</td>\n",
       "    </tr>\n",
       "  </tbody>\n",
       "</table>\n",
       "<p>89 rows × 3 columns</p>\n",
       "</div>"
      ],
      "text/plain": [
       "    age     rating       size\n",
       "0     0   9.333333  11.708333\n",
       "1     1   9.000000  10.000000\n",
       "16    2   9.800000  23.400000\n",
       "27    3   9.500000  16.833333\n",
       "38    4  10.000000   4.555556\n",
       "..  ...        ...        ...\n",
       "5   112   8.000000  12.000000\n",
       "6   113   8.000000  20.000000\n",
       "7   115   8.000000  17.000000\n",
       "8   116   9.444444   7.444444\n",
       "9   117   9.384615   9.230769\n",
       "\n",
       "[89 rows x 3 columns]"
      ]
     },
     "execution_count": 129,
     "metadata": {},
     "output_type": "execute_result"
    }
   ],
   "source": [
    "age_mean = df\n",
    "age_mean['rating'] = age_mean['rating'].fillna(0).astype(int)\n",
    "age_mean['rating'] = age_mean['rating'].astype(int)\n",
    "age_mean = df.groupby('age').mean().reset_index()\n",
    "age_mean['age'] = age_mean['age'].astype(int)\n",
    "\n",
    "age_mean = age_mean.sort_values(by='age')\n",
    "\n",
    "age_mean"
   ]
  },
  {
   "cell_type": "code",
   "execution_count": 131,
   "metadata": {},
   "outputs": [
    {
     "data": {
      "image/png": "[encoded data removed]",
      "text/plain": [
       "<Figure size 432x288 with 1 Axes>"
      ]
     },
     "metadata": {
      "needs_background": "light"
     },
     "output_type": "display_data"
    }
   ],
   "source": [
    "plt.plot(age_mean['age'], age_mean['rating'], color='skyblue')\n",
    "\n",
    "# Add labels and title\n",
    "plt.title('Average review for each age')\n",
    "plt.xlabel('age')\n",
    "plt.ylabel('Mean review')\n",
    "\n",
    "# Show the plot\n",
    "plt.show()"
   ]
  },
  {
   "cell_type": "markdown",
   "metadata": {
    "collapsed": false
   },
   "source": [
    "## Predictive task for Fit of Clothing\n",
    "#### Given the body type, height, weight, and size of the user, can we predict if an item will fit well?"
   ]
  },
  {
   "cell_type": "code",
   "execution_count": 28,
   "metadata": {
    "ExecuteTime": {
     "end_time": "2023-12-03T09:17:01.635077800Z",
     "start_time": "2023-12-03T09:17:01.463105300Z"
    },
    "collapsed": false
   },
   "outputs": [],
   "source": [
    "df = df.dropna(subset=['height'])"
   ]
  },
  {
   "cell_type": "code",
   "execution_count": 29,
   "metadata": {
    "ExecuteTime": {
     "end_time": "2023-12-03T09:17:03.669053700Z",
     "start_time": "2023-12-03T09:17:01.633076500Z"
    },
    "collapsed": false
   },
   "outputs": [],
   "source": [
    "df['height_inches'] = df['height'].str.extract(r'(\\d+)\\' (\\d+)\\\"').apply(\n",
    "    lambda x: int(x[0]) * 12 + int(x[1]), axis=1\n",
    ")"
   ]
  },
  {
   "cell_type": "code",
   "execution_count": 30,
   "metadata": {
    "ExecuteTime": {
     "end_time": "2023-12-03T09:17:04.000051600Z",
     "start_time": "2023-12-03T09:17:03.671054100Z"
    },
    "collapsed": false
   },
   "outputs": [],
   "source": [
    "df['weight_lbs'] = df['weight'].str.extract(r'(\\d+)lbs').astype(float)"
   ]
  },
  {
   "cell_type": "code",
   "execution_count": 31,
   "metadata": {
    "ExecuteTime": {
     "end_time": "2023-12-03T09:17:04.147082800Z",
     "start_time": "2023-12-03T09:17:04.002081100Z"
    },
    "collapsed": false
   },
   "outputs": [],
   "source": [
    "df = df.dropna(subset=['height_inches', 'weight_lbs', 'body type', 'size', 'fit'])"
   ]
  },
  {
   "cell_type": "code",
   "execution_count": 32,
   "metadata": {
    "ExecuteTime": {
     "end_time": "2023-12-03T09:17:04.267703100Z",
     "start_time": "2023-12-03T09:17:04.145050500Z"
    },
    "collapsed": false
   },
   "outputs": [],
   "source": [
    "label_encoders = {}\n",
    "for column in ['body type', 'fit']:\n",
    "    label_encoders[column] = LabelEncoder()\n",
    "    df[column] = label_encoders[column].fit_transform(df[column])"
   ]
  },
  {
   "cell_type": "code",
   "execution_count": 33,
   "metadata": {
    "ExecuteTime": {
     "end_time": "2023-12-03T09:17:04.286862800Z",
     "start_time": "2023-12-03T09:17:04.269723700Z"
    },
    "collapsed": false
   },
   "outputs": [],
   "source": [
    "fit_labels = {0: 'small', 1: 'fit', 2: 'large'}\n",
    "df['fit_label'] = df['fit'].replace(fit_labels)"
   ]
  },
  {
   "cell_type": "code",
   "execution_count": 34,
   "metadata": {
    "ExecuteTime": {
     "end_time": "2023-12-03T09:17:04.313362500Z",
     "start_time": "2023-12-03T09:17:04.288844400Z"
    },
    "collapsed": false
   },
   "outputs": [],
   "source": [
    "X = df[['height_inches', 'weight_lbs', 'body type', 'size']]\n",
    "y = df['fit']"
   ]
  },
  {
   "cell_type": "code",
   "execution_count": 35,
   "metadata": {
    "ExecuteTime": {
     "end_time": "2023-12-03T09:17:04.328761200Z",
     "start_time": "2023-12-03T09:17:04.299360Z"
    },
    "collapsed": false
   },
   "outputs": [],
   "source": [
    "scaler = StandardScaler()\n",
    "X_scaled = scaler.fit_transform(X)"
   ]
  },
  {
   "cell_type": "code",
   "execution_count": 36,
   "metadata": {
    "ExecuteTime": {
     "end_time": "2023-12-03T09:17:04.352760300Z",
     "start_time": "2023-12-03T09:17:04.331763700Z"
    },
    "collapsed": false
   },
   "outputs": [],
   "source": [
    "X_train, X_test, y_train, y_test = train_test_split(X_scaled, y, test_size=0.2, random_state=42)"
   ]
  },
  {
   "cell_type": "code",
   "execution_count": 37,
   "metadata": {
    "ExecuteTime": {
     "end_time": "2023-12-03T09:17:04.361761900Z",
     "start_time": "2023-12-03T09:17:04.346762800Z"
    },
    "collapsed": false
   },
   "outputs": [],
   "source": [
    "model = RandomForestClassifier(n_estimators=100, random_state=42)"
   ]
  },
  {
   "cell_type": "code",
   "execution_count": 38,
   "metadata": {
    "ExecuteTime": {
     "end_time": "2023-12-03T09:17:12.706182800Z",
     "start_time": "2023-12-03T09:17:04.363761300Z"
    },
    "collapsed": false
   },
   "outputs": [
    {
     "data": {
      "text/html": [
       "<style>#sk-container-id-2 {color: black;}#sk-container-id-2 pre{padding: 0;}#sk-container-id-2 div.sk-toggleable {background-color: white;}#sk-container-id-2 label.sk-toggleable__label {cursor: pointer;display: block;width: 100%;margin-bottom: 0;padding: 0.3em;box-sizing: border-box;text-align: center;}#sk-container-id-2 label.sk-toggleable__label-arrow:before {content: \"▸\";float: left;margin-right: 0.25em;color: #696969;}#sk-container-id-2 label.sk-toggleable__label-arrow:hover:before {color: black;}#sk-container-id-2 div.sk-estimator:hover label.sk-toggleable__label-arrow:before {color: black;}#sk-container-id-2 div.sk-toggleable__content {max-height: 0;max-width: 0;overflow: hidden;text-align: left;background-color: #f0f8ff;}#sk-container-id-2 div.sk-toggleable__content pre {margin: 0.2em;color: black;border-radius: 0.25em;background-color: #f0f8ff;}#sk-container-id-2 input.sk-toggleable__control:checked~div.sk-toggleable__content {max-height: 200px;max-width: 100%;overflow: auto;}#sk-container-id-2 input.sk-toggleable__control:checked~label.sk-toggleable__label-arrow:before {content: \"▾\";}#sk-container-id-2 div.sk-estimator input.sk-toggleable__control:checked~label.sk-toggleable__label {background-color: #d4ebff;}#sk-container-id-2 div.sk-label input.sk-toggleable__control:checked~label.sk-toggleable__label {background-color: #d4ebff;}#sk-container-id-2 input.sk-hidden--visually {border: 0;clip: rect(1px 1px 1px 1px);clip: rect(1px, 1px, 1px, 1px);height: 1px;margin: -1px;overflow: hidden;padding: 0;position: absolute;width: 1px;}#sk-container-id-2 div.sk-estimator {font-family: monospace;background-color: #f0f8ff;border: 1px dotted black;border-radius: 0.25em;box-sizing: border-box;margin-bottom: 0.5em;}#sk-container-id-2 div.sk-estimator:hover {background-color: #d4ebff;}#sk-container-id-2 div.sk-parallel-item::after {content: \"\";width: 100%;border-bottom: 1px solid gray;flex-grow: 1;}#sk-container-id-2 div.sk-label:hover label.sk-toggleable__label {background-color: #d4ebff;}#sk-container-id-2 div.sk-serial::before {content: \"\";position: absolute;border-left: 1px solid gray;box-sizing: border-box;top: 0;bottom: 0;left: 50%;z-index: 0;}#sk-container-id-2 div.sk-serial {display: flex;flex-direction: column;align-items: center;background-color: white;padding-right: 0.2em;padding-left: 0.2em;position: relative;}#sk-container-id-2 div.sk-item {position: relative;z-index: 1;}#sk-container-id-2 div.sk-parallel {display: flex;align-items: stretch;justify-content: center;background-color: white;position: relative;}#sk-container-id-2 div.sk-item::before, #sk-container-id-2 div.sk-parallel-item::before {content: \"\";position: absolute;border-left: 1px solid gray;box-sizing: border-box;top: 0;bottom: 0;left: 50%;z-index: -1;}#sk-container-id-2 div.sk-parallel-item {display: flex;flex-direction: column;z-index: 1;position: relative;background-color: white;}#sk-container-id-2 div.sk-parallel-item:first-child::after {align-self: flex-end;width: 50%;}#sk-container-id-2 div.sk-parallel-item:last-child::after {align-self: flex-start;width: 50%;}#sk-container-id-2 div.sk-parallel-item:only-child::after {width: 0;}#sk-container-id-2 div.sk-dashed-wrapped {border: 1px dashed gray;margin: 0 0.4em 0.5em 0.4em;box-sizing: border-box;padding-bottom: 0.4em;background-color: white;}#sk-container-id-2 div.sk-label label {font-family: monospace;font-weight: bold;display: inline-block;line-height: 1.2em;}#sk-container-id-2 div.sk-label-container {text-align: center;}#sk-container-id-2 div.sk-container {/* jupyter's `normalize.less` sets `[hidden] { display: none; }` but bootstrap.min.css set `[hidden] { display: none !important; }` so we also need the `!important` here to be able to override the default hidden behavior on the sphinx rendered scikit-learn.org. See: https://github.com/scikit-learn/scikit-learn/issues/21755 */display: inline-block !important;position: relative;}#sk-container-id-2 div.sk-text-repr-fallback {display: none;}</style><div id=\"sk-container-id-2\" class=\"sk-top-container\"><div class=\"sk-text-repr-fallback\"><pre>RandomForestClassifier(random_state=42)</pre><b>In a Jupyter environment, please rerun this cell to show the HTML representation or trust the notebook. <br />On GitHub, the HTML representation is unable to render, please try loading this page with nbviewer.org.</b></div><div class=\"sk-container\" hidden><div class=\"sk-item\"><div class=\"sk-estimator sk-toggleable\"><input class=\"sk-toggleable__control sk-hidden--visually\" id=\"sk-estimator-id-2\" type=\"checkbox\" checked><label for=\"sk-estimator-id-2\" class=\"sk-toggleable__label sk-toggleable__label-arrow\">RandomForestClassifier</label><div class=\"sk-toggleable__content\"><pre>RandomForestClassifier(random_state=42)</pre></div></div></div></div></div>"
      ],
      "text/plain": [
       "RandomForestClassifier(random_state=42)"
      ]
     },
     "execution_count": 38,
     "metadata": {},
     "output_type": "execute_result"
    }
   ],
   "source": [
    "model.fit(X_train, y_train)"
   ]
  },
  {
   "cell_type": "code",
   "execution_count": 39,
   "metadata": {
    "ExecuteTime": {
     "end_time": "2023-12-03T09:17:13.318187100Z",
     "start_time": "2023-12-03T09:17:12.706182800Z"
    },
    "collapsed": false
   },
   "outputs": [],
   "source": [
    "y_pred = model.predict(X_test)"
   ]
  },
  {
   "cell_type": "code",
   "execution_count": 40,
   "metadata": {
    "ExecuteTime": {
     "end_time": "2023-12-03T09:17:13.333172Z",
     "start_time": "2023-12-03T09:17:13.320177800Z"
    },
    "collapsed": false
   },
   "outputs": [],
   "source": [
    "y_pred_labels = label_encoders['fit'].inverse_transform(y_pred)"
   ]
  },
  {
   "cell_type": "code",
   "execution_count": 41,
   "metadata": {
    "ExecuteTime": {
     "end_time": "2023-12-03T09:17:13.359171700Z",
     "start_time": "2023-12-03T09:17:13.338172600Z"
    },
    "collapsed": false
   },
   "outputs": [],
   "source": [
    "accuracy = accuracy_score(y_test, y_pred)"
   ]
  },
  {
   "cell_type": "code",
   "execution_count": 42,
   "metadata": {
    "ExecuteTime": {
     "end_time": "2023-12-03T09:17:13.368172800Z",
     "start_time": "2023-12-03T09:17:13.352174200Z"
    },
    "collapsed": false
   },
   "outputs": [],
   "source": [
    "y_test_labels = label_encoders['fit'].inverse_transform(y_test)"
   ]
  },
  {
   "cell_type": "code",
   "execution_count": 43,
   "metadata": {
    "ExecuteTime": {
     "end_time": "2023-12-03T09:17:13.872167Z",
     "start_time": "2023-12-03T09:17:13.367172500Z"
    },
    "collapsed": false
   },
   "outputs": [
    {
     "name": "stdout",
     "output_type": "stream",
     "text": [
      "Accuracy: 0.7132386474688904\n",
      "              precision    recall  f1-score   support\n",
      "\n",
      "       small       0.74      0.95      0.83     22601\n",
      "         fit       0.27      0.05      0.09      4068\n",
      "       large       0.24      0.06      0.09      4029\n",
      "\n",
      "    accuracy                           0.71     30698\n",
      "   macro avg       0.42      0.35      0.34     30698\n",
      "weighted avg       0.61      0.71      0.64     30698\n"
     ]
    }
   ],
   "source": [
    "print(f\"Accuracy: {accuracy}\")\n",
    "print(classification_report(y_test_labels, y_pred_labels, target_names=['small', 'fit', 'large']))"
   ]
  },
  {
   "cell_type": "markdown",
   "metadata": {
    "collapsed": false
   },
   "source": [
    "#### How do customer preferences and satisfaction, as indicated by the fit of rented items for different purposes, correlate with the overall trend in service usage over time?"
   ]
  },
  {
   "cell_type": "code",
   "execution_count": 44,
   "metadata": {
    "ExecuteTime": {
     "end_time": "2023-12-03T09:17:13.982798900Z",
     "start_time": "2023-12-03T09:17:13.876167800Z"
    },
    "collapsed": false
   },
   "outputs": [],
   "source": [
    "one_hot_encoder = OneHotEncoder()\n",
    "rented_for_encoded = one_hot_encoder.fit_transform(df[['rented for']]).toarray()"
   ]
  },
  {
   "cell_type": "code",
   "execution_count": 45,
   "metadata": {
    "ExecuteTime": {
     "end_time": "2023-12-03T09:17:14.002129200Z",
     "start_time": "2023-12-03T09:17:13.984798600Z"
    },
    "collapsed": false
   },
   "outputs": [],
   "source": [
    "feature_names = one_hot_encoder.get_feature_names_out(['rented for'])"
   ]
  },
  {
   "cell_type": "code",
   "execution_count": 46,
   "metadata": {
    "ExecuteTime": {
     "end_time": "2023-12-03T09:17:14.028156700Z",
     "start_time": "2023-12-03T09:17:14.001120400Z"
    },
    "collapsed": false
   },
   "outputs": [],
   "source": [
    "rented_for_df = pd.DataFrame(rented_for_encoded, columns=feature_names, index=df.index)"
   ]
  },
  {
   "cell_type": "code",
   "execution_count": 47,
   "metadata": {
    "ExecuteTime": {
     "end_time": "2023-12-03T09:17:29.742030400Z",
     "start_time": "2023-12-03T09:17:14.017160100Z"
    },
    "collapsed": false
   },
   "outputs": [],
   "source": [
    "df = df.join(rented_for_df)"
   ]
  },
  {
   "cell_type": "code",
   "execution_count": 48,
   "metadata": {
    "ExecuteTime": {
     "end_time": "2023-12-03T09:17:30.050010800Z",
     "start_time": "2023-12-03T09:17:29.738998800Z"
    },
    "collapsed": false
   },
   "outputs": [],
   "source": [
    "features = df[feature_names]\n",
    "labels = df['fit']"
   ]
  },
  {
   "cell_type": "code",
   "execution_count": 49,
   "metadata": {
    "ExecuteTime": {
     "end_time": "2023-12-03T09:17:35.091945Z",
     "start_time": "2023-12-03T09:17:30.051994900Z"
    },
    "collapsed": false
   },
   "outputs": [],
   "source": [
    "X_train, X_test, y_train, y_test = train_test_split(features, labels, test_size=0.2, random_state=42)"
   ]
  },
  {
   "cell_type": "code",
   "execution_count": 50,
   "metadata": {
    "ExecuteTime": {
     "end_time": "2023-12-03T09:18:00.622684400Z",
     "start_time": "2023-12-03T09:17:35.095944800Z"
    },
    "collapsed": false
   },
   "outputs": [
    {
     "data": {
      "text/html": [
       "<style>#sk-container-id-3 {color: black;}#sk-container-id-3 pre{padding: 0;}#sk-container-id-3 div.sk-toggleable {background-color: white;}#sk-container-id-3 label.sk-toggleable__label {cursor: pointer;display: block;width: 100%;margin-bottom: 0;padding: 0.3em;box-sizing: border-box;text-align: center;}#sk-container-id-3 label.sk-toggleable__label-arrow:before {content: \"▸\";float: left;margin-right: 0.25em;color: #696969;}#sk-container-id-3 label.sk-toggleable__label-arrow:hover:before {color: black;}#sk-container-id-3 div.sk-estimator:hover label.sk-toggleable__label-arrow:before {color: black;}#sk-container-id-3 div.sk-toggleable__content {max-height: 0;max-width: 0;overflow: hidden;text-align: left;background-color: #f0f8ff;}#sk-container-id-3 div.sk-toggleable__content pre {margin: 0.2em;color: black;border-radius: 0.25em;background-color: #f0f8ff;}#sk-container-id-3 input.sk-toggleable__control:checked~div.sk-toggleable__content {max-height: 200px;max-width: 100%;overflow: auto;}#sk-container-id-3 input.sk-toggleable__control:checked~label.sk-toggleable__label-arrow:before {content: \"▾\";}#sk-container-id-3 div.sk-estimator input.sk-toggleable__control:checked~label.sk-toggleable__label {background-color: #d4ebff;}#sk-container-id-3 div.sk-label input.sk-toggleable__control:checked~label.sk-toggleable__label {background-color: #d4ebff;}#sk-container-id-3 input.sk-hidden--visually {border: 0;clip: rect(1px 1px 1px 1px);clip: rect(1px, 1px, 1px, 1px);height: 1px;margin: -1px;overflow: hidden;padding: 0;position: absolute;width: 1px;}#sk-container-id-3 div.sk-estimator {font-family: monospace;background-color: #f0f8ff;border: 1px dotted black;border-radius: 0.25em;box-sizing: border-box;margin-bottom: 0.5em;}#sk-container-id-3 div.sk-estimator:hover {background-color: #d4ebff;}#sk-container-id-3 div.sk-parallel-item::after {content: \"\";width: 100%;border-bottom: 1px solid gray;flex-grow: 1;}#sk-container-id-3 div.sk-label:hover label.sk-toggleable__label {background-color: #d4ebff;}#sk-container-id-3 div.sk-serial::before {content: \"\";position: absolute;border-left: 1px solid gray;box-sizing: border-box;top: 0;bottom: 0;left: 50%;z-index: 0;}#sk-container-id-3 div.sk-serial {display: flex;flex-direction: column;align-items: center;background-color: white;padding-right: 0.2em;padding-left: 0.2em;position: relative;}#sk-container-id-3 div.sk-item {position: relative;z-index: 1;}#sk-container-id-3 div.sk-parallel {display: flex;align-items: stretch;justify-content: center;background-color: white;position: relative;}#sk-container-id-3 div.sk-item::before, #sk-container-id-3 div.sk-parallel-item::before {content: \"\";position: absolute;border-left: 1px solid gray;box-sizing: border-box;top: 0;bottom: 0;left: 50%;z-index: -1;}#sk-container-id-3 div.sk-parallel-item {display: flex;flex-direction: column;z-index: 1;position: relative;background-color: white;}#sk-container-id-3 div.sk-parallel-item:first-child::after {align-self: flex-end;width: 50%;}#sk-container-id-3 div.sk-parallel-item:last-child::after {align-self: flex-start;width: 50%;}#sk-container-id-3 div.sk-parallel-item:only-child::after {width: 0;}#sk-container-id-3 div.sk-dashed-wrapped {border: 1px dashed gray;margin: 0 0.4em 0.5em 0.4em;box-sizing: border-box;padding-bottom: 0.4em;background-color: white;}#sk-container-id-3 div.sk-label label {font-family: monospace;font-weight: bold;display: inline-block;line-height: 1.2em;}#sk-container-id-3 div.sk-label-container {text-align: center;}#sk-container-id-3 div.sk-container {/* jupyter's `normalize.less` sets `[hidden] { display: none; }` but bootstrap.min.css set `[hidden] { display: none !important; }` so we also need the `!important` here to be able to override the default hidden behavior on the sphinx rendered scikit-learn.org. See: https://github.com/scikit-learn/scikit-learn/issues/21755 */display: inline-block !important;position: relative;}#sk-container-id-3 div.sk-text-repr-fallback {display: none;}</style><div id=\"sk-container-id-3\" class=\"sk-top-container\"><div class=\"sk-text-repr-fallback\"><pre>LogisticRegression(fit_intercept=False)</pre><b>In a Jupyter environment, please rerun this cell to show the HTML representation or trust the notebook. <br />On GitHub, the HTML representation is unable to render, please try loading this page with nbviewer.org.</b></div><div class=\"sk-container\" hidden><div class=\"sk-item\"><div class=\"sk-estimator sk-toggleable\"><input class=\"sk-toggleable__control sk-hidden--visually\" id=\"sk-estimator-id-3\" type=\"checkbox\" checked><label for=\"sk-estimator-id-3\" class=\"sk-toggleable__label sk-toggleable__label-arrow\">LogisticRegression</label><div class=\"sk-toggleable__content\"><pre>LogisticRegression(fit_intercept=False)</pre></div></div></div></div></div>"
      ],
      "text/plain": [
       "LogisticRegression(fit_intercept=False)"
      ]
     },
     "execution_count": 50,
     "metadata": {},
     "output_type": "execute_result"
    }
   ],
   "source": [
    "model = linear_model.LogisticRegression(fit_intercept=False)\n",
    "model.fit(X_train, y_train)"
   ]
  },
  {
   "cell_type": "code",
   "execution_count": 51,
   "metadata": {
    "ExecuteTime": {
     "end_time": "2023-12-03T09:18:00.850680800Z",
     "start_time": "2023-12-03T09:18:00.618711900Z"
    },
    "collapsed": false
   },
   "outputs": [],
   "source": [
    "# Predict on the test set\n",
    "y_pred = model.predict(X_test)"
   ]
  },
  {
   "cell_type": "code",
   "execution_count": 52,
   "metadata": {
    "ExecuteTime": {
     "end_time": "2023-12-03T09:18:00.976695500Z",
     "start_time": "2023-12-03T09:18:00.853682300Z"
    },
    "collapsed": false
   },
   "outputs": [],
   "source": [
    "accuracy = accuracy_score(y_test, y_pred)"
   ]
  },
  {
   "cell_type": "code",
   "execution_count": 53,
   "metadata": {
    "ExecuteTime": {
     "end_time": "2023-12-03T09:18:01.000677300Z",
     "start_time": "2023-12-03T09:18:00.978680400Z"
    },
    "collapsed": false
   },
   "outputs": [
    {
     "name": "stdout",
     "output_type": "stream",
     "text": [
      "Accuracy: 0.7333790587792857\n"
     ]
    }
   ],
   "source": [
    "print(f\"Accuracy: {accuracy}\")"
   ]
  }
 ],
 "metadata": {
  "kernelspec": {
   "display_name": "Python 3",
   "language": "python",
   "name": "python3"
  },
  "language_info": {
   "codemirror_mode": {
    "name": "ipython",
    "version": 3
   },
   "file_extension": ".py",
   "mimetype": "text/x-python",
   "name": "python",
   "nbconvert_exporter": "python",
   "pygments_lexer": "ipython3",
   "version": "3.11.5"
  },
  "vscode": {
   "interpreter": {
    "hash": "aee8b7b246df8f9039afb4144a1f6fd8d2ca17a180786b69acc140d282b71a49"
   }
  }
 },
 "nbformat": 4,
 "nbformat_minor": 2
}
